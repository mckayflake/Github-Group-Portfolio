{
 "cells": [
  {
   "cell_type": "markdown",
   "id": "678e604a-db9b-4a8a-aba3-77d2558d085a",
   "metadata": {},
   "source": [
    "# Modeling Assignment Group_10"
   ]
  },
  {
   "cell_type": "markdown",
   "id": "76a3a997-8568-49f9-b12d-aef5e3cae4f1",
   "metadata": {},
   "source": [
    "##  Submitted by: Raunak Sharma,Hunter Harmer,McKay Flake"
   ]
  },
  {
   "cell_type": "markdown",
   "id": "26badd91-442f-483d-b7ca-87a6bf8bc984",
   "metadata": {},
   "source": [
    "### Table of Contents\n",
    "\n",
    "1. [Introduction](#Introduction)\n",
    "   - [Analysis Questions](#Analysis-Questions)\n",
    "2. [Data Overview and Initial Exploration](#Data-Overview-and-Initial-Exploration)\n",
    "   - [Data Description](#Data-Description)\n",
    "3. [Exploratory Data Analysis](#Exploratory-Data-Analysis)     \n",
    "   - [Data Visualization](#Data-Visualization)\n",
    "   - [Initial Analysis and Feature Engineering](#Initial-Analysis-and-Feature-Engineering)\n",
    "   - [Initial Data Preprocessing](#Initial-Data-Preprocessing)\n",
    "   - [Model Development and Evaluation](#Model-Development-and-Evaluation)\n",
    "   - [Initial Model Selection and Training](#Initial-Model-Selection-and-Training)\n",
    "   - [Initial Model Evaluation](#Initial-Model-Evaluation)\n",
    "   - [Hyperparameter Tuning](#Hyperparameter-Tuning)\n",
    "   - [Final Analysis](#Final-Analysis)\n",
    "   - [Handling Missing Data](#Handling-Missing-Data)\n",
    "   - [Final Model Training and Evaluation](#Final-Model-Training-and-Evaluation)\n",
    "   - [Final Feature Engineering](#Final-Feature-Engineering)\n",
    "   - [Linear Regression](#Linear-Regression)\n",
    "   - [Random Forest Model](#Random-Forest-Model)\n",
    "   - [Modified XGBoost](#Modified-XGBoost)\n",
    "   - [Cross-Validation and Performance Metrics](#Cross-Validation-and-Metrics)     \n",
    "4. [Results and Summary](#Results-and-Summary)\n",
    "   - [Modeling Results Summary](#Modeling-Results-Summary)\n",
    "   - [Performance Metrics and Summary Table](#Performance-Metrics-and-Summary-Table)   \n",
    "5. [Alternative Approach: Classification Model](#Alternative-Approach-Classification-Model)\n",
    "   - [Introduction](#Alternative-Introduction)\n",
    "   - [Data Preparation](#Alternative-Data-Preparation)\n",
    "   - [Modeling Process](#Alternative-Modeling-Process)\n",
    "   - [Key Metrics](#Alternative-Key-Metrics)\n",
    "   - [Results](#Alternative-Results)\n",
    "6. [Questions And Answers](#Questions-And-Answers)  \n",
    "7. [Recommendations](#Recommendations)\n",
    "8. [Group member contributions](#Group-member-contributions)"
   ]
  },
  {
   "cell_type": "markdown",
   "id": "822f2bef-8bd4-4c96-a58d-f9f8c9e95635",
   "metadata": {},
   "source": [
    "## Introduction <a id=\"Introduction\"></a>"
   ]
  },
  {
   "cell_type": "markdown",
   "id": "309c1d86-ae61-46f2-9db1-f6198158ab03",
   "metadata": {},
   "source": [
    "### Objective\n",
    "This project aims to provide Swire Coca-Cola with a predictive maintenance framework that may help minimize unplanned machine downtimes, improve productivity, and reduce financial losses across their production plants. Focusing on ACTUAL_WORK_IN_MINUTES (downtime), which represents machine downtime duration, the analysis will seek to predict maintenance needs and inform preventive measures. Additionally, a classification component will assess whether upcoming maintenance is likely to be planned or unplanned, enabling early identification of high-risk events. Together, these models aim to support Swire Coca-Cola in proactively addressing machine failures, optimizing resource allocation, and enhancing operational efficiency across plants."
   ]
  },
  {
   "cell_type": "markdown",
   "id": "2b3dc7a1-e800-4ad8-a390-c102e19a208d",
   "metadata": {},
   "source": [
    "### Business and Analytic Problems\n",
    "Unplanned downtimes create significant disruptions, leading to operational delays and financial strain. From a business perspective, the primary challenge is identifying predictors of machine breakdowns—such as maintenance activity type (planned or unplanned), frequently problematic equipment, and specific locations with high downtime. Analytically, this requires identifying factors that contribute to both downtime duration and the likelihood of unplanned maintenance. With these insights, we aim to build a predictive model that addresses downtime while enabling Swire Coca-Cola to plan and allocate resources efficiently."
   ]
  },
  {
   "cell_type": "markdown",
   "id": "3c27c910-a403-4311-8392-5a1246fc1a85",
   "metadata": {},
   "source": [
    "### Approach and Model Selection\n",
    "Our analysis will follow a comprehensive approach to data preparation, feature engineering, and model development. Data cleaning and transformation steps will address missing values, high-cardinality variables, and date features, creating a robust dataset for analysis. Initial exploratory data analysis (EDA) will reveal patterns within predictors like EQUIPMENT_ID, MAINTENANCE_TYPE, and functional location, guiding feature selection and model design. We will test regression models, including Linear Regression, Random Forest, and XGBoost, to predict downtime duration, alongside a classification model to identify planned versus unplanned maintenance. Through cross-validation, we will evaluate model performance for reliability, and further optimize the top-performing model by minimizing mean squared error (MSE) and maximizing R²."
   ]
  },
  {
   "cell_type": "markdown",
   "id": "50e67c9c-5630-4db3-8eec-ace292549d4e",
   "metadata": {},
   "source": [
    "### Performance and Operational Efficiency\n",
    "Reducing unplanned downtimes has the potential to lessen operational disruptions and improve resource use. Following model evaluation, we will estimate potential cost savings and operational efficiency gains that may result from applying these predictive models. This approach aims to give Swire Coca-Cola an actionable, data-driven strategy for enhancing production continuity and resilience across facilities. Through predictive insights into downtime and maintenance type, Swire Coca-Cola may gain measurable improvements in operational efficiency and targeted maintenance planning."
   ]
  },
  {
   "cell_type": "markdown",
   "id": "f771b28c-fac6-4738-84c8-307ead0452b6",
   "metadata": {},
   "source": [
    "### Analysis Questions <a id=\"Analysis-Questions\"></a>"
   ]
  },
  {
   "cell_type": "markdown",
   "id": "d3bacd21-4588-4a2f-93d7-db165d7060cf",
   "metadata": {},
   "source": [
    "1. Identify a performance benchmark. What is a minimum threshold for model performance?\n",
    "2. Identify appropriate models to explore.\n",
    "3. Do additional data preparation and feature engineering as necessary.\n",
    "4. Perform cross-validation to develop performance metrics for each model, appropriate for the context.\n",
    "5. Optimize model performance with hyperparameter tuning, if appropriate.\n",
    "6. Evaluate the strengths and weaknesses of each model and select the best one.\n",
    "7. Perform business validation of the model. Are your results sufficient to solve the business problem?"
   ]
  },
  {
   "cell_type": "markdown",
   "id": "b2f821a8-098a-4df6-bcf7-7c1803bceb4a",
   "metadata": {},
   "source": [
    "## Data Overview and Initial Exploration <a id=\"Data-Overview-and-Initial-Exploration\"></a>"
   ]
  },
  {
   "cell_type": "markdown",
   "id": "2c05bacc-e109-4f71-b67b-ec8b17f478f1",
   "metadata": {},
   "source": [
    "### Load Libraries and Dataset"
   ]
  },
  {
   "cell_type": "code",
   "execution_count": 1,
   "id": "981eae49-8af8-44cf-bce7-b3816e55f318",
   "metadata": {},
   "outputs": [],
   "source": [
    "%%capture\n",
    "!pip install optuna"
   ]
  },
  {
   "cell_type": "code",
   "execution_count": 32,
   "id": "ef8cd1ab-f7c5-41e3-b182-8b6f060472d8",
   "metadata": {},
   "outputs": [],
   "source": [
    "import pandas as pd\n",
    "import numpy as np\n",
    "import optuna\n",
    "from sklearn.model_selection import train_test_split, cross_val_score, GridSearchCV\n",
    "from sklearn.ensemble import RandomForestRegressor, GradientBoostingRegressor\n",
    "from sklearn.linear_model import LinearRegression\n",
    "from xgboost import XGBRegressor\n",
    "from sklearn.pipeline import Pipeline\n",
    "from sklearn.compose import ColumnTransformer\n",
    "from sklearn.impute import SimpleImputer\n",
    "from sklearn.preprocessing import OneHotEncoder\n",
    "from sklearn.metrics import mean_squared_error, r2_score\n",
    "import matplotlib.pyplot as plt\n",
    "import seaborn as sns\n",
    "from sklearn.utils import resample"
   ]
  },
  {
   "cell_type": "code",
   "execution_count": 92,
   "id": "b9429074-d5eb-407e-8e0e-8a3fb0890dff",
   "metadata": {},
   "outputs": [],
   "source": [
    "from sklearn.preprocessing import LabelEncoder"
   ]
  },
  {
   "cell_type": "code",
   "execution_count": 5,
   "id": "16233a30-8c41-41ec-ac41-e4da9896d07e",
   "metadata": {},
   "outputs": [],
   "source": [
    "# Load the dataset with low_memory=False to reduce dtype warnings\n",
    "file_path = 'IWC_Work_Orders_Extract.csv'\n",
    "data = pd.read_csv(file_path, low_memory=False)\n",
    "\n",
    "# Cap the target variable at the 95th percentile to handle outliers\n",
    "y = data['ACTUAL_WORK_IN_MINUTES']\n",
    "cap_value = y.quantile(0.95)\n",
    "data['ACTUAL_WORK_IN_MINUTES'] = y.clip(upper=cap_value)\n"
   ]
  },
  {
   "cell_type": "markdown",
   "id": "c997e33c-11d9-4452-904a-9e02b18c53f5",
   "metadata": {},
   "source": [
    "### Inspecting the dataset"
   ]
  },
  {
   "cell_type": "code",
   "execution_count": 293,
   "id": "70b0a3ca-0f3d-4929-868b-7e14b2022cbb",
   "metadata": {},
   "outputs": [
    {
     "name": "stdout",
     "output_type": "stream",
     "text": [
      "<class 'pandas.core.frame.DataFrame'>\n",
      "RangeIndex: 1427264 entries, 0 to 1427263\n",
      "Data columns (total 25 columns):\n",
      " #   Column                           Non-Null Count    Dtype  \n",
      "---  ------                           --------------    -----  \n",
      " 0   ORDER_ID                         1427264 non-null  int64  \n",
      " 1   PLANT_ID                         1427264 non-null  object \n",
      " 2   PRODUCTION_LOCATION              1427264 non-null  object \n",
      " 3   EXECUTION_START_DATE             1427264 non-null  object \n",
      " 4   EXECUTION_FINISH_DATE            1427264 non-null  object \n",
      " 5   ACTUAL_START_TIME                1427264 non-null  object \n",
      " 6   ACTUAL_FINISH_TIME               1427264 non-null  object \n",
      " 7   ACTUAL_WORK_IN_MINUTES           1427264 non-null  float64\n",
      " 8   MAINTENANCE_PLAN                 152594 non-null   object \n",
      " 9   MAINTENANCE_ITEM                 152594 non-null   float64\n",
      " 10  MAINTENANCE_ACTIVITY_TYPE        1427264 non-null  object \n",
      " 11  ORDER_DESCRIPTION                291767 non-null   object \n",
      " 12  MAINTENANCE_TYPE_DESCRIPTION     291795 non-null   object \n",
      " 13  FUNCTIONAL_LOC                   291782 non-null   object \n",
      " 14  FUNCTIONAL_AREA_NODE_1_MODIFIED  290117 non-null   object \n",
      " 15  FUNCTIONAL_AREA_NODE_2_MODIFIED  282407 non-null   object \n",
      " 16  FUNCTIONAL_AREA_NODE_3_MODIFIED  258691 non-null   object \n",
      " 17  FUNCTIONAL_AREA_NODE_4_MODIFIED  237573 non-null   object \n",
      " 18  FUNCTIONAL_AREA_NODE_5_MODIFIED  2180 non-null     object \n",
      " 19  EQUIPMENT_ID                     291795 non-null   float64\n",
      " 20  EQUIPMENT_DESC                   79447 non-null    object \n",
      " 21  EQUIP_CAT_DESC                   79447 non-null    object \n",
      " 22  EQUIP_START_UP_DATE              79447 non-null    object \n",
      " 23  EQUIP_VALID_FROM                 79447 non-null    object \n",
      " 24  EQUIP_VALID_TO                   79447 non-null    object \n",
      "dtypes: float64(3), int64(1), object(21)\n",
      "memory usage: 272.2+ MB\n"
     ]
    }
   ],
   "source": [
    "df = pd.read_csv('IWC_Work_Orders_Extract.csv', low_memory=False)\n",
    "df.info()"
   ]
  },
  {
   "cell_type": "markdown",
   "id": "a6f21ae6-b4c8-48b1-9b02-aed92d69774b",
   "metadata": {},
   "source": [
    "*The dataset consists of 1,427,264 entries and 25 columns, with a mix of data types (categorical, numerical, and datetime). Critical operational columns such as ORDER_ID, ACTUAL_WORK_IN_MINUTES, and MAINTENANCE_ACTIVITY_TYPE are complete, but several columns related to maintenance and equipment, like EQUIPMENT_DESC and MAINTENANCE_ITEM, have significant missing data. The majority of columns are object types, indicating categorical data or date fields that may need parsing for further analysis.*"
   ]
  },
  {
   "cell_type": "code",
   "execution_count": 295,
   "id": "f63a40b2-7152-4ea1-a7fc-97ddc7669804",
   "metadata": {},
   "outputs": [
    {
     "data": {
      "text/html": [
       "<div>\n",
       "<style scoped>\n",
       "    .dataframe tbody tr th:only-of-type {\n",
       "        vertical-align: middle;\n",
       "    }\n",
       "\n",
       "    .dataframe tbody tr th {\n",
       "        vertical-align: top;\n",
       "    }\n",
       "\n",
       "    .dataframe thead th {\n",
       "        text-align: right;\n",
       "    }\n",
       "</style>\n",
       "<table border=\"1\" class=\"dataframe\">\n",
       "  <thead>\n",
       "    <tr style=\"text-align: right;\">\n",
       "      <th></th>\n",
       "      <th>ORDER_ID</th>\n",
       "      <th>PLANT_ID</th>\n",
       "      <th>PRODUCTION_LOCATION</th>\n",
       "      <th>EXECUTION_START_DATE</th>\n",
       "      <th>EXECUTION_FINISH_DATE</th>\n",
       "      <th>ACTUAL_START_TIME</th>\n",
       "      <th>ACTUAL_FINISH_TIME</th>\n",
       "      <th>ACTUAL_WORK_IN_MINUTES</th>\n",
       "      <th>MAINTENANCE_PLAN</th>\n",
       "      <th>MAINTENANCE_ITEM</th>\n",
       "      <th>...</th>\n",
       "      <th>FUNCTIONAL_AREA_NODE_2_MODIFIED</th>\n",
       "      <th>FUNCTIONAL_AREA_NODE_3_MODIFIED</th>\n",
       "      <th>FUNCTIONAL_AREA_NODE_4_MODIFIED</th>\n",
       "      <th>FUNCTIONAL_AREA_NODE_5_MODIFIED</th>\n",
       "      <th>EQUIPMENT_ID</th>\n",
       "      <th>EQUIPMENT_DESC</th>\n",
       "      <th>EQUIP_CAT_DESC</th>\n",
       "      <th>EQUIP_START_UP_DATE</th>\n",
       "      <th>EQUIP_VALID_FROM</th>\n",
       "      <th>EQUIP_VALID_TO</th>\n",
       "    </tr>\n",
       "  </thead>\n",
       "  <tbody>\n",
       "    <tr>\n",
       "      <th>count</th>\n",
       "      <td>1.427264e+06</td>\n",
       "      <td>1427264</td>\n",
       "      <td>1427264</td>\n",
       "      <td>1427264</td>\n",
       "      <td>1427264</td>\n",
       "      <td>1427264</td>\n",
       "      <td>1427264</td>\n",
       "      <td>1.427264e+06</td>\n",
       "      <td>152594</td>\n",
       "      <td>152594.000000</td>\n",
       "      <td>...</td>\n",
       "      <td>282407</td>\n",
       "      <td>258691</td>\n",
       "      <td>237573</td>\n",
       "      <td>2180</td>\n",
       "      <td>2.917950e+05</td>\n",
       "      <td>79447</td>\n",
       "      <td>79447</td>\n",
       "      <td>79447</td>\n",
       "      <td>79447</td>\n",
       "      <td>79447</td>\n",
       "    </tr>\n",
       "    <tr>\n",
       "      <th>unique</th>\n",
       "      <td>NaN</td>\n",
       "      <td>6</td>\n",
       "      <td>6</td>\n",
       "      <td>2956</td>\n",
       "      <td>2956</td>\n",
       "      <td>65927</td>\n",
       "      <td>61388</td>\n",
       "      <td>NaN</td>\n",
       "      <td>3308</td>\n",
       "      <td>NaN</td>\n",
       "      <td>...</td>\n",
       "      <td>67</td>\n",
       "      <td>141</td>\n",
       "      <td>86</td>\n",
       "      <td>36</td>\n",
       "      <td>NaN</td>\n",
       "      <td>807</td>\n",
       "      <td>4</td>\n",
       "      <td>92</td>\n",
       "      <td>137</td>\n",
       "      <td>1</td>\n",
       "    </tr>\n",
       "    <tr>\n",
       "      <th>top</th>\n",
       "      <td>NaN</td>\n",
       "      <td>G261</td>\n",
       "      <td>SILVERSTONE</td>\n",
       "      <td>2019-04-16</td>\n",
       "      <td>2019-04-16</td>\n",
       "      <td>00:00:00.000</td>\n",
       "      <td>00:00:00.000</td>\n",
       "      <td>NaN</td>\n",
       "      <td>000000022943</td>\n",
       "      <td>NaN</td>\n",
       "      <td>...</td>\n",
       "      <td>CAN LINE</td>\n",
       "      <td>LINE #4-FILLER_ROTARY_CAN</td>\n",
       "      <td>FILLER</td>\n",
       "      <td>FULL CAN TO ACCUMULATION TABLE</td>\n",
       "      <td>NaN</td>\n",
       "      <td>L1 FILLER_ROTARY_CAN_72_VALVE</td>\n",
       "      <td>Machines</td>\n",
       "      <td>2017-02-15</td>\n",
       "      <td>2017-02-15</td>\n",
       "      <td>9999-12-31</td>\n",
       "    </tr>\n",
       "    <tr>\n",
       "      <th>freq</th>\n",
       "      <td>NaN</td>\n",
       "      <td>630903</td>\n",
       "      <td>630903</td>\n",
       "      <td>936</td>\n",
       "      <td>934</td>\n",
       "      <td>212155</td>\n",
       "      <td>202920</td>\n",
       "      <td>NaN</td>\n",
       "      <td>1327</td>\n",
       "      <td>NaN</td>\n",
       "      <td>...</td>\n",
       "      <td>34208</td>\n",
       "      <td>35834</td>\n",
       "      <td>46322</td>\n",
       "      <td>251</td>\n",
       "      <td>NaN</td>\n",
       "      <td>3745</td>\n",
       "      <td>79224</td>\n",
       "      <td>53650</td>\n",
       "      <td>32713</td>\n",
       "      <td>79447</td>\n",
       "    </tr>\n",
       "    <tr>\n",
       "      <th>mean</th>\n",
       "      <td>4.561470e+10</td>\n",
       "      <td>NaN</td>\n",
       "      <td>NaN</td>\n",
       "      <td>NaN</td>\n",
       "      <td>NaN</td>\n",
       "      <td>NaN</td>\n",
       "      <td>NaN</td>\n",
       "      <td>8.862968e+01</td>\n",
       "      <td>NaN</td>\n",
       "      <td>115846.807954</td>\n",
       "      <td>...</td>\n",
       "      <td>NaN</td>\n",
       "      <td>NaN</td>\n",
       "      <td>NaN</td>\n",
       "      <td>NaN</td>\n",
       "      <td>3.002609e+08</td>\n",
       "      <td>NaN</td>\n",
       "      <td>NaN</td>\n",
       "      <td>NaN</td>\n",
       "      <td>NaN</td>\n",
       "      <td>NaN</td>\n",
       "    </tr>\n",
       "    <tr>\n",
       "      <th>std</th>\n",
       "      <td>8.387114e+10</td>\n",
       "      <td>NaN</td>\n",
       "      <td>NaN</td>\n",
       "      <td>NaN</td>\n",
       "      <td>NaN</td>\n",
       "      <td>NaN</td>\n",
       "      <td>NaN</td>\n",
       "      <td>8.037915e+02</td>\n",
       "      <td>NaN</td>\n",
       "      <td>71325.255687</td>\n",
       "      <td>...</td>\n",
       "      <td>NaN</td>\n",
       "      <td>NaN</td>\n",
       "      <td>NaN</td>\n",
       "      <td>NaN</td>\n",
       "      <td>5.581645e+06</td>\n",
       "      <td>NaN</td>\n",
       "      <td>NaN</td>\n",
       "      <td>NaN</td>\n",
       "      <td>NaN</td>\n",
       "      <td>NaN</td>\n",
       "    </tr>\n",
       "    <tr>\n",
       "      <th>min</th>\n",
       "      <td>1.000219e+08</td>\n",
       "      <td>NaN</td>\n",
       "      <td>NaN</td>\n",
       "      <td>NaN</td>\n",
       "      <td>NaN</td>\n",
       "      <td>NaN</td>\n",
       "      <td>NaN</td>\n",
       "      <td>0.000000e+00</td>\n",
       "      <td>NaN</td>\n",
       "      <td>39801.000000</td>\n",
       "      <td>...</td>\n",
       "      <td>NaN</td>\n",
       "      <td>NaN</td>\n",
       "      <td>NaN</td>\n",
       "      <td>NaN</td>\n",
       "      <td>2.000871e+08</td>\n",
       "      <td>NaN</td>\n",
       "      <td>NaN</td>\n",
       "      <td>NaN</td>\n",
       "      <td>NaN</td>\n",
       "      <td>NaN</td>\n",
       "    </tr>\n",
       "    <tr>\n",
       "      <th>25%</th>\n",
       "      <td>4.022602e+08</td>\n",
       "      <td>NaN</td>\n",
       "      <td>NaN</td>\n",
       "      <td>NaN</td>\n",
       "      <td>NaN</td>\n",
       "      <td>NaN</td>\n",
       "      <td>NaN</td>\n",
       "      <td>1.200000e+01</td>\n",
       "      <td>NaN</td>\n",
       "      <td>41046.000000</td>\n",
       "      <td>...</td>\n",
       "      <td>NaN</td>\n",
       "      <td>NaN</td>\n",
       "      <td>NaN</td>\n",
       "      <td>NaN</td>\n",
       "      <td>3.000092e+08</td>\n",
       "      <td>NaN</td>\n",
       "      <td>NaN</td>\n",
       "      <td>NaN</td>\n",
       "      <td>NaN</td>\n",
       "      <td>NaN</td>\n",
       "    </tr>\n",
       "    <tr>\n",
       "      <th>50%</th>\n",
       "      <td>7.044271e+08</td>\n",
       "      <td>NaN</td>\n",
       "      <td>NaN</td>\n",
       "      <td>NaN</td>\n",
       "      <td>NaN</td>\n",
       "      <td>NaN</td>\n",
       "      <td>NaN</td>\n",
       "      <td>4.800000e+01</td>\n",
       "      <td>NaN</td>\n",
       "      <td>112995.000000</td>\n",
       "      <td>...</td>\n",
       "      <td>NaN</td>\n",
       "      <td>NaN</td>\n",
       "      <td>NaN</td>\n",
       "      <td>NaN</td>\n",
       "      <td>3.000178e+08</td>\n",
       "      <td>NaN</td>\n",
       "      <td>NaN</td>\n",
       "      <td>NaN</td>\n",
       "      <td>NaN</td>\n",
       "      <td>NaN</td>\n",
       "    </tr>\n",
       "    <tr>\n",
       "      <th>75%</th>\n",
       "      <td>1.002343e+09</td>\n",
       "      <td>NaN</td>\n",
       "      <td>NaN</td>\n",
       "      <td>NaN</td>\n",
       "      <td>NaN</td>\n",
       "      <td>NaN</td>\n",
       "      <td>NaN</td>\n",
       "      <td>9.000000e+01</td>\n",
       "      <td>NaN</td>\n",
       "      <td>134702.000000</td>\n",
       "      <td>...</td>\n",
       "      <td>NaN</td>\n",
       "      <td>NaN</td>\n",
       "      <td>NaN</td>\n",
       "      <td>NaN</td>\n",
       "      <td>3.000269e+08</td>\n",
       "      <td>NaN</td>\n",
       "      <td>NaN</td>\n",
       "      <td>NaN</td>\n",
       "      <td>NaN</td>\n",
       "      <td>NaN</td>\n",
       "    </tr>\n",
       "    <tr>\n",
       "      <th>max</th>\n",
       "      <td>9.000001e+11</td>\n",
       "      <td>NaN</td>\n",
       "      <td>NaN</td>\n",
       "      <td>NaN</td>\n",
       "      <td>NaN</td>\n",
       "      <td>NaN</td>\n",
       "      <td>NaN</td>\n",
       "      <td>3.301848e+05</td>\n",
       "      <td>NaN</td>\n",
       "      <td>346352.000000</td>\n",
       "      <td>...</td>\n",
       "      <td>NaN</td>\n",
       "      <td>NaN</td>\n",
       "      <td>NaN</td>\n",
       "      <td>NaN</td>\n",
       "      <td>4.000290e+08</td>\n",
       "      <td>NaN</td>\n",
       "      <td>NaN</td>\n",
       "      <td>NaN</td>\n",
       "      <td>NaN</td>\n",
       "      <td>NaN</td>\n",
       "    </tr>\n",
       "  </tbody>\n",
       "</table>\n",
       "<p>11 rows × 25 columns</p>\n",
       "</div>"
      ],
      "text/plain": [
       "            ORDER_ID PLANT_ID PRODUCTION_LOCATION EXECUTION_START_DATE  \\\n",
       "count   1.427264e+06  1427264             1427264              1427264   \n",
       "unique           NaN        6                   6                 2956   \n",
       "top              NaN     G261         SILVERSTONE           2019-04-16   \n",
       "freq             NaN   630903              630903                  936   \n",
       "mean    4.561470e+10      NaN                 NaN                  NaN   \n",
       "std     8.387114e+10      NaN                 NaN                  NaN   \n",
       "min     1.000219e+08      NaN                 NaN                  NaN   \n",
       "25%     4.022602e+08      NaN                 NaN                  NaN   \n",
       "50%     7.044271e+08      NaN                 NaN                  NaN   \n",
       "75%     1.002343e+09      NaN                 NaN                  NaN   \n",
       "max     9.000001e+11      NaN                 NaN                  NaN   \n",
       "\n",
       "       EXECUTION_FINISH_DATE ACTUAL_START_TIME ACTUAL_FINISH_TIME  \\\n",
       "count                1427264           1427264            1427264   \n",
       "unique                  2956             65927              61388   \n",
       "top               2019-04-16      00:00:00.000       00:00:00.000   \n",
       "freq                     934            212155             202920   \n",
       "mean                     NaN               NaN                NaN   \n",
       "std                      NaN               NaN                NaN   \n",
       "min                      NaN               NaN                NaN   \n",
       "25%                      NaN               NaN                NaN   \n",
       "50%                      NaN               NaN                NaN   \n",
       "75%                      NaN               NaN                NaN   \n",
       "max                      NaN               NaN                NaN   \n",
       "\n",
       "        ACTUAL_WORK_IN_MINUTES MAINTENANCE_PLAN  MAINTENANCE_ITEM  ...  \\\n",
       "count             1.427264e+06           152594     152594.000000  ...   \n",
       "unique                     NaN             3308               NaN  ...   \n",
       "top                        NaN     000000022943               NaN  ...   \n",
       "freq                       NaN             1327               NaN  ...   \n",
       "mean              8.862968e+01              NaN     115846.807954  ...   \n",
       "std               8.037915e+02              NaN      71325.255687  ...   \n",
       "min               0.000000e+00              NaN      39801.000000  ...   \n",
       "25%               1.200000e+01              NaN      41046.000000  ...   \n",
       "50%               4.800000e+01              NaN     112995.000000  ...   \n",
       "75%               9.000000e+01              NaN     134702.000000  ...   \n",
       "max               3.301848e+05              NaN     346352.000000  ...   \n",
       "\n",
       "       FUNCTIONAL_AREA_NODE_2_MODIFIED FUNCTIONAL_AREA_NODE_3_MODIFIED  \\\n",
       "count                           282407                          258691   \n",
       "unique                              67                             141   \n",
       "top                           CAN LINE       LINE #4-FILLER_ROTARY_CAN   \n",
       "freq                             34208                           35834   \n",
       "mean                               NaN                             NaN   \n",
       "std                                NaN                             NaN   \n",
       "min                                NaN                             NaN   \n",
       "25%                                NaN                             NaN   \n",
       "50%                                NaN                             NaN   \n",
       "75%                                NaN                             NaN   \n",
       "max                                NaN                             NaN   \n",
       "\n",
       "       FUNCTIONAL_AREA_NODE_4_MODIFIED FUNCTIONAL_AREA_NODE_5_MODIFIED  \\\n",
       "count                           237573                            2180   \n",
       "unique                              86                              36   \n",
       "top                             FILLER  FULL CAN TO ACCUMULATION TABLE   \n",
       "freq                             46322                             251   \n",
       "mean                               NaN                             NaN   \n",
       "std                                NaN                             NaN   \n",
       "min                                NaN                             NaN   \n",
       "25%                                NaN                             NaN   \n",
       "50%                                NaN                             NaN   \n",
       "75%                                NaN                             NaN   \n",
       "max                                NaN                             NaN   \n",
       "\n",
       "        EQUIPMENT_ID                 EQUIPMENT_DESC EQUIP_CAT_DESC  \\\n",
       "count   2.917950e+05                          79447          79447   \n",
       "unique           NaN                            807              4   \n",
       "top              NaN  L1 FILLER_ROTARY_CAN_72_VALVE       Machines   \n",
       "freq             NaN                           3745          79224   \n",
       "mean    3.002609e+08                            NaN            NaN   \n",
       "std     5.581645e+06                            NaN            NaN   \n",
       "min     2.000871e+08                            NaN            NaN   \n",
       "25%     3.000092e+08                            NaN            NaN   \n",
       "50%     3.000178e+08                            NaN            NaN   \n",
       "75%     3.000269e+08                            NaN            NaN   \n",
       "max     4.000290e+08                            NaN            NaN   \n",
       "\n",
       "       EQUIP_START_UP_DATE EQUIP_VALID_FROM  EQUIP_VALID_TO  \n",
       "count                79447            79447           79447  \n",
       "unique                  92              137               1  \n",
       "top             2017-02-15       2017-02-15      9999-12-31  \n",
       "freq                 53650            32713           79447  \n",
       "mean                   NaN              NaN             NaN  \n",
       "std                    NaN              NaN             NaN  \n",
       "min                    NaN              NaN             NaN  \n",
       "25%                    NaN              NaN             NaN  \n",
       "50%                    NaN              NaN             NaN  \n",
       "75%                    NaN              NaN             NaN  \n",
       "max                    NaN              NaN             NaN  \n",
       "\n",
       "[11 rows x 25 columns]"
      ]
     },
     "execution_count": 295,
     "metadata": {},
     "output_type": "execute_result"
    }
   ],
   "source": [
    "#summary statistics\n",
    "df.describe(include='all')"
   ]
  },
  {
   "cell_type": "markdown",
   "id": "f8a2909e-c680-43ab-96b2-646ba24b6de5",
   "metadata": {},
   "source": [
    "### Data Description <a id=\"Data-Description\"></a>"
   ]
  },
  {
   "cell_type": "markdown",
   "id": "ed17c7dc-3e1c-4a19-9355-f6419e330ffd",
   "metadata": {},
   "source": [
    "*The data provided for this project comes from Swire Coca-Cola's internal system, IWC, which tracks equipment breakdowns. The dataset contains maintenance records with key features such as plant ID, equipment ID, execution date, work duration, and type of maintenance. It is a large dataset with over 1.4 million records. The case description notes that the \"actual working minutes\" is the most reliable variable for determining the time spent on repairs, as the \"actual start time\" and \"actual end time\" can be inaccurate in certain situations.*"
   ]
  },
  {
   "cell_type": "markdown",
   "id": "9ef8655c-dc84-4ddd-ab32-dfef33054598",
   "metadata": {},
   "source": [
    "## Exploratory Data Analysis <a id=\"Exploratory-Data-Analysis\"></a>"
   ]
  },
  {
   "cell_type": "markdown",
   "id": "a3643ee5-3d31-4287-a864-49e637ae49d0",
   "metadata": {},
   "source": [
    "## Data Visualization <a id=\"Data-Visualization\"></a>"
   ]
  },
  {
   "cell_type": "markdown",
   "id": "d2b1c3ec-b0a7-404a-b253-653929c947f9",
   "metadata": {},
   "source": [
    "### Unplanned Maintenance by Machine Age"
   ]
  },
  {
   "cell_type": "markdown",
   "id": "4c782634-635c-44af-be3f-14a099679e13",
   "metadata": {},
   "source": [
    "**Whether older machines are more likely to experience unplanned maintenance**"
   ]
  },
  {
   "cell_type": "code",
   "execution_count": 297,
   "id": "b1e4bd1b-566f-44fe-87a7-ec9aae7cf43f",
   "metadata": {},
   "outputs": [
    {
     "data": {
      "image/png": "[encoded data removed]",
      "text/plain": [
       "<Figure size 1000x700 with 1 Axes>"
      ]
     },
     "metadata": {},
     "output_type": "display_data"
    }
   ],
   "source": [
    "# Create a copy for this specific analysis\n",
    "df_copy1 = df.copy()\n",
    "\n",
    "# Convert EQUIP_START_UP_DATE to datetime and calculate machine age in years\n",
    "df_copy1['EQUIP_START_UP_DATE'] = pd.to_datetime(df_copy1['EQUIP_START_UP_DATE'], errors='coerce')\n",
    "df_copy1['MACHINE_AGE_YEARS'] = (pd.Timestamp.now() - df_copy1['EQUIP_START_UP_DATE']).dt.days / 365\n",
    "\n",
    "# Filter for unplanned maintenance events and group by machine age bins\n",
    "unplanned = df_copy1[df_copy1['MAINTENANCE_ACTIVITY_TYPE'] == 'Unplanned']\n",
    "age_bins = pd.cut(unplanned['MACHINE_AGE_YEARS'], bins=10)\n",
    "unplanned_by_age = unplanned.groupby(age_bins, observed=False).size()  # Set observed=False\n",
    "\n",
    "# Plot the data\n",
    "plt.figure(figsize=(10, 7))\n",
    "unplanned_by_age.plot(kind='bar', color='steelblue')\n",
    "plt.title('Unplanned Maintenance by Machine Age')\n",
    "plt.xlabel('Machine Age (Years)')\n",
    "plt.ylabel('Unplanned Maintenance Events')\n",
    "plt.xticks(rotation=45)\n",
    "plt.tight_layout()\n",
    "plt.show()\n"
   ]
  },
  {
   "cell_type": "markdown",
   "id": "39804e1d-a15c-46b4-9823-b71f3da7dbd7",
   "metadata": {},
   "source": [
    "*The above bar chart and summary table shows that younger machines (0.3 to 6 years old) experience more unplanned maintenance than older ones. This suggests that predictive maintenance efforts might be more effective if focused on older machines with established maintenance protocols.*"
   ]
  },
  {
   "cell_type": "markdown",
   "id": "997fdbca-cf41-4c48-af8a-ad9a1275075d",
   "metadata": {},
   "source": [
    "### Functional locations that experience the highest downtime"
   ]
  },
  {
   "cell_type": "code",
   "execution_count": 305,
   "id": "89fe0674-8a35-47ab-baba-4c1cf39f3990",
   "metadata": {},
   "outputs": [
    {
     "data": {
      "image/png": "[encoded data removed]",
      "text/plain": [
       "<Figure size 1000x600 with 1 Axes>"
      ]
     },
     "metadata": {},
     "output_type": "display_data"
    }
   ],
   "source": [
    "# Top 10 Functional Locations by Downtime using steelblue color palette\n",
    "downtime_by_functional_loc = df.groupby('FUNCTIONAL_LOC')['ACTUAL_WORK_IN_MINUTES'].sum().reset_index()\n",
    "downtime_by_functional_loc_sorted = downtime_by_functional_loc.sort_values('ACTUAL_WORK_IN_MINUTES', ascending=False)\n",
    "\n",
    "plt.figure(figsize=(10,6))\n",
    "sns.barplot(x='FUNCTIONAL_LOC', y='ACTUAL_WORK_IN_MINUTES', data=downtime_by_functional_loc_sorted.head(10), color='steelblue')\n",
    "plt.title('Top 10 Functional Locations by Downtime')\n",
    "plt.xlabel('Functional Location')\n",
    "plt.ylabel('Total Downtime (Minutes)')\n",
    "plt.xticks(rotation=45)\n",
    "plt.tight_layout()\n",
    "plt.show()"
   ]
  },
  {
   "cell_type": "markdown",
   "id": "4296ce82-93d9-41f3-a6fc-2935740fd31b",
   "metadata": {},
   "source": [
    "*The bar chart shows the Top 10 Functional Locations by downtime, with G812-PRD having the highest total downtime, exceeding 700,000 minutes. Several other locations, such as G816-PRD-L15-103-1080 and G812-PRD-A25, also have significant downtimes, but none come close to G812-PRD. The distribution indicates that specific locations have much higher downtime, which may warrant further investigation into their maintenance processes or equipment issues.*"
   ]
  },
  {
   "cell_type": "markdown",
   "id": "cba4dbb1-a72e-4ada-9353-4b6ddf28d57e",
   "metadata": {},
   "source": [
    "### Distribution of Downtime and Box Plot"
   ]
  },
  {
   "cell_type": "code",
   "execution_count": 38,
   "id": "c7faa749-f47f-4c56-85a1-deff1098929e",
   "metadata": {},
   "outputs": [
    {
     "data": {
      "image/png": "[encoded data removed]",
      "text/plain": [
       "<Figure size 1000x600 with 1 Axes>"
      ]
     },
     "metadata": {},
     "output_type": "display_data"
    }
   ],
   "source": [
    "# Histogram of downtime\n",
    "plt.figure(figsize=(10, 6))\n",
    "plt.hist(data['ACTUAL_WORK_IN_MINUTES'], bins=50, color='skyblue', edgecolor='black')\n",
    "plt.title('Distribution of Downtime (Minutes)')\n",
    "plt.xlabel('Downtime in Minutes')\n",
    "plt.ylabel('Frequency')\n",
    "plt.savefig(\"Downtime in Minutes histrogram.png\", format=\"png\", dpi=300, bbox_inches=\"tight\")\n",
    "plt.show()\n"
   ]
  },
  {
   "cell_type": "markdown",
   "id": "bcddbc6a-f84c-4fe4-bd79-2244b03af718",
   "metadata": {},
   "source": [
    "*The histogram shows the distribution of downtime in minutes, revealing a highly skewed pattern. Most downtime events are short, with a large peak near zero, indicating that the majority of downtime durations are brief. There are some periodic peaks across the distribution, suggesting possible common intervals or specific maintenance protocols. A notable number of downtimes reach the upper limit around 250 minutes, possibly due to capping or outliers. The skewness and high frequency of short downtimes suggest that models may benefit from log transformations to handle the data distribution effectively.*"
   ]
  },
  {
   "cell_type": "markdown",
   "id": "03e0bf2f-bde0-4f4f-8006-f72456e370a4",
   "metadata": {},
   "source": [
    "**Q:**\n",
    "*What is the overall spread of downtime values? Are there any skewness or outliers?*\n",
    "\n",
    "**A:** \n",
    "*The overall spread of downtime values is highly right-skewed, with a concentration of events at shorter durations. Most downtimes fall within the lower range, with a large peak near zero minutes, indicating that short downtimes are common. The histogram shows occasional peaks at specific intervals, which may imply common durations for certain types of maintenance or repairs.*\n",
    "\n",
    "*There are also outliers at the upper end, particularly around 250 minutes, where downtime values seem capped or may represent extreme cases. The skewness and presence of high outliers suggest that applying a log transformation or other scaling technique could help stabilize the distribution and improve model performance.*"
   ]
  },
  {
   "cell_type": "code",
   "execution_count": 36,
   "id": "3ef29dc2-821a-4614-890f-e3ef7354c606",
   "metadata": {},
   "outputs": [
    {
     "data": {
      "image/png": "[encoded data removed]",
      "text/plain": [
       "<Figure size 1000x600 with 1 Axes>"
      ]
     },
     "metadata": {},
     "output_type": "display_data"
    }
   ],
   "source": [
    "# Box plot of downtime\n",
    "plt.figure(figsize=(10, 6))\n",
    "sns.boxplot(data['ACTUAL_WORK_IN_MINUTES'], color='lightcoral')\n",
    "plt.title('Box Plot of Downtime (Minutes)')\n",
    "plt.xlabel('Downtime in Minutes')\n",
    "plt.savefig(\"Downtime in Minutes box plot.png\", format=\"png\", dpi=300, bbox_inches=\"tight\")\n",
    "plt.show()\n"
   ]
  },
  {
   "cell_type": "markdown",
   "id": "0dae233f-e956-424c-885f-80386525f06b",
   "metadata": {},
   "source": [
    "*The box plot of downtime in minutes shows a right-skewed distribution with a large number of outliers. The median downtime is around 50 minutes, with most values falling between 0 and 100 minutes. The upper whisker extends close to the 250-minute mark, indicating significant variability in longer downtimes. The presence of many high outliers suggests that some downtimes are unusually long compared to the rest, which may affect the mean and could benefit from further analysis or transformation to reduce skewness.*"
   ]
  },
  {
   "cell_type": "markdown",
   "id": "1c060fec-88ec-4c71-849f-63bb46fb5e3e",
   "metadata": {},
   "source": [
    "**Q:** \n",
    "*Are there outliers in downtime values?*\n",
    "\n",
    "**A:** \n",
    "*Yes, there are outliers in the downtime values. In the box plot, outliers are indicated by data points beyond the upper whisker, which extends close to 250 minutes. These outliers represent unusually long downtime durations compared to the majority of values, which lie below 100 minutes. The presence of these high outliers suggests that downtime distribution is skewed, with some extreme values that may require attention, such as transformation or handling, to improve model performance and interpretation.*"
   ]
  },
  {
   "cell_type": "markdown",
   "id": "547488e2-c83e-4472-9f33-12e30735c42c",
   "metadata": {},
   "source": [
    "## Initial Analysis and Feature Engineering <a id=\"Initial-Analysis-and-Feature-Engineering\"></a>"
   ]
  },
  {
   "cell_type": "markdown",
   "id": "d1a5f2d0-2bf7-457d-8cc3-6d577eac7fd4",
   "metadata": {},
   "source": [
    "### Initial Feature Engineering"
   ]
  },
  {
   "cell_type": "code",
   "execution_count": null,
   "id": "7e6705c8-92d6-41c4-953e-ddf850bd21b8",
   "metadata": {},
   "outputs": [],
   "source": [
    "# Engineered Feature Visualization – Month and Weekday\n",
    "# Analyzing downtime by month and weekday helps reveal potential patterns, such as increased maintenance on certain days."
   ]
  },
  {
   "cell_type": "markdown",
   "id": "414af2ec-3bbf-4153-b1ea-3f86cb45a38e",
   "metadata": {},
   "source": [
    "### Distribution of Downtime by Month and Week "
   ]
  },
  {
   "cell_type": "code",
   "execution_count": 76,
   "id": "9adbe18a-ed4d-4d75-9f97-bc73dd6cc473",
   "metadata": {},
   "outputs": [
    {
     "data": {
      "image/png": "[encoded data removed]",
      "text/plain": [
       "<Figure size 1200x600 with 1 Axes>"
      ]
     },
     "metadata": {},
     "output_type": "display_data"
    },
    {
     "data": {
      "image/png": "[encoded data removed]",
      "text/plain": [
       "<Figure size 1200x600 with 1 Axes>"
      ]
     },
     "metadata": {},
     "output_type": "display_data"
    }
   ],
   "source": [
    "# Convert EXECUTION_START_DATE to datetime and extract month and weekday if not already done\n",
    "if 'EXECUTION_START_DATE' in data.columns:\n",
    "    data['EXECUTION_START_DATE'] = pd.to_datetime(data['EXECUTION_START_DATE'], errors='coerce')\n",
    "    data['START_MONTH'] = data['EXECUTION_START_DATE'].dt.month\n",
    "    data['START_WEEKDAY'] = data['EXECUTION_START_DATE'].dt.weekday\n",
    "\n",
    "# Plot downtime by month with steel blue color\n",
    "plt.figure(figsize=(12, 6))\n",
    "sns.countplot(x='START_MONTH', data=data, color=\"#4682B4\", legend=False)\n",
    "plt.title('Distribution of Downtime by Month', color=\"steelblue\", fontsize=14)\n",
    "plt.xlabel('Month')\n",
    "plt.ylabel('Frequency')\n",
    "plt.savefig(\"downtime_by_month.png\", format=\"png\", dpi=300, bbox_inches=\"tight\")\n",
    "plt.show()\n",
    "\n",
    "# Plot downtime by weekday with steel blue color\n",
    "plt.figure(figsize=(12, 6))\n",
    "sns.countplot(x='START_WEEKDAY', data=data, color=\"#4682B4\", legend=False)\n",
    "plt.title('Distribution of Downtime by Weekday', color=\"steelblue\", fontsize=14)\n",
    "plt.xlabel('Weekday (0 = Monday)')\n",
    "plt.ylabel('Frequency')\n",
    "plt.savefig(\"downtime_by_weekday.png\", format=\"png\", dpi=300, bbox_inches=\"tight\")\n",
    "plt.show()\n"
   ]
  },
  {
   "cell_type": "markdown",
   "id": "c78edbde-2c12-4871-ae2b-c92534763068",
   "metadata": {},
   "source": [
    "**Distribution of Downtime by Month**\n",
    "*The bar chart shows the distribution of downtime events across different months of the year. Downtime appears relatively evenly distributed throughout the year, with each month experiencing similar frequencies of downtime events. However, there is a slight peak in August (month 8), suggesting that downtime events may be marginally higher during this month. Overall, no extreme monthly variation is observed, indicating that downtime events do not heavily fluctuate based on the time of year and may be influenced by other factors.*"
   ]
  },
  {
   "cell_type": "markdown",
   "id": "d6cd46c6-e317-47a2-94a1-9dd9cd0884e5",
   "metadata": {},
   "source": [
    "**Distribution of Downtime by Weekday**\n",
    "*The bar chart illustrates the distribution of downtime events across weekdays. Downtime is highest from Monday (0) through Thursday (3), with a noticeable decrease on Friday (4) and a significant drop during the weekend, particularly on Saturday (5) and Sunday (6). This pattern suggests that downtime is more likely to occur on weekdays, potentially aligning with higher operational activity during standard working days. The reduced downtime on weekends could reflect lower usage or maintenance schedules, indicating that downtime patterns are influenced by the workweek.*"
   ]
  },
  {
   "cell_type": "markdown",
   "id": "041bf151-a52b-4247-9542-7b3a12ae96bf",
   "metadata": {},
   "source": [
    "**Q:**\n",
    "Are there patterns in downtime based on month or day of the week?\n",
    "\n",
    "**A:** \n",
    "*Yes, there are observable patterns in downtime based on both the month and day of the week:*\n",
    "\n",
    "**By Month:**\n",
    "*The distribution of downtime events is relatively consistent across all months, with only slight variations. However, there is a marginal increase in downtime during August, suggesting a slight seasonal effect. Overall, the month does not appear to strongly influence downtime frequency, as there are no drastic peaks or troughs.*\n",
    "\n",
    "**By Day of the Week:**\n",
    "*There is a clear pattern in downtime distribution across the weekdays. Downtime events are highest from Monday to Thursday, then decrease on Friday, and drop significantly over the weekend (Saturday and Sunday).*\n",
    "*This pattern suggests that downtime is more likely to occur during the traditional workweek, potentially due to increased operational activities and usage, while weekends see reduced downtime, likely due to lower activity levels or scheduled maintenance.*\n",
    "\n",
    "*In summary, while monthly variations in downtime are minimal, there is a pronounced weekly pattern, with downtime concentrated on weekdays and significantly lower on weekends.*"
   ]
  },
  {
   "cell_type": "markdown",
   "id": "8d6a154e-2b6a-4f98-ad1f-8ed740b1eee4",
   "metadata": {},
   "source": [
    "### Initial Analysis  <a id=\"Initial-Analysis\"></a>"
   ]
  },
  {
   "cell_type": "markdown",
   "id": "bae86c6b-9a6e-4a6e-91e3-444ef3bfcd10",
   "metadata": {},
   "source": [
    "###  Initial Data Preprocessing <a id=\"Initial-Data-Preprocessing\"></a>"
   ]
  },
  {
   "cell_type": "code",
   "execution_count": 90,
   "id": "d6264982-3bc4-4fe8-b523-ea4889a15cbf",
   "metadata": {},
   "outputs": [],
   "source": [
    "# Identify categorical and numerical columns\n",
    "categorical_cols = X.select_dtypes(include=['object']).columns\n",
    "numerical_cols = X.select_dtypes(include=['number']).columns\n",
    "\n",
    "# Define a ColumnTransformer for preprocessing\n",
    "preprocessor = ColumnTransformer(\n",
    "    transformers=[\n",
    "        ('num', SimpleImputer(strategy='mean'), numerical_cols),\n",
    "        ('cat', Pipeline([\n",
    "            ('imputer', SimpleImputer(strategy='most_frequent')),\n",
    "            ('encoder', OneHotEncoder(handle_unknown='ignore'))\n",
    "        ]), categorical_cols)\n",
    "    ],\n",
    "    remainder='passthrough'\n",
    ")\n"
   ]
  },
  {
   "cell_type": "markdown",
   "id": "55857ba0-0245-4f11-ac7f-b725e9314b83",
   "metadata": {},
   "source": [
    "###  Spliting the Data"
   ]
  },
  {
   "cell_type": "code",
   "execution_count": 12,
   "id": "b4367dd0-4c07-4436-ae49-70a4103349dc",
   "metadata": {},
   "outputs": [],
   "source": [
    "# Split the data into training and test sets\n",
    "X_train, X_test, y_train, y_test = train_test_split(X, y_capped, test_size=0.2, random_state=42)"
   ]
  },
  {
   "cell_type": "markdown",
   "id": "18c00505-07ad-4eba-b5da-8b07ae489653",
   "metadata": {},
   "source": [
    "##  Model Development and Evaluation <a id=\"Model-Development-and-Evaluation\"></a>"
   ]
  },
  {
   "cell_type": "markdown",
   "id": "2b67fcdc-7122-4345-9d1e-c36d1cfc72d3",
   "metadata": {},
   "source": [
    "### Define and Evaluate Multiple Models"
   ]
  },
  {
   "cell_type": "code",
   "execution_count": 14,
   "id": "ce4c6443-59f7-4268-90ce-2df7b8a041f0",
   "metadata": {},
   "outputs": [],
   "source": [
    "# Define different models to evaluate\n",
    "models = {\n",
    "    'Linear Regression': Pipeline(steps=[('preprocessor', preprocessor), ('regressor', LinearRegression())]),\n",
    "    'Random Forest': Pipeline(steps=[('preprocessor', preprocessor), ('regressor', RandomForestRegressor(random_state=42))]),\n",
    "    'Gradient Boosting': Pipeline(steps=[('preprocessor', preprocessor), ('regressor', GradientBoostingRegressor(random_state=42))]),\n",
    "    'XGBoost': Pipeline(steps=[('preprocessor', preprocessor), ('regressor', XGBRegressor(random_state=42))])\n",
    "}\n"
   ]
  },
  {
   "cell_type": "markdown",
   "id": "2cec2333-e0a2-4c95-9052-37874166e9b3",
   "metadata": {},
   "source": [
    "##  Initial Model Selection and Training <a id=\"Initial-Model-Selection-and-Training\"></a>"
   ]
  },
  {
   "cell_type": "markdown",
   "id": "e8818641-8769-42b1-a5bf-e26595fc12bb",
   "metadata": {},
   "source": [
    "### Training model using 1000 samples"
   ]
  },
  {
   "cell_type": "code",
   "execution_count": 56,
   "id": "66735489-a259-41ff-b61d-b074f7990a1d",
   "metadata": {},
   "outputs": [
    {
     "name": "stdout",
     "output_type": "stream",
     "text": [
      "Linear Regression took 3.93 seconds\n",
      "Random Forest took 17.76 seconds\n",
      "Gradient Boosting took 4.43 seconds\n",
      "XGBoost took 4.54 seconds\n"
     ]
    }
   ],
   "source": [
    "import time\n",
    "from sklearn.utils import resample\n",
    "\n",
    "# Take a random sample (e.g.1000 samples) for faster training during model selection\n",
    "X_sample, y_sample = resample(X_train, y_train, n_samples=1000, random_state=42)\n",
    "\n",
    "# Evaluate models with timing\n",
    "model_performance = {}\n",
    "for name, model in models.items():\n",
    "    start_time = time.time()\n",
    "    model.fit(X_sample, y_sample)\n",
    "    y_pred = model.predict(X_test)\n",
    "    mse = mean_squared_error(y_test, y_pred)\n",
    "    r2 = r2_score(y_test, y_pred)\n",
    "    model_performance[name] = {'MSE': mse, 'R2': r2}\n",
    "    end_time = time.time()\n",
    "    print(f\"{name} took {end_time - start_time:.2f} seconds\")"
   ]
  },
  {
   "cell_type": "code",
   "execution_count": 58,
   "id": "0ebe9279-4525-43c1-a148-7e0d3f63cd0d",
   "metadata": {},
   "outputs": [
    {
     "name": "stdout",
     "output_type": "stream",
     "text": [
      "Model Performance:\n",
      " {'Linear Regression': {'MSE': 4654.3054902292615, 'R2': 0.019925516903925966}, 'Random Forest': {'MSE': 4266.110495808067, 'R2': 0.1016691861358946}, 'Gradient Boosting': {'MSE': 3915.207001924294, 'R2': 0.17556024487853927}, 'XGBoost': {'MSE': 4065.954794832886, 'R2': 0.14381671933580908}}\n"
     ]
    }
   ],
   "source": [
    "# Display performance of all models\n",
    "print(\"Model Performance:\\n\", model_performance)"
   ]
  },
  {
   "cell_type": "code",
   "execution_count": 60,
   "id": "083f190c-25c9-4f23-914a-dcbd9a446029",
   "metadata": {},
   "outputs": [
    {
     "name": "stdout",
     "output_type": "stream",
     "text": [
      "Best Model: Gradient Boosting\n"
     ]
    }
   ],
   "source": [
    "# Select the best model based on lowest MSE\n",
    "best_model_name = min(model_performance, key=lambda x: model_performance[x]['MSE'])\n",
    "print(\"Best Model:\", best_model_name)"
   ]
  },
  {
   "cell_type": "markdown",
   "id": "d308aab2-9e8a-4c40-b304-a9673966ef24",
   "metadata": {},
   "source": [
    "*With a sample size of 1000, Gradient Boosting is the best model, achieving the lowest MSE (3915.21) and highest R² (0.1756), explaining approximately 17.6% of the variance in downtime.*\n",
    "*The low R² across all models suggests underfitting and indicates that this sample size is insufficient for capturing complex relationships in the data. Increasing the sample size and applying advanced feature engineering could further improve model accuracy.*"
   ]
  },
  {
   "cell_type": "markdown",
   "id": "bf7772d5-3d84-4ab6-9765-ac36e86587f3",
   "metadata": {},
   "source": [
    " ### Training model using 10000 samples"
   ]
  },
  {
   "cell_type": "code",
   "execution_count": 50,
   "id": "1bdcc71a-a377-4d07-91b2-bfe0b61b11ec",
   "metadata": {},
   "outputs": [
    {
     "name": "stdout",
     "output_type": "stream",
     "text": [
      "Linear Regression took 4.60 seconds\n",
      "Random Forest took 304.02 seconds\n",
      "Gradient Boosting took 10.79 seconds\n",
      "XGBoost took 8.16 seconds\n"
     ]
    }
   ],
   "source": [
    "import time\n",
    "from sklearn.utils import resample\n",
    "\n",
    "# Take a random sample (e.g.10000 samples) for faster training during model selection\n",
    "X_sample, y_sample = resample(X_train, y_train, n_samples=10000, random_state=42)\n",
    "\n",
    "# Evaluate models with timing\n",
    "model_performance = {}\n",
    "for name, model in models.items():\n",
    "    start_time = time.time()\n",
    "    model.fit(X_sample, y_sample)\n",
    "    y_pred = model.predict(X_test)\n",
    "    mse = mean_squared_error(y_test, y_pred)\n",
    "    r2 = r2_score(y_test, y_pred)\n",
    "    model_performance[name] = {'MSE': mse, 'R2': r2}\n",
    "    end_time = time.time()\n",
    "    print(f\"{name} took {end_time - start_time:.2f} seconds\")"
   ]
  },
  {
   "cell_type": "code",
   "execution_count": 52,
   "id": "8ace7d6c-4aee-4716-bd09-16b2a2cb83a7",
   "metadata": {},
   "outputs": [
    {
     "name": "stdout",
     "output_type": "stream",
     "text": [
      "Model Performance:\n",
      " {'Linear Regression': {'MSE': 4640.27467528821, 'R2': 0.022880037987605406}, 'Random Forest': {'MSE': 3767.449091503022, 'R2': 0.20667417970372226}, 'Gradient Boosting': {'MSE': 3541.2879085091286, 'R2': 0.25429778433914096}, 'XGBoost': {'MSE': 3471.4221995829175, 'R2': 0.26900966749888255}}\n"
     ]
    }
   ],
   "source": [
    "# Display performance of all models\n",
    "print(\"Model Performance:\\n\", model_performance)"
   ]
  },
  {
   "cell_type": "code",
   "execution_count": 54,
   "id": "e9005090-ccf4-4e22-9ce8-b11ba0cb9869",
   "metadata": {},
   "outputs": [
    {
     "name": "stdout",
     "output_type": "stream",
     "text": [
      "Best Model: XGBoost\n"
     ]
    }
   ],
   "source": [
    "# Select the best model based on lowest MSE\n",
    "best_model_name = min(model_performance, key=lambda x: model_performance[x]['MSE'])\n",
    "print(\"Best Model:\", best_model_name)"
   ]
  },
  {
   "cell_type": "markdown",
   "id": "8c47c958-6ff8-4e03-97ec-8db42928d8ce",
   "metadata": {},
   "source": [
    "## Initial Model Evaluation <a id=\"Initial-Model-Evaluation\"></a>"
   ]
  },
  {
   "cell_type": "markdown",
   "id": "90cfc13c-31fc-4067-9f16-88817d60442a",
   "metadata": {},
   "source": [
    " ### Model Performance Summary"
   ]
  },
  {
   "cell_type": "markdown",
   "id": "be76b906-ec09-4058-a382-f8196d94c6fc",
   "metadata": {},
   "source": [
    "**Linear Regression**\n",
    "\n",
    "MSE: 4640.27\n",
    "R²: 0.0229\n",
    "*Interpretation: Linear Regression still performs poorly, with an R² of only 0.023. This indicates that linear assumptions are not well-suited for the complexity of the data, and the model only explains about 2.3% of the variance in downtime.*"
   ]
  },
  {
   "cell_type": "markdown",
   "id": "0e105c7a-a2ab-44b0-a6a8-f52b7d06220d",
   "metadata": {},
   "source": [
    "**Random Forest**\n",
    "\n",
    "MSE: 3767.45\n",
    "R²: 0.2067\n",
    "*Interpretation: The Random Forest model shows noticeable improvement, with an R² of 0.207, explaining about 20.7% of the variance in downtime. This improvement suggests that the Random Forest model is able to capture more of the non-linear relationships within the data, though it still underfits compared to the other tree-based methods.*"
   ]
  },
  {
   "cell_type": "markdown",
   "id": "e1e92290-512d-4a26-8591-99651bc14102",
   "metadata": {},
   "source": [
    "**Gradient Boosting**\n",
    "\n",
    "MSE: 3541.29\n",
    "R²: 0.2543\n",
    "*Interpretation: Gradient Boosting performs better than Random Forest, with an R² of 0.254, explaining about 25.4% of the variance. This shows that the model’s iterative, sequential nature is capturing more complexity in the data, making it a strong performer. However, it is slightly outperformed by XGBoost.*"
   ]
  },
  {
   "cell_type": "markdown",
   "id": "52a39448-532e-48ae-b820-3359feb9c7d9",
   "metadata": {},
   "source": [
    "**XGBoost (Best Model)**\n",
    "\n",
    "MSE: 3471.42\n",
    "R²: 0.2690\n",
    "*Interpretation: XGBoost achieves the lowest MSE (3471.42) and highest R² (0.269), meaning it explains around 26.9% of the variance in downtime. This result indicates that XGBoost, with its optimized algorithms and parallel processing, effectively handles the complexity of the dataset and captures non-linear relationships better than the other models. This makes it the best model for predicting downtime in this analysis.*"
   ]
  },
  {
   "cell_type": "code",
   "execution_count": 269,
   "id": "44cae9f2-be3e-45df-9d20-0254c3d1d5d2",
   "metadata": {},
   "outputs": [
    {
     "data": {
      "text/html": [
       "<div>\n",
       "<style scoped>\n",
       "    .dataframe tbody tr th:only-of-type {\n",
       "        vertical-align: middle;\n",
       "    }\n",
       "\n",
       "    .dataframe tbody tr th {\n",
       "        vertical-align: top;\n",
       "    }\n",
       "\n",
       "    .dataframe thead th {\n",
       "        text-align: right;\n",
       "    }\n",
       "</style>\n",
       "<table border=\"1\" class=\"dataframe\">\n",
       "  <thead>\n",
       "    <tr style=\"text-align: right;\">\n",
       "      <th></th>\n",
       "      <th>Model</th>\n",
       "      <th>Initial MSE</th>\n",
       "      <th>Initial R²</th>\n",
       "      <th>Updated MSE</th>\n",
       "      <th>Updated R²</th>\n",
       "    </tr>\n",
       "  </thead>\n",
       "  <tbody>\n",
       "    <tr>\n",
       "      <th>0</th>\n",
       "      <td>Linear Regression</td>\n",
       "      <td>4654.31</td>\n",
       "      <td>0.0199</td>\n",
       "      <td>4640.27</td>\n",
       "      <td>0.0229</td>\n",
       "    </tr>\n",
       "    <tr>\n",
       "      <th>1</th>\n",
       "      <td>Random Forest</td>\n",
       "      <td>4266.11</td>\n",
       "      <td>0.1017</td>\n",
       "      <td>3767.45</td>\n",
       "      <td>0.2067</td>\n",
       "    </tr>\n",
       "    <tr>\n",
       "      <th>2</th>\n",
       "      <td>Gradient Boosting</td>\n",
       "      <td>3915.21</td>\n",
       "      <td>0.1756</td>\n",
       "      <td>3541.29</td>\n",
       "      <td>0.2543</td>\n",
       "    </tr>\n",
       "    <tr>\n",
       "      <th>3</th>\n",
       "      <td>XGBoost</td>\n",
       "      <td>3471.42</td>\n",
       "      <td>0.2690</td>\n",
       "      <td>3471.42</td>\n",
       "      <td>0.2690</td>\n",
       "    </tr>\n",
       "  </tbody>\n",
       "</table>\n",
       "</div>"
      ],
      "text/plain": [
       "               Model  Initial MSE  Initial R²  Updated MSE  Updated R²\n",
       "0  Linear Regression      4654.31      0.0199      4640.27      0.0229\n",
       "1      Random Forest      4266.11      0.1017      3767.45      0.2067\n",
       "2  Gradient Boosting      3915.21      0.1756      3541.29      0.2543\n",
       "3            XGBoost      3471.42      0.2690      3471.42      0.2690"
      ]
     },
     "execution_count": 269,
     "metadata": {},
     "output_type": "execute_result"
    }
   ],
   "source": [
    "# Initial results (before data cleaning and improvements)\n",
    "initial_results = {\n",
    "    'Model': ['Linear Regression', 'Random Forest', 'Gradient Boosting', 'XGBoost'],\n",
    "    'Initial MSE': [4654.31, 4266.11, 3915.21, 3471.42],\n",
    "    'Initial R²': [0.0199, 0.1017, 0.1756, 0.2690]\n",
    "}\n",
    "\n",
    "# Updated results (after data cleaning and preprocessing)\n",
    "updated_results = {\n",
    "    'Model': ['Linear Regression', 'Random Forest', 'Gradient Boosting', 'XGBoost'],\n",
    "    'Updated MSE': [4640.27, 3767.45, 3541.29, 3471.42],\n",
    "    'Updated R²': [0.0229, 0.2067, 0.2543, 0.2690]\n",
    "}\n",
    "\n",
    "# Creating DataFrames for comparison\n",
    "initial_df = pd.DataFrame(initial_results)\n",
    "updated_df = pd.DataFrame(updated_results)\n",
    "\n",
    "# Merging initial and updated results for side-by-side comparison\n",
    "comparison_df = initial_df.merge(updated_df, on='Model')\n",
    "\n",
    "# Displaying the summary table for comparison\n",
    "comparison_df\n"
   ]
  },
  {
   "cell_type": "markdown",
   "id": "902002e2-1edc-4cce-8d74-32b655fbce9c",
   "metadata": {},
   "source": [
    "**Model Summary and Insights**\n",
    "\n",
    "*Best Model: XGBoost is the best-performing model with the lowest MSE and highest R², indicating it’s best suited for predicting downtime in this dataset.*\n",
    "*R² Improvement: With 10,000 samples, the R² scores for the tree-based models improved significantly compared to the 1,000-sample results, highlighting the importance of larger sample sizes in capturing data complexity.*\n",
    "\n",
    "*In summary, XGBoost provides the best predictive power on this subset of the data, making it a strong candidate for further tuning and evaluation on the full dataset.*"
   ]
  },
  {
   "cell_type": "markdown",
   "id": "e30cec42-494c-4028-8864-8986b847d750",
   "metadata": {},
   "source": [
    "### Hyperparameter Tuning <a id=\"Hyperparameter-Tuning\"></a>"
   ]
  },
  {
   "cell_type": "markdown",
   "id": "588a5d3b-f34b-4b21-acd2-6566d259ac13",
   "metadata": {},
   "source": [
    "### Bayesian Optimization for Hyperparameter Tuning on Best Model"
   ]
  },
  {
   "cell_type": "code",
   "execution_count": 74,
   "id": "a3d1a8ed-ccfb-430a-8a99-668e8fbe75c0",
   "metadata": {},
   "outputs": [
    {
     "name": "stdout",
     "output_type": "stream",
     "text": [
      "Best Parameters from Bayesian Optimization: {'learning_rate': 0.03406874190795616, 'max_depth': 10, 'n_estimators': 108}\n",
      "Best MSE from Bayesian Optimization: 3326.812390478649\n"
     ]
    }
   ],
   "source": [
    "import logging\n",
    "\n",
    "# Suppress Optuna's informational logging\n",
    "optuna.logging.set_verbosity(logging.WARNING)\n",
    "\n",
    "# Define the sample size\n",
    "SAMPLE_SIZE = 10000\n",
    "\n",
    "def objective(trial):\n",
    "    # Downsample X_train and y_train to the defined sample size\n",
    "    X_train_sample, y_train_sample = resample(X_train, y_train, n_samples=SAMPLE_SIZE, random_state=42)\n",
    "    \n",
    "    # Hyperparameter suggestions for XGBoost with updated Optuna syntax\n",
    "    learning_rate = trial.suggest_float('learning_rate', 0.01, 0.3, log=True)\n",
    "    max_depth = trial.suggest_int('max_depth', 3, 10)\n",
    "    n_estimators = trial.suggest_int('n_estimators', 50, 300)\n",
    "\n",
    "    # Initialize the XGBoost model with suggested hyperparameters (without subsample)\n",
    "    model = XGBRegressor(\n",
    "        learning_rate=learning_rate,\n",
    "        max_depth=max_depth,\n",
    "        n_estimators=n_estimators,\n",
    "        random_state=42\n",
    "    )\n",
    "\n",
    "    # Define the pipeline with the preprocessor and XGBoost model\n",
    "    pipeline = Pipeline(steps=[('preprocessor', preprocessor), ('regressor', model)])\n",
    "    \n",
    "    # Perform 5-fold cross-validation to estimate the MSE\n",
    "    score = cross_val_score(pipeline, X_train_sample, y_train_sample, cv=5, scoring='neg_mean_squared_error').mean()\n",
    "    \n",
    "    return -score  # Minimize MSE\n",
    "\n",
    "# Run Bayesian optimization with Optuna and add a timeout for each trial\n",
    "study = optuna.create_study(direction='minimize')\n",
    "study.optimize(objective, n_trials=50, timeout=600)  # Optional: Set timeout (e.g., 600 seconds) for all trials\n",
    "best_params = study.best_params\n",
    "best_mse = study.best_value\n",
    "\n",
    "print(\"Best Parameters from Bayesian Optimization:\", best_params)\n",
    "print(\"Best MSE from Bayesian Optimization:\", best_mse)\n"
   ]
  },
  {
   "cell_type": "markdown",
   "id": "5b2e719f-93dd-4843-bf24-7d436787a9e3",
   "metadata": {},
   "source": [
    "**The results from Bayesian Optimization provide insights into the optimal hyperparameters for minimizing downtime prediction errors using an XGBoost model:**\n",
    "\n",
    "**Best Hyperparameters:**\n",
    "*learning_rate: 0.0341 – A relatively low learning rate, which indicates that the model learns more gradually. This can improve performance by preventing the model from overfitting too quickly.*\n",
    "*max_depth: 10 – A deeper tree depth, allowing the model to capture more complex relationships in the data.*\n",
    "*n_estimators: 108 – A moderate number of boosting rounds, suggesting that around 108 trees were sufficient to achieve optimal performance.*\n",
    "\n",
    "**Best Mean Squared Error (MSE):**\n",
    "*The Best MSE achieved with these hyperparameters is 3326.81. This value represents the average squared error between the predicted and actual downtime values in minutes.*\n",
    "*The improvement in MSE (from previous values like 3471.42) indicates that the tuning process has yielded a more accurate model.*\n",
    "\n",
    "**Interpretation:**\n",
    "*The combination of a low learning rate and a deeper tree structure (max depth of 10) enables the model to learn from complex patterns in the data without overfitting. This setup allows for better generalization on unseen data, as indicated by the reduced MSE.*\n",
    "*While the improvement is modest, this refined model setup has achieved a meaningful reduction in error, suggesting it is better aligned with the data patterns. Further improvements could involve exploring additional features or alternative model architectures if a lower MSE is required.*\n",
    "\n",
    "*In summary, the tuned XGBoost model, with an MSE of 3326.81, represents a better-performing predictive model for downtime based on these optimized parameters.*"
   ]
  },
  {
   "cell_type": "markdown",
   "id": "084b450e-295b-48cd-8a43-1c4a0fee6725",
   "metadata": {},
   "source": [
    "## Final Analysis  <a id=\"Final-Analysis\"></a>"
   ]
  },
  {
   "cell_type": "markdown",
   "id": "ded59fd3-8171-4e69-a4b6-a98b12927b5c",
   "metadata": {},
   "source": [
    "## Handling Missing Data <a id=\"Handling-Missing-Data\"></a> "
   ]
  },
  {
   "cell_type": "markdown",
   "id": "3b61bfcb-331b-407d-8ef7-dafed28f937a",
   "metadata": {},
   "source": [
    "### Discussion of Missing Data <a id=\"Discussion-of-Missing-Data\"></a>"
   ]
  },
  {
   "cell_type": "markdown",
   "id": "ea66485a-e577-4ccc-a5d3-93b2c6d8e82c",
   "metadata": {},
   "source": [
    "### Understanding Missing Data"
   ]
  },
  {
   "cell_type": "code",
   "execution_count": 281,
   "id": "9fcb5bb2-bff8-44a0-b6db-6331a44fd1fc",
   "metadata": {},
   "outputs": [
    {
     "name": "stdout",
     "output_type": "stream",
     "text": [
      "Missing values per column:\n",
      "ORDER_ID                                 0\n",
      "PLANT_ID                                 0\n",
      "PRODUCTION_LOCATION                      0\n",
      "EXECUTION_START_DATE                     0\n",
      "EXECUTION_FINISH_DATE                    0\n",
      "ACTUAL_START_TIME                        0\n",
      "ACTUAL_FINISH_TIME                       0\n",
      "ACTUAL_WORK_IN_MINUTES                   0\n",
      "MAINTENANCE_PLAN                   1274670\n",
      "MAINTENANCE_ITEM                   1274670\n",
      "MAINTENANCE_ACTIVITY_TYPE                0\n",
      "ORDER_DESCRIPTION                  1135497\n",
      "MAINTENANCE_TYPE_DESCRIPTION       1135469\n",
      "FUNCTIONAL_LOC                     1135482\n",
      "FUNCTIONAL_AREA_NODE_1_MODIFIED    1137147\n",
      "FUNCTIONAL_AREA_NODE_2_MODIFIED    1144857\n",
      "FUNCTIONAL_AREA_NODE_3_MODIFIED    1168573\n",
      "FUNCTIONAL_AREA_NODE_4_MODIFIED    1189691\n",
      "FUNCTIONAL_AREA_NODE_5_MODIFIED    1425084\n",
      "EQUIPMENT_ID                       1135469\n",
      "EQUIPMENT_DESC                     1347817\n",
      "EQUIP_CAT_DESC                     1347817\n",
      "EQUIP_START_UP_DATE                1347817\n",
      "EQUIP_VALID_FROM                   1347817\n",
      "EQUIP_VALID_TO                     1347817\n",
      "dtype: int64\n",
      "\n",
      "Number of duplicated rows:\n",
      "0\n"
     ]
    }
   ],
   "source": [
    "# Check for missing/duplicate values:\n",
    "\n",
    "print(\"Missing values per column:\")\n",
    "print(df.isnull().sum())\n",
    "print(\"\\nNumber of duplicated rows:\")\n",
    "print(df.duplicated().sum())"
   ]
  },
  {
   "cell_type": "markdown",
   "id": "e8e8c42f-4087-4e4c-aafc-3a6b8ed15a47",
   "metadata": {},
   "source": [
    "*The dataset contains significant missing data in several columns, particularly in MAINTENANCE_PLAN, MAINTENANCE_ITEM, ORDER_DESCRIPTION, and various FUNCTIONAL_AREA_NODE_ columns, with some having over 70% of their values missing. These columns may not be critical for the analysis and could be candidates for removal. In some cases though, the missing data is meaningful. For example, if MAINTENANCE_PLAN or EQUIP_VALID_FROM is missing, that might indicate that the equipment wasn’t in use or no maintenance plan was required. In these cases, leaving the missing data as NaN might be acceptable and even informative.However, for columns that are important, like ORDER_DESCRIPTION, filling missing values with placeholders such as \"Unknown\" or using statistical imputation methods like the mode or median may be more appropriate.*\n",
    "\n",
    "*Additionally, since there are no duplicated rows, the data is clean in that respect. Moving forward, it’s essential that we decide as a team which columns to retain based on their relevance and to document any imputation or data-dropping decisions. This will ensure that the dataset is prepared for modeling while maintaining transparency in handling missing data.*"
   ]
  },
  {
   "cell_type": "code",
   "execution_count": 128,
   "id": "04160c82-2c25-4a3a-8e48-623cdcb80698",
   "metadata": {},
   "outputs": [],
   "source": [
    "# Load Data\n",
    "df = pd.read_csv('IWC_Work_Orders_Extract.csv', low_memory=False)"
   ]
  },
  {
   "cell_type": "code",
   "execution_count": 226,
   "id": "57e7a98e-4766-400b-a767-f01231d40183",
   "metadata": {},
   "outputs": [],
   "source": [
    "# Create a copy of the data for cleaning and processing\n",
    "df_copy = df.copy()"
   ]
  },
  {
   "cell_type": "markdown",
   "id": "fc9f5c9c-cc7d-40c8-b4ff-c48e0b2494c0",
   "metadata": {},
   "source": [
    "### Define Essential Columns"
   ]
  },
  {
   "cell_type": "code",
   "execution_count": 227,
   "id": "b4c0c39a-6288-4435-b2c4-ffa452a005af",
   "metadata": {},
   "outputs": [],
   "source": [
    "# Define essential columns explicitly including EQUIP_START_UP_DATE\n",
    "essential_columns = [\n",
    "    'ORDER_DESCRIPTION', 'ACTUAL_WORK_IN_MINUTES', 'EQUIP_VALID_FROM', 'EQUIP_START_UP_DATE',\n",
    "    'MAINTENANCE_PLAN', 'MAINTENANCE_ITEM', 'FUNCTIONAL_AREA_NODE_1_MODIFIED', \n",
    "    'FUNCTIONAL_AREA_NODE_2_MODIFIED', 'FUNCTIONAL_AREA_NODE_3_MODIFIED', \n",
    "    'FUNCTIONAL_AREA_NODE_4_MODIFIED', 'FUNCTIONAL_AREA_NODE_5_MODIFIED', 'FUNCTIONAL_LOC',\n",
    "    'EQUIPMENT_ID', 'EQUIP_CAT_DESC', 'EXECUTION_START_DATE', 'EXECUTION_FINISH_DATE'\n",
    "]\n"
   ]
  },
  {
   "cell_type": "markdown",
   "id": "3ed8ca20-9d88-40c9-9351-8ea272fd8462",
   "metadata": {},
   "source": [
    "### Drop Columns with High Missing Values (Above 70%) Except Essential Columns"
   ]
  },
  {
   "cell_type": "code",
   "execution_count": 204,
   "id": "6b1d81be-42e6-43d4-82c9-d17a80828b3c",
   "metadata": {},
   "outputs": [
    {
     "name": "stdout",
     "output_type": "stream",
     "text": [
      "Columns after dropping non-essential columns: Index(['ORDER_ID', 'PLANT_ID', 'PRODUCTION_LOCATION', 'EXECUTION_START_DATE',\n",
      "       'EXECUTION_FINISH_DATE', 'ACTUAL_START_TIME', 'ACTUAL_FINISH_TIME',\n",
      "       'ACTUAL_WORK_IN_MINUTES', 'MAINTENANCE_PLAN', 'MAINTENANCE_ITEM',\n",
      "       'MAINTENANCE_ACTIVITY_TYPE', 'ORDER_DESCRIPTION', 'FUNCTIONAL_LOC',\n",
      "       'FUNCTIONAL_AREA_NODE_1_MODIFIED', 'FUNCTIONAL_AREA_NODE_2_MODIFIED',\n",
      "       'FUNCTIONAL_AREA_NODE_3_MODIFIED', 'FUNCTIONAL_AREA_NODE_4_MODIFIED',\n",
      "       'FUNCTIONAL_AREA_NODE_5_MODIFIED', 'EQUIPMENT_ID', 'EQUIP_CAT_DESC',\n",
      "       'EQUIP_START_UP_DATE', 'EQUIP_VALID_FROM'],\n",
      "      dtype='object')\n"
     ]
    }
   ],
   "source": [
    "# Retain essential columns even if they exceed the threshold\n",
    "df_copy = df.copy()\n",
    "columns_to_drop = [col for col in df_copy.columns if df_copy[col].isnull().sum() / len(df_copy) > 0.7 and col not in essential_columns]\n",
    "df_copy.drop(columns=columns_to_drop, inplace=True)\n",
    "\n",
    "# Verify that essential columns, including EQUIP_START_UP_DATE, are retained\n",
    "print(\"Columns after dropping non-essential columns:\", df_copy.columns)\n"
   ]
  },
  {
   "cell_type": "markdown",
   "id": "df4fa057-4de0-4875-b9f7-42ad6cd76714",
   "metadata": {},
   "source": [
    "### Impute Missing Values for Essential Columns"
   ]
  },
  {
   "cell_type": "markdown",
   "id": "69aa5bfa-3be9-4595-8259-1553ae7a5e7c",
   "metadata": {},
   "source": [
    "### Impute Categorical Columns"
   ]
  },
  {
   "cell_type": "code",
   "execution_count": 235,
   "id": "14a896c5-3ba5-47ef-ac62-47d52d65d85c",
   "metadata": {},
   "outputs": [],
   "source": [
    "# Impute missing values for essential categorical columns\n",
    "categorical_cols = [\n",
    "    'ORDER_DESCRIPTION', 'MAINTENANCE_PLAN', 'MAINTENANCE_ITEM', 'FUNCTIONAL_LOC',\n",
    "    'FUNCTIONAL_AREA_NODE_1_MODIFIED', 'FUNCTIONAL_AREA_NODE_2_MODIFIED', \n",
    "    'FUNCTIONAL_AREA_NODE_3_MODIFIED', 'FUNCTIONAL_AREA_NODE_4_MODIFIED', \n",
    "    'FUNCTIONAL_AREA_NODE_5_MODIFIED', 'EQUIP_CAT_DESC'\n",
    "]\n",
    "\n",
    "for col in categorical_cols:\n",
    "    if col in df_copy.columns:\n",
    "        df_copy[col] = df_copy[col].astype(str).fillna('Unknown')\n"
   ]
  },
  {
   "cell_type": "markdown",
   "id": "4121dd39-1adc-4548-ab61-7e082955dd6d",
   "metadata": {},
   "source": [
    "### Impute Numerical Columns"
   ]
  },
  {
   "cell_type": "code",
   "execution_count": 239,
   "id": "2f43544d-7fba-4b87-b5bf-ab9e4c8ddba4",
   "metadata": {},
   "outputs": [],
   "source": [
    "# Impute missing values for essential numerical columns\n",
    "numerical_cols = ['ACTUAL_WORK_IN_MINUTES', 'EQUIPMENT_ID']\n",
    "for col in numerical_cols:\n",
    "    if col in df_copy.columns:\n",
    "        df_copy[col] = df_copy[col].fillna(df_copy[col].median())\n"
   ]
  },
  {
   "cell_type": "markdown",
   "id": "e703bbd1-d831-4a9e-bf27-edf62989b3e6",
   "metadata": {},
   "source": [
    "### Preserve NaNs in Date Columns"
   ]
  },
  {
   "cell_type": "code",
   "execution_count": 243,
   "id": "035c677c-f3e9-4c4c-be6e-b1367edb5852",
   "metadata": {},
   "outputs": [],
   "source": [
    "# Convert essential date columns, preserving NaNs for business relevance\n",
    "date_cols = ['EXECUTION_START_DATE', 'EXECUTION_FINISH_DATE', 'EQUIP_VALID_FROM', 'EQUIP_START_UP_DATE']\n",
    "for col in date_cols:\n",
    "    if col in df_copy.columns:\n",
    "        df_copy[col] = pd.to_datetime(df_copy[col], errors='coerce')\n"
   ]
  },
  {
   "cell_type": "markdown",
   "id": "60260894-6c85-4ac1-9e50-0cc51981490e",
   "metadata": {},
   "source": [
    "### Verify Final Dataset for Completeness"
   ]
  },
  {
   "cell_type": "code",
   "execution_count": 247,
   "id": "dccf2382-44a5-4695-9c28-aa34c885b1e9",
   "metadata": {},
   "outputs": [
    {
     "name": "stdout",
     "output_type": "stream",
     "text": [
      "<class 'pandas.core.frame.DataFrame'>\n",
      "RangeIndex: 1427264 entries, 0 to 1427263\n",
      "Data columns (total 25 columns):\n",
      " #   Column                           Non-Null Count    Dtype         \n",
      "---  ------                           --------------    -----         \n",
      " 0   ORDER_ID                         1427264 non-null  int64         \n",
      " 1   PLANT_ID                         1427264 non-null  object        \n",
      " 2   PRODUCTION_LOCATION              1427264 non-null  object        \n",
      " 3   EXECUTION_START_DATE             1427264 non-null  datetime64[ns]\n",
      " 4   EXECUTION_FINISH_DATE            1427264 non-null  datetime64[ns]\n",
      " 5   ACTUAL_START_TIME                1427264 non-null  object        \n",
      " 6   ACTUAL_FINISH_TIME               1427264 non-null  object        \n",
      " 7   ACTUAL_WORK_IN_MINUTES           1427264 non-null  float64       \n",
      " 8   MAINTENANCE_PLAN                 1427264 non-null  object        \n",
      " 9   MAINTENANCE_ITEM                 1427264 non-null  object        \n",
      " 10  MAINTENANCE_ACTIVITY_TYPE        1427264 non-null  object        \n",
      " 11  ORDER_DESCRIPTION                1427264 non-null  object        \n",
      " 12  MAINTENANCE_TYPE_DESCRIPTION     291795 non-null   object        \n",
      " 13  FUNCTIONAL_LOC                   1427264 non-null  object        \n",
      " 14  FUNCTIONAL_AREA_NODE_1_MODIFIED  1427264 non-null  object        \n",
      " 15  FUNCTIONAL_AREA_NODE_2_MODIFIED  1427264 non-null  object        \n",
      " 16  FUNCTIONAL_AREA_NODE_3_MODIFIED  1427264 non-null  object        \n",
      " 17  FUNCTIONAL_AREA_NODE_4_MODIFIED  1427264 non-null  object        \n",
      " 18  FUNCTIONAL_AREA_NODE_5_MODIFIED  1427264 non-null  object        \n",
      " 19  EQUIPMENT_ID                     1427264 non-null  float64       \n",
      " 20  EQUIPMENT_DESC                   79447 non-null    object        \n",
      " 21  EQUIP_CAT_DESC                   1427264 non-null  object        \n",
      " 22  EQUIP_START_UP_DATE              79447 non-null    datetime64[ns]\n",
      " 23  EQUIP_VALID_FROM                 79447 non-null    datetime64[ns]\n",
      " 24  EQUIP_VALID_TO                   79447 non-null    object        \n",
      "dtypes: datetime64[ns](4), float64(2), int64(1), object(18)\n",
      "memory usage: 272.2+ MB\n",
      "None\n",
      "ORDER_ID                                 0\n",
      "PLANT_ID                                 0\n",
      "PRODUCTION_LOCATION                      0\n",
      "EXECUTION_START_DATE                     0\n",
      "EXECUTION_FINISH_DATE                    0\n",
      "ACTUAL_START_TIME                        0\n",
      "ACTUAL_FINISH_TIME                       0\n",
      "ACTUAL_WORK_IN_MINUTES                   0\n",
      "MAINTENANCE_PLAN                         0\n",
      "MAINTENANCE_ITEM                         0\n",
      "MAINTENANCE_ACTIVITY_TYPE                0\n",
      "ORDER_DESCRIPTION                        0\n",
      "MAINTENANCE_TYPE_DESCRIPTION       1135469\n",
      "FUNCTIONAL_LOC                           0\n",
      "FUNCTIONAL_AREA_NODE_1_MODIFIED          0\n",
      "FUNCTIONAL_AREA_NODE_2_MODIFIED          0\n",
      "FUNCTIONAL_AREA_NODE_3_MODIFIED          0\n",
      "FUNCTIONAL_AREA_NODE_4_MODIFIED          0\n",
      "FUNCTIONAL_AREA_NODE_5_MODIFIED          0\n",
      "EQUIPMENT_ID                             0\n",
      "EQUIPMENT_DESC                     1347817\n",
      "EQUIP_CAT_DESC                           0\n",
      "EQUIP_START_UP_DATE                1347817\n",
      "EQUIP_VALID_FROM                   1347817\n",
      "EQUIP_VALID_TO                     1347817\n",
      "dtype: int64\n"
     ]
    }
   ],
   "source": [
    "# Confirm that EQUIP_START_UP_DATE is retained and inspect missing data summary\n",
    "df_copy_info = df_copy.info()\n",
    "missing_data_summary_final = df_copy.isnull().sum()\n",
    "\n",
    "print(df_copy_info)\n",
    "print(missing_data_summary_final)\n"
   ]
  },
  {
   "cell_type": "code",
   "execution_count": 299,
   "id": "c08dc7ef-2776-4d04-8727-3fbb95e4a60a",
   "metadata": {},
   "outputs": [
    {
     "data": {
      "image/png": "[encoded data removed]",
      "text/plain": [
       "<Figure size 1000x600 with 1 Axes>"
      ]
     },
     "metadata": {},
     "output_type": "display_data"
    }
   ],
   "source": [
    "# Downtime by Maintenance Activity Type (Planned vs Unplanned)\n",
    "downtime_by_activity_type = df_copy.groupby('MAINTENANCE_ACTIVITY_TYPE')['ACTUAL_WORK_IN_MINUTES'].sum().reset_index()\n",
    "\n",
    "plt.figure(figsize=(10,6))\n",
    "sns.barplot(x='MAINTENANCE_ACTIVITY_TYPE', y='ACTUAL_WORK_IN_MINUTES', data=downtime_by_activity_type, color='steelblue')\n",
    "plt.title('Total Downtime by Maintenance Activity Type (Planned vs Unplanned)')\n",
    "plt.xlabel('Maintenance Activity Type')\n",
    "plt.ylabel('Total Downtime (Minutes)')\n",
    "plt.show()"
   ]
  },
  {
   "cell_type": "markdown",
   "id": "28a45c09-ea38-41cb-be40-c3d953141ded",
   "metadata": {},
   "source": [
    "*The bar chart shows that unplanned maintenance leads to significantly more downtime compared to planned maintenance. Unplanned maintenance contributes over 120 million minutes, while planned maintenance results in far less downtime, approximately 10 million minutes. This suggests that implementing more preventive (planned) maintenance could drastically reduce overall downtime. The disparity highlights the critical impact of unplanned maintenance on operational efficiency*"
   ]
  },
  {
   "cell_type": "markdown",
   "id": "0461784b-bf07-483e-8e0a-382f65b91b0e",
   "metadata": {},
   "source": [
    "**Q:** \n",
    "Are there trends in downtime over time (monthly/seasonal)?"
   ]
  },
  {
   "cell_type": "code",
   "execution_count": 301,
   "id": "959fb35e-c526-447d-a333-c8c745462666",
   "metadata": {},
   "outputs": [
    {
     "data": {
      "image/png": "[encoded data removed]",
      "text/plain": [
       "<Figure size 1000x600 with 1 Axes>"
      ]
     },
     "metadata": {},
     "output_type": "display_data"
    },
    {
     "data": {
      "image/png": "[encoded data removed]",
      "text/plain": [
       "<Figure size 1000x600 with 1 Axes>"
      ]
     },
     "metadata": {},
     "output_type": "display_data"
    }
   ],
   "source": [
    "# Create a new copy for this analysis\n",
    "dfcopy1 = df_copy.copy()\n",
    "\n",
    "# Convert EXECUTION_FINISH_DATE to datetime format\n",
    "dfcopy1['EXECUTION_FINISH_DATE'] = pd.to_datetime(dfcopy1['EXECUTION_FINISH_DATE'], errors='coerce')\n",
    "\n",
    "# Extract Month and Season from EXECUTION_FINISH_DATE\n",
    "dfcopy1['Month'] = dfcopy1['EXECUTION_FINISH_DATE'].dt.month  # Extracting the month\n",
    "dfcopy1['Season'] = dfcopy1['EXECUTION_FINISH_DATE'].dt.month % 12 // 3 + 1  # 1=Winter, 2=Spring, 3=Summer, 4=Fall\n",
    "\n",
    "# Group by Month and Season to calculate total downtime\n",
    "monthly_downtime = dfcopy1.groupby('Month')['ACTUAL_WORK_IN_MINUTES'].sum().reset_index()\n",
    "seasonal_downtime = dfcopy1.groupby('Season')['ACTUAL_WORK_IN_MINUTES'].sum().reset_index()\n",
    "\n",
    "# Plot Monthly Downtime Trends\n",
    "plt.figure(figsize=(10,6))\n",
    "sns.lineplot(x='Month', y='ACTUAL_WORK_IN_MINUTES', data=monthly_downtime, marker='o', color='steelblue')\n",
    "plt.title('Monthly Downtime Trends')\n",
    "plt.xlabel('Month')\n",
    "plt.ylabel('Total Downtime (Minutes)')\n",
    "plt.xticks(range(1,13), ['Jan', 'Feb', 'Mar', 'Apr', 'May', 'Jun', 'Jul', 'Aug', 'Sep', 'Oct', 'Nov', 'Dec'])\n",
    "plt.grid(True)\n",
    "plt.show()\n",
    "\n",
    "# Plot Seasonal Downtime Trends (without palette to avoid FutureWarning)\n",
    "plt.figure(figsize=(10,6))\n",
    "sns.barplot(x='Season', y='ACTUAL_WORK_IN_MINUTES', data=seasonal_downtime, color='steelblue')\n",
    "plt.title('Seasonal Downtime Trends')\n",
    "plt.xlabel('Season (1=Winter, 2=Spring, 3=Summer, 4=Fall)')\n",
    "plt.ylabel('Total Downtime (Minutes)')\n",
    "plt.grid(True)\n",
    "plt.show()\n"
   ]
  },
  {
   "cell_type": "code",
   "execution_count": 303,
   "id": "73ff27a5-89ae-4b46-8993-9be69a3e29a6",
   "metadata": {},
   "outputs": [
    {
     "name": "stdout",
     "output_type": "stream",
     "text": [
      "Monthly Downtime Summary:\n",
      "    Month  ACTUAL_WORK_IN_MINUTES\n",
      "0       1              10058859.0\n",
      "1       2              10648139.2\n",
      "2       3              11407701.8\n",
      "3       4              10374800.0\n",
      "4       5              11432976.4\n",
      "5       6              10522536.4\n",
      "6       7              10428784.7\n",
      "7       8              12094094.5\n",
      "8       9               9887939.1\n",
      "9      10              10276794.3\n",
      "10     11               9704383.2\n",
      "11     12               9660948.4\n",
      "\n",
      "Seasonal Downtime Summary:\n",
      "   Season  ACTUAL_WORK_IN_MINUTES\n",
      "0       1              30367946.6\n",
      "1       2              33215478.2\n",
      "2       3              33045415.6\n",
      "3       4              29869116.6\n"
     ]
    }
   ],
   "source": [
    "# Display the monthly downtime summary table\n",
    "print(\"Monthly Downtime Summary:\")\n",
    "print(monthly_downtime)\n",
    "\n",
    "# Display the seasonal downtime summary table\n",
    "print(\"\\nSeasonal Downtime Summary:\")\n",
    "print(seasonal_downtime)\n"
   ]
  },
  {
   "cell_type": "markdown",
   "id": "684e6a8d-a326-40c0-ad96-30fd764686ba",
   "metadata": {},
   "source": [
    "*Monthly Downtime Trends: The first chart shows fluctuations in downtime across the months, with peaks in March, May, and a significant peak in August. Downtime drops sharply in September, followed by smaller upticks in October and November.*\n",
    "\n",
    "*Seasonal Downtime Trends: The second chart indicates relatively consistent downtime across the seasons, with Winter and Fall showing slightly lower downtime compared to Spring and Summer.*\n",
    "\n",
    "*Overall, there are noticeable variations in downtime by month, but the seasonal downtime remains fairly balanced, with slightly higher downtime during the warmer seasons (Spring and Summer).*"
   ]
  },
  {
   "cell_type": "markdown",
   "id": "fe82b27f-1e7c-4364-a9bc-1adf2151dddb",
   "metadata": {},
   "source": [
    "## Final Model Training and Evaluation <a id=\"Final-Model-Training-and-Evaluation\"></a>"
   ]
  },
  {
   "cell_type": "code",
   "execution_count": 248,
   "id": "29744974-1123-45da-9881-c88288e14a85",
   "metadata": {},
   "outputs": [],
   "source": [
    "# Create a working copy of df_copy\n",
    "df_model = df_copy.copy()"
   ]
  },
  {
   "cell_type": "markdown",
   "id": "723ad427-c381-474f-a950-2d46ba7e35a1",
   "metadata": {},
   "source": [
    "### Final Feature Engineering <a id=\"Final-Feature-Engineering\"></a>"
   ]
  },
  {
   "cell_type": "code",
   "execution_count": 250,
   "id": "2d73b425-e933-4fb1-af66-d30cd36b8be8",
   "metadata": {},
   "outputs": [],
   "source": [
    "# Ensure Date Columns are in Datetime Format and Calculate Day Difference Columns Convert the date columns to datetime format and create features representing the number of days since the earliest date in the dataset.\n",
    "\n",
    "# Ensure the EXECUTION_START_DATE and EXECUTION_FINISH_DATE are in datetime format\n",
    "df_model['EXECUTION_START_DATE'] = pd.to_datetime(df_model['EXECUTION_START_DATE'], errors='coerce')\n",
    "df_model['EXECUTION_FINISH_DATE'] = pd.to_datetime(df_model['EXECUTION_FINISH_DATE'], errors='coerce')\n",
    "\n",
    "# Calculate 'START_DATE_DAYS' and 'FINISH_DATE_DAYS' as the number of days from the earliest date\n",
    "df_model['START_DATE_DAYS'] = (df_model['EXECUTION_START_DATE'] - df_model['EXECUTION_START_DATE'].min()).dt.days\n",
    "df_model['FINISH_DATE_DAYS'] = (df_model['EXECUTION_FINISH_DATE'] - df_model['EXECUTION_FINISH_DATE'].min()).dt.days\n"
   ]
  },
  {
   "cell_type": "code",
   "execution_count": 255,
   "id": "3e7ff2cd-59c6-4bad-a0ca-5c3799f4774c",
   "metadata": {},
   "outputs": [],
   "source": [
    "# Calculate Equipment Age and Handle Missing Values Calculate the equipment's age in years and handle missing values by replacing NaNs \n",
    "# with the median.\n",
    "\n",
    "# Calculate MACHINE_AGE_YEARS\n",
    "df_model['MACHINE_AGE_YEARS'] = (pd.Timestamp.now() - df_model['EQUIP_START_UP_DATE']).dt.days / 365\n",
    "\n",
    "# Handle missing values by filling in with the median age\n",
    "median_age = df_model['MACHINE_AGE_YEARS'].median()\n",
    "df_model['MACHINE_AGE_YEARS'] = df_model['MACHINE_AGE_YEARS'].fillna(median_age)\n"
   ]
  },
  {
   "cell_type": "code",
   "execution_count": 257,
   "id": "c2e583b3-8348-4649-979b-0eb682e28a1b",
   "metadata": {},
   "outputs": [],
   "source": [
    "# Define Predictors (X) and Target Variable (y) Select the columns to be used as predictors and define the target variable.\n",
    "\n",
    "# Define predictors and target variable\n",
    "X = df_model[['EQUIPMENT_ID', 'PLANT_ID', 'MAINTENANCE_ACTIVITY_TYPE', 'MAINTENANCE_ITEM', \n",
    "              'MACHINE_AGE_YEARS', 'START_DATE_DAYS', 'FINISH_DATE_DAYS']]\n",
    "y = df_model['ACTUAL_WORK_IN_MINUTES']\n"
   ]
  },
  {
   "cell_type": "code",
   "execution_count": 259,
   "id": "5e12eaac-2917-4ece-afc2-1db0329f7754",
   "metadata": {},
   "outputs": [],
   "source": [
    "# Perform Train-Test Split Split the data into training and testing sets to evaluate model performance.\n",
    "\n",
    "from sklearn.model_selection import train_test_split\n",
    "\n",
    "# Split the data into training and testing sets\n",
    "X_train, X_test, y_train, y_test = train_test_split(X, y, test_size=0.2, random_state=42)\n"
   ]
  },
  {
   "cell_type": "code",
   "execution_count": 261,
   "id": "1b77dc00-6921-4182-95e5-c3eb17b3f8ac",
   "metadata": {},
   "outputs": [],
   "source": [
    "#  Set Up Preprocessing Pipelines for Numerical and Categorical Features Define the preprocessing steps: \n",
    "# scaling for numerical features and one-hot encoding for categorical features.\n",
    "\n",
    "\n",
    "from sklearn.compose import ColumnTransformer\n",
    "from sklearn.preprocessing import StandardScaler, OneHotEncoder\n",
    "\n",
    "# Define numerical and categorical features for preprocessing\n",
    "numeric_features = ['MACHINE_AGE_YEARS', 'START_DATE_DAYS', 'FINISH_DATE_DAYS']\n",
    "categorical_features = ['EQUIPMENT_ID', 'PLANT_ID', 'MAINTENANCE_ACTIVITY_TYPE', 'MAINTENANCE_ITEM']\n",
    "\n",
    "# Set up ColumnTransformer with scaling for numeric features and one-hot encoding for categorical features\n",
    "preprocessor = ColumnTransformer(\n",
    "    transformers=[\n",
    "        ('num', StandardScaler(), numeric_features),\n",
    "        ('cat', OneHotEncoder(handle_unknown='ignore'), categorical_features)\n",
    "    ])\n"
   ]
  },
  {
   "cell_type": "markdown",
   "id": "3b60b8df-aa09-4e3b-8406-0591cacbc616",
   "metadata": {},
   "source": [
    "## Linear Regression  <a id=\"Linear-Regression\"></a>"
   ]
  },
  {
   "cell_type": "code",
   "execution_count": 263,
   "id": "fec11cf6-9120-4cd8-bbc8-7e933d1c1abb",
   "metadata": {},
   "outputs": [
    {
     "data": {
      "text/html": [
       "<style>#sk-container-id-3 {\n",
       "  /* Definition of color scheme common for light and dark mode */\n",
       "  --sklearn-color-text: black;\n",
       "  --sklearn-color-line: gray;\n",
       "  /* Definition of color scheme for unfitted estimators */\n",
       "  --sklearn-color-unfitted-level-0: #fff5e6;\n",
       "  --sklearn-color-unfitted-level-1: #f6e4d2;\n",
       "  --sklearn-color-unfitted-level-2: #ffe0b3;\n",
       "  --sklearn-color-unfitted-level-3: chocolate;\n",
       "  /* Definition of color scheme for fitted estimators */\n",
       "  --sklearn-color-fitted-level-0: #f0f8ff;\n",
       "  --sklearn-color-fitted-level-1: #d4ebff;\n",
       "  --sklearn-color-fitted-level-2: #b3dbfd;\n",
       "  --sklearn-color-fitted-level-3: cornflowerblue;\n",
       "\n",
       "  /* Specific color for light theme */\n",
       "  --sklearn-color-text-on-default-background: var(--sg-text-color, var(--theme-code-foreground, var(--jp-content-font-color1, black)));\n",
       "  --sklearn-color-background: var(--sg-background-color, var(--theme-background, var(--jp-layout-color0, white)));\n",
       "  --sklearn-color-border-box: var(--sg-text-color, var(--theme-code-foreground, var(--jp-content-font-color1, black)));\n",
       "  --sklearn-color-icon: #696969;\n",
       "\n",
       "  @media (prefers-color-scheme: dark) {\n",
       "    /* Redefinition of color scheme for dark theme */\n",
       "    --sklearn-color-text-on-default-background: var(--sg-text-color, var(--theme-code-foreground, var(--jp-content-font-color1, white)));\n",
       "    --sklearn-color-background: var(--sg-background-color, var(--theme-background, var(--jp-layout-color0, #111)));\n",
       "    --sklearn-color-border-box: var(--sg-text-color, var(--theme-code-foreground, var(--jp-content-font-color1, white)));\n",
       "    --sklearn-color-icon: #878787;\n",
       "  }\n",
       "}\n",
       "\n",
       "#sk-container-id-3 {\n",
       "  color: var(--sklearn-color-text);\n",
       "}\n",
       "\n",
       "#sk-container-id-3 pre {\n",
       "  padding: 0;\n",
       "}\n",
       "\n",
       "#sk-container-id-3 input.sk-hidden--visually {\n",
       "  border: 0;\n",
       "  clip: rect(1px 1px 1px 1px);\n",
       "  clip: rect(1px, 1px, 1px, 1px);\n",
       "  height: 1px;\n",
       "  margin: -1px;\n",
       "  overflow: hidden;\n",
       "  padding: 0;\n",
       "  position: absolute;\n",
       "  width: 1px;\n",
       "}\n",
       "\n",
       "#sk-container-id-3 div.sk-dashed-wrapped {\n",
       "  border: 1px dashed var(--sklearn-color-line);\n",
       "  margin: 0 0.4em 0.5em 0.4em;\n",
       "  box-sizing: border-box;\n",
       "  padding-bottom: 0.4em;\n",
       "  background-color: var(--sklearn-color-background);\n",
       "}\n",
       "\n",
       "#sk-container-id-3 div.sk-container {\n",
       "  /* jupyter's `normalize.less` sets `[hidden] { display: none; }`\n",
       "     but bootstrap.min.css set `[hidden] { display: none !important; }`\n",
       "     so we also need the `!important` here to be able to override the\n",
       "     default hidden behavior on the sphinx rendered scikit-learn.org.\n",
       "     See: https://github.com/scikit-learn/scikit-learn/issues/21755 */\n",
       "  display: inline-block !important;\n",
       "  position: relative;\n",
       "}\n",
       "\n",
       "#sk-container-id-3 div.sk-text-repr-fallback {\n",
       "  display: none;\n",
       "}\n",
       "\n",
       "div.sk-parallel-item,\n",
       "div.sk-serial,\n",
       "div.sk-item {\n",
       "  /* draw centered vertical line to link estimators */\n",
       "  background-image: linear-gradient(var(--sklearn-color-text-on-default-background), var(--sklearn-color-text-on-default-background));\n",
       "  background-size: 2px 100%;\n",
       "  background-repeat: no-repeat;\n",
       "  background-position: center center;\n",
       "}\n",
       "\n",
       "/* Parallel-specific style estimator block */\n",
       "\n",
       "#sk-container-id-3 div.sk-parallel-item::after {\n",
       "  content: \"\";\n",
       "  width: 100%;\n",
       "  border-bottom: 2px solid var(--sklearn-color-text-on-default-background);\n",
       "  flex-grow: 1;\n",
       "}\n",
       "\n",
       "#sk-container-id-3 div.sk-parallel {\n",
       "  display: flex;\n",
       "  align-items: stretch;\n",
       "  justify-content: center;\n",
       "  background-color: var(--sklearn-color-background);\n",
       "  position: relative;\n",
       "}\n",
       "\n",
       "#sk-container-id-3 div.sk-parallel-item {\n",
       "  display: flex;\n",
       "  flex-direction: column;\n",
       "}\n",
       "\n",
       "#sk-container-id-3 div.sk-parallel-item:first-child::after {\n",
       "  align-self: flex-end;\n",
       "  width: 50%;\n",
       "}\n",
       "\n",
       "#sk-container-id-3 div.sk-parallel-item:last-child::after {\n",
       "  align-self: flex-start;\n",
       "  width: 50%;\n",
       "}\n",
       "\n",
       "#sk-container-id-3 div.sk-parallel-item:only-child::after {\n",
       "  width: 0;\n",
       "}\n",
       "\n",
       "/* Serial-specific style estimator block */\n",
       "\n",
       "#sk-container-id-3 div.sk-serial {\n",
       "  display: flex;\n",
       "  flex-direction: column;\n",
       "  align-items: center;\n",
       "  background-color: var(--sklearn-color-background);\n",
       "  padding-right: 1em;\n",
       "  padding-left: 1em;\n",
       "}\n",
       "\n",
       "\n",
       "/* Toggleable style: style used for estimator/Pipeline/ColumnTransformer box that is\n",
       "clickable and can be expanded/collapsed.\n",
       "- Pipeline and ColumnTransformer use this feature and define the default style\n",
       "- Estimators will overwrite some part of the style using the `sk-estimator` class\n",
       "*/\n",
       "\n",
       "/* Pipeline and ColumnTransformer style (default) */\n",
       "\n",
       "#sk-container-id-3 div.sk-toggleable {\n",
       "  /* Default theme specific background. It is overwritten whether we have a\n",
       "  specific estimator or a Pipeline/ColumnTransformer */\n",
       "  background-color: var(--sklearn-color-background);\n",
       "}\n",
       "\n",
       "/* Toggleable label */\n",
       "#sk-container-id-3 label.sk-toggleable__label {\n",
       "  cursor: pointer;\n",
       "  display: block;\n",
       "  width: 100%;\n",
       "  margin-bottom: 0;\n",
       "  padding: 0.5em;\n",
       "  box-sizing: border-box;\n",
       "  text-align: center;\n",
       "}\n",
       "\n",
       "#sk-container-id-3 label.sk-toggleable__label-arrow:before {\n",
       "  /* Arrow on the left of the label */\n",
       "  content: \"▸\";\n",
       "  float: left;\n",
       "  margin-right: 0.25em;\n",
       "  color: var(--sklearn-color-icon);\n",
       "}\n",
       "\n",
       "#sk-container-id-3 label.sk-toggleable__label-arrow:hover:before {\n",
       "  color: var(--sklearn-color-text);\n",
       "}\n",
       "\n",
       "/* Toggleable content - dropdown */\n",
       "\n",
       "#sk-container-id-3 div.sk-toggleable__content {\n",
       "  max-height: 0;\n",
       "  max-width: 0;\n",
       "  overflow: hidden;\n",
       "  text-align: left;\n",
       "  /* unfitted */\n",
       "  background-color: var(--sklearn-color-unfitted-level-0);\n",
       "}\n",
       "\n",
       "#sk-container-id-3 div.sk-toggleable__content.fitted {\n",
       "  /* fitted */\n",
       "  background-color: var(--sklearn-color-fitted-level-0);\n",
       "}\n",
       "\n",
       "#sk-container-id-3 div.sk-toggleable__content pre {\n",
       "  margin: 0.2em;\n",
       "  border-radius: 0.25em;\n",
       "  color: var(--sklearn-color-text);\n",
       "  /* unfitted */\n",
       "  background-color: var(--sklearn-color-unfitted-level-0);\n",
       "}\n",
       "\n",
       "#sk-container-id-3 div.sk-toggleable__content.fitted pre {\n",
       "  /* unfitted */\n",
       "  background-color: var(--sklearn-color-fitted-level-0);\n",
       "}\n",
       "\n",
       "#sk-container-id-3 input.sk-toggleable__control:checked~div.sk-toggleable__content {\n",
       "  /* Expand drop-down */\n",
       "  max-height: 200px;\n",
       "  max-width: 100%;\n",
       "  overflow: auto;\n",
       "}\n",
       "\n",
       "#sk-container-id-3 input.sk-toggleable__control:checked~label.sk-toggleable__label-arrow:before {\n",
       "  content: \"▾\";\n",
       "}\n",
       "\n",
       "/* Pipeline/ColumnTransformer-specific style */\n",
       "\n",
       "#sk-container-id-3 div.sk-label input.sk-toggleable__control:checked~label.sk-toggleable__label {\n",
       "  color: var(--sklearn-color-text);\n",
       "  background-color: var(--sklearn-color-unfitted-level-2);\n",
       "}\n",
       "\n",
       "#sk-container-id-3 div.sk-label.fitted input.sk-toggleable__control:checked~label.sk-toggleable__label {\n",
       "  background-color: var(--sklearn-color-fitted-level-2);\n",
       "}\n",
       "\n",
       "/* Estimator-specific style */\n",
       "\n",
       "/* Colorize estimator box */\n",
       "#sk-container-id-3 div.sk-estimator input.sk-toggleable__control:checked~label.sk-toggleable__label {\n",
       "  /* unfitted */\n",
       "  background-color: var(--sklearn-color-unfitted-level-2);\n",
       "}\n",
       "\n",
       "#sk-container-id-3 div.sk-estimator.fitted input.sk-toggleable__control:checked~label.sk-toggleable__label {\n",
       "  /* fitted */\n",
       "  background-color: var(--sklearn-color-fitted-level-2);\n",
       "}\n",
       "\n",
       "#sk-container-id-3 div.sk-label label.sk-toggleable__label,\n",
       "#sk-container-id-3 div.sk-label label {\n",
       "  /* The background is the default theme color */\n",
       "  color: var(--sklearn-color-text-on-default-background);\n",
       "}\n",
       "\n",
       "/* On hover, darken the color of the background */\n",
       "#sk-container-id-3 div.sk-label:hover label.sk-toggleable__label {\n",
       "  color: var(--sklearn-color-text);\n",
       "  background-color: var(--sklearn-color-unfitted-level-2);\n",
       "}\n",
       "\n",
       "/* Label box, darken color on hover, fitted */\n",
       "#sk-container-id-3 div.sk-label.fitted:hover label.sk-toggleable__label.fitted {\n",
       "  color: var(--sklearn-color-text);\n",
       "  background-color: var(--sklearn-color-fitted-level-2);\n",
       "}\n",
       "\n",
       "/* Estimator label */\n",
       "\n",
       "#sk-container-id-3 div.sk-label label {\n",
       "  font-family: monospace;\n",
       "  font-weight: bold;\n",
       "  display: inline-block;\n",
       "  line-height: 1.2em;\n",
       "}\n",
       "\n",
       "#sk-container-id-3 div.sk-label-container {\n",
       "  text-align: center;\n",
       "}\n",
       "\n",
       "/* Estimator-specific */\n",
       "#sk-container-id-3 div.sk-estimator {\n",
       "  font-family: monospace;\n",
       "  border: 1px dotted var(--sklearn-color-border-box);\n",
       "  border-radius: 0.25em;\n",
       "  box-sizing: border-box;\n",
       "  margin-bottom: 0.5em;\n",
       "  /* unfitted */\n",
       "  background-color: var(--sklearn-color-unfitted-level-0);\n",
       "}\n",
       "\n",
       "#sk-container-id-3 div.sk-estimator.fitted {\n",
       "  /* fitted */\n",
       "  background-color: var(--sklearn-color-fitted-level-0);\n",
       "}\n",
       "\n",
       "/* on hover */\n",
       "#sk-container-id-3 div.sk-estimator:hover {\n",
       "  /* unfitted */\n",
       "  background-color: var(--sklearn-color-unfitted-level-2);\n",
       "}\n",
       "\n",
       "#sk-container-id-3 div.sk-estimator.fitted:hover {\n",
       "  /* fitted */\n",
       "  background-color: var(--sklearn-color-fitted-level-2);\n",
       "}\n",
       "\n",
       "/* Specification for estimator info (e.g. \"i\" and \"?\") */\n",
       "\n",
       "/* Common style for \"i\" and \"?\" */\n",
       "\n",
       ".sk-estimator-doc-link,\n",
       "a:link.sk-estimator-doc-link,\n",
       "a:visited.sk-estimator-doc-link {\n",
       "  float: right;\n",
       "  font-size: smaller;\n",
       "  line-height: 1em;\n",
       "  font-family: monospace;\n",
       "  background-color: var(--sklearn-color-background);\n",
       "  border-radius: 1em;\n",
       "  height: 1em;\n",
       "  width: 1em;\n",
       "  text-decoration: none !important;\n",
       "  margin-left: 1ex;\n",
       "  /* unfitted */\n",
       "  border: var(--sklearn-color-unfitted-level-1) 1pt solid;\n",
       "  color: var(--sklearn-color-unfitted-level-1);\n",
       "}\n",
       "\n",
       ".sk-estimator-doc-link.fitted,\n",
       "a:link.sk-estimator-doc-link.fitted,\n",
       "a:visited.sk-estimator-doc-link.fitted {\n",
       "  /* fitted */\n",
       "  border: var(--sklearn-color-fitted-level-1) 1pt solid;\n",
       "  color: var(--sklearn-color-fitted-level-1);\n",
       "}\n",
       "\n",
       "/* On hover */\n",
       "div.sk-estimator:hover .sk-estimator-doc-link:hover,\n",
       ".sk-estimator-doc-link:hover,\n",
       "div.sk-label-container:hover .sk-estimator-doc-link:hover,\n",
       ".sk-estimator-doc-link:hover {\n",
       "  /* unfitted */\n",
       "  background-color: var(--sklearn-color-unfitted-level-3);\n",
       "  color: var(--sklearn-color-background);\n",
       "  text-decoration: none;\n",
       "}\n",
       "\n",
       "div.sk-estimator.fitted:hover .sk-estimator-doc-link.fitted:hover,\n",
       ".sk-estimator-doc-link.fitted:hover,\n",
       "div.sk-label-container:hover .sk-estimator-doc-link.fitted:hover,\n",
       ".sk-estimator-doc-link.fitted:hover {\n",
       "  /* fitted */\n",
       "  background-color: var(--sklearn-color-fitted-level-3);\n",
       "  color: var(--sklearn-color-background);\n",
       "  text-decoration: none;\n",
       "}\n",
       "\n",
       "/* Span, style for the box shown on hovering the info icon */\n",
       ".sk-estimator-doc-link span {\n",
       "  display: none;\n",
       "  z-index: 9999;\n",
       "  position: relative;\n",
       "  font-weight: normal;\n",
       "  right: .2ex;\n",
       "  padding: .5ex;\n",
       "  margin: .5ex;\n",
       "  width: min-content;\n",
       "  min-width: 20ex;\n",
       "  max-width: 50ex;\n",
       "  color: var(--sklearn-color-text);\n",
       "  box-shadow: 2pt 2pt 4pt #999;\n",
       "  /* unfitted */\n",
       "  background: var(--sklearn-color-unfitted-level-0);\n",
       "  border: .5pt solid var(--sklearn-color-unfitted-level-3);\n",
       "}\n",
       "\n",
       ".sk-estimator-doc-link.fitted span {\n",
       "  /* fitted */\n",
       "  background: var(--sklearn-color-fitted-level-0);\n",
       "  border: var(--sklearn-color-fitted-level-3);\n",
       "}\n",
       "\n",
       ".sk-estimator-doc-link:hover span {\n",
       "  display: block;\n",
       "}\n",
       "\n",
       "/* \"?\"-specific style due to the `<a>` HTML tag */\n",
       "\n",
       "#sk-container-id-3 a.estimator_doc_link {\n",
       "  float: right;\n",
       "  font-size: 1rem;\n",
       "  line-height: 1em;\n",
       "  font-family: monospace;\n",
       "  background-color: var(--sklearn-color-background);\n",
       "  border-radius: 1rem;\n",
       "  height: 1rem;\n",
       "  width: 1rem;\n",
       "  text-decoration: none;\n",
       "  /* unfitted */\n",
       "  color: var(--sklearn-color-unfitted-level-1);\n",
       "  border: var(--sklearn-color-unfitted-level-1) 1pt solid;\n",
       "}\n",
       "\n",
       "#sk-container-id-3 a.estimator_doc_link.fitted {\n",
       "  /* fitted */\n",
       "  border: var(--sklearn-color-fitted-level-1) 1pt solid;\n",
       "  color: var(--sklearn-color-fitted-level-1);\n",
       "}\n",
       "\n",
       "/* On hover */\n",
       "#sk-container-id-3 a.estimator_doc_link:hover {\n",
       "  /* unfitted */\n",
       "  background-color: var(--sklearn-color-unfitted-level-3);\n",
       "  color: var(--sklearn-color-background);\n",
       "  text-decoration: none;\n",
       "}\n",
       "\n",
       "#sk-container-id-3 a.estimator_doc_link.fitted:hover {\n",
       "  /* fitted */\n",
       "  background-color: var(--sklearn-color-fitted-level-3);\n",
       "}\n",
       "</style><div id=\"sk-container-id-3\" class=\"sk-top-container\"><div class=\"sk-text-repr-fallback\"><pre>Pipeline(steps=[(&#x27;preprocessor&#x27;,\n",
       "                 ColumnTransformer(transformers=[(&#x27;num&#x27;, StandardScaler(),\n",
       "                                                  [&#x27;MACHINE_AGE_YEARS&#x27;,\n",
       "                                                   &#x27;START_DATE_DAYS&#x27;,\n",
       "                                                   &#x27;FINISH_DATE_DAYS&#x27;]),\n",
       "                                                 (&#x27;cat&#x27;,\n",
       "                                                  OneHotEncoder(handle_unknown=&#x27;ignore&#x27;),\n",
       "                                                  [&#x27;EQUIPMENT_ID&#x27;, &#x27;PLANT_ID&#x27;,\n",
       "                                                   &#x27;MAINTENANCE_ACTIVITY_TYPE&#x27;,\n",
       "                                                   &#x27;MAINTENANCE_ITEM&#x27;])])),\n",
       "                (&#x27;regressor&#x27;, LinearRegression())])</pre><b>In a Jupyter environment, please rerun this cell to show the HTML representation or trust the notebook. <br />On GitHub, the HTML representation is unable to render, please try loading this page with nbviewer.org.</b></div><div class=\"sk-container\" hidden><div class=\"sk-item sk-dashed-wrapped\"><div class=\"sk-label-container\"><div class=\"sk-label fitted sk-toggleable\"><input class=\"sk-toggleable__control sk-hidden--visually\" id=\"sk-estimator-id-15\" type=\"checkbox\" ><label for=\"sk-estimator-id-15\" class=\"sk-toggleable__label fitted sk-toggleable__label-arrow fitted\">&nbsp;&nbsp;Pipeline<a class=\"sk-estimator-doc-link fitted\" rel=\"noreferrer\" target=\"_blank\" href=\"https://scikit-learn.org/1.4/modules/generated/sklearn.pipeline.Pipeline.html\">?<span>Documentation for Pipeline</span></a><span class=\"sk-estimator-doc-link fitted\">i<span>Fitted</span></span></label><div class=\"sk-toggleable__content fitted\"><pre>Pipeline(steps=[(&#x27;preprocessor&#x27;,\n",
       "                 ColumnTransformer(transformers=[(&#x27;num&#x27;, StandardScaler(),\n",
       "                                                  [&#x27;MACHINE_AGE_YEARS&#x27;,\n",
       "                                                   &#x27;START_DATE_DAYS&#x27;,\n",
       "                                                   &#x27;FINISH_DATE_DAYS&#x27;]),\n",
       "                                                 (&#x27;cat&#x27;,\n",
       "                                                  OneHotEncoder(handle_unknown=&#x27;ignore&#x27;),\n",
       "                                                  [&#x27;EQUIPMENT_ID&#x27;, &#x27;PLANT_ID&#x27;,\n",
       "                                                   &#x27;MAINTENANCE_ACTIVITY_TYPE&#x27;,\n",
       "                                                   &#x27;MAINTENANCE_ITEM&#x27;])])),\n",
       "                (&#x27;regressor&#x27;, LinearRegression())])</pre></div> </div></div><div class=\"sk-serial\"><div class=\"sk-item sk-dashed-wrapped\"><div class=\"sk-label-container\"><div class=\"sk-label fitted sk-toggleable\"><input class=\"sk-toggleable__control sk-hidden--visually\" id=\"sk-estimator-id-16\" type=\"checkbox\" ><label for=\"sk-estimator-id-16\" class=\"sk-toggleable__label fitted sk-toggleable__label-arrow fitted\">&nbsp;preprocessor: ColumnTransformer<a class=\"sk-estimator-doc-link fitted\" rel=\"noreferrer\" target=\"_blank\" href=\"https://scikit-learn.org/1.4/modules/generated/sklearn.compose.ColumnTransformer.html\">?<span>Documentation for preprocessor: ColumnTransformer</span></a></label><div class=\"sk-toggleable__content fitted\"><pre>ColumnTransformer(transformers=[(&#x27;num&#x27;, StandardScaler(),\n",
       "                                 [&#x27;MACHINE_AGE_YEARS&#x27;, &#x27;START_DATE_DAYS&#x27;,\n",
       "                                  &#x27;FINISH_DATE_DAYS&#x27;]),\n",
       "                                (&#x27;cat&#x27;, OneHotEncoder(handle_unknown=&#x27;ignore&#x27;),\n",
       "                                 [&#x27;EQUIPMENT_ID&#x27;, &#x27;PLANT_ID&#x27;,\n",
       "                                  &#x27;MAINTENANCE_ACTIVITY_TYPE&#x27;,\n",
       "                                  &#x27;MAINTENANCE_ITEM&#x27;])])</pre></div> </div></div><div class=\"sk-parallel\"><div class=\"sk-parallel-item\"><div class=\"sk-item\"><div class=\"sk-label-container\"><div class=\"sk-label fitted sk-toggleable\"><input class=\"sk-toggleable__control sk-hidden--visually\" id=\"sk-estimator-id-17\" type=\"checkbox\" ><label for=\"sk-estimator-id-17\" class=\"sk-toggleable__label fitted sk-toggleable__label-arrow fitted\">num</label><div class=\"sk-toggleable__content fitted\"><pre>[&#x27;MACHINE_AGE_YEARS&#x27;, &#x27;START_DATE_DAYS&#x27;, &#x27;FINISH_DATE_DAYS&#x27;]</pre></div> </div></div><div class=\"sk-serial\"><div class=\"sk-item\"><div class=\"sk-estimator fitted sk-toggleable\"><input class=\"sk-toggleable__control sk-hidden--visually\" id=\"sk-estimator-id-18\" type=\"checkbox\" ><label for=\"sk-estimator-id-18\" class=\"sk-toggleable__label fitted sk-toggleable__label-arrow fitted\">&nbsp;StandardScaler<a class=\"sk-estimator-doc-link fitted\" rel=\"noreferrer\" target=\"_blank\" href=\"https://scikit-learn.org/1.4/modules/generated/sklearn.preprocessing.StandardScaler.html\">?<span>Documentation for StandardScaler</span></a></label><div class=\"sk-toggleable__content fitted\"><pre>StandardScaler()</pre></div> </div></div></div></div></div><div class=\"sk-parallel-item\"><div class=\"sk-item\"><div class=\"sk-label-container\"><div class=\"sk-label fitted sk-toggleable\"><input class=\"sk-toggleable__control sk-hidden--visually\" id=\"sk-estimator-id-19\" type=\"checkbox\" ><label for=\"sk-estimator-id-19\" class=\"sk-toggleable__label fitted sk-toggleable__label-arrow fitted\">cat</label><div class=\"sk-toggleable__content fitted\"><pre>[&#x27;EQUIPMENT_ID&#x27;, &#x27;PLANT_ID&#x27;, &#x27;MAINTENANCE_ACTIVITY_TYPE&#x27;, &#x27;MAINTENANCE_ITEM&#x27;]</pre></div> </div></div><div class=\"sk-serial\"><div class=\"sk-item\"><div class=\"sk-estimator fitted sk-toggleable\"><input class=\"sk-toggleable__control sk-hidden--visually\" id=\"sk-estimator-id-20\" type=\"checkbox\" ><label for=\"sk-estimator-id-20\" class=\"sk-toggleable__label fitted sk-toggleable__label-arrow fitted\">&nbsp;OneHotEncoder<a class=\"sk-estimator-doc-link fitted\" rel=\"noreferrer\" target=\"_blank\" href=\"https://scikit-learn.org/1.4/modules/generated/sklearn.preprocessing.OneHotEncoder.html\">?<span>Documentation for OneHotEncoder</span></a></label><div class=\"sk-toggleable__content fitted\"><pre>OneHotEncoder(handle_unknown=&#x27;ignore&#x27;)</pre></div> </div></div></div></div></div></div></div><div class=\"sk-item\"><div class=\"sk-estimator fitted sk-toggleable\"><input class=\"sk-toggleable__control sk-hidden--visually\" id=\"sk-estimator-id-21\" type=\"checkbox\" ><label for=\"sk-estimator-id-21\" class=\"sk-toggleable__label fitted sk-toggleable__label-arrow fitted\">&nbsp;LinearRegression<a class=\"sk-estimator-doc-link fitted\" rel=\"noreferrer\" target=\"_blank\" href=\"https://scikit-learn.org/1.4/modules/generated/sklearn.linear_model.LinearRegression.html\">?<span>Documentation for LinearRegression</span></a></label><div class=\"sk-toggleable__content fitted\"><pre>LinearRegression()</pre></div> </div></div></div></div></div></div>"
      ],
      "text/plain": [
       "Pipeline(steps=[('preprocessor',\n",
       "                 ColumnTransformer(transformers=[('num', StandardScaler(),\n",
       "                                                  ['MACHINE_AGE_YEARS',\n",
       "                                                   'START_DATE_DAYS',\n",
       "                                                   'FINISH_DATE_DAYS']),\n",
       "                                                 ('cat',\n",
       "                                                  OneHotEncoder(handle_unknown='ignore'),\n",
       "                                                  ['EQUIPMENT_ID', 'PLANT_ID',\n",
       "                                                   'MAINTENANCE_ACTIVITY_TYPE',\n",
       "                                                   'MAINTENANCE_ITEM'])])),\n",
       "                ('regressor', LinearRegression())])"
      ]
     },
     "execution_count": 263,
     "metadata": {},
     "output_type": "execute_result"
    }
   ],
   "source": [
    "# Build and Train Linear Regression Model Create a pipeline that integrates preprocessing with the model and then fit it on the training data.\n",
    "\n",
    "from sklearn.pipeline import Pipeline\n",
    "from sklearn.linear_model import LinearRegression\n",
    "\n",
    "# Build a pipeline with preprocessing and linear regression model\n",
    "linear_pipeline = Pipeline(steps=[('preprocessor', preprocessor),\n",
    "                                  ('regressor', LinearRegression())])\n",
    "\n",
    "# Fit the model on training data\n",
    "linear_pipeline.fit(X_train, y_train)\n",
    "\n",
    "\n"
   ]
  },
  {
   "cell_type": "code",
   "execution_count": 265,
   "id": "69ea623e-62ee-4c04-973c-654857a5ea9e",
   "metadata": {},
   "outputs": [
    {
     "name": "stdout",
     "output_type": "stream",
     "text": [
      "RMSE: 670.5189862556732\n",
      "R^2 Score: 0.06563440050127134\n"
     ]
    }
   ],
   "source": [
    "# Make Predictions and Evaluate Model Use the test set to make predictions and evaluate the model’s performance.\n",
    "\n",
    "from sklearn.metrics import mean_squared_error, r2_score\n",
    "import numpy as np\n",
    "\n",
    "# Predict on the test set\n",
    "y_pred_linear = linear_pipeline.predict(X_test)\n",
    "\n",
    "# Calculate RMSE manually by taking the square root of mean_squared_error\n",
    "rmse = np.sqrt(mean_squared_error(y_test, y_pred_linear))\n",
    "r2 = r2_score(y_test, y_pred_linear)\n",
    "\n",
    "print(\"RMSE:\", rmse)\n",
    "print(\"R^2 Score:\", r2)"
   ]
  },
  {
   "cell_type": "markdown",
   "id": "e21c9df7-8df2-4f43-a5db-e064d2d4ef0c",
   "metadata": {},
   "source": [
    "**Model Interpretation**\n",
    "\n",
    "*The Linear Regression model produced an RMSE of 670.52 and an R² score of only 0.066, indicating that it performs poorly in capturing the variance in downtime. With an R² of just 6.6%, Linear Regression struggles to account for the complexity of the data and fails to capture non-linear relationships effectively. This low R² value suggests that the model explains very little of the variance in the target variable, making it a poor fit for predicting downtime. In comparison to more sophisticated models like XGBoost, which achieved significantly higher accuracy, Linear Regression is not well-suited for this task.*"
   ]
  },
  {
   "cell_type": "markdown",
   "id": "06cc771b-5b76-4674-a1a8-e3fdfe997cfd",
   "metadata": {},
   "source": [
    "## Random Forest Model  <a id=\"Random-Forest-Model\"></a>"
   ]
  },
  {
   "cell_type": "code",
   "execution_count": 164,
   "id": "88c19c10-1c52-4559-8edf-6d16d35c7a0a",
   "metadata": {},
   "outputs": [
    {
     "name": "stdout",
     "output_type": "stream",
     "text": [
      "Random Forest RMSE: 693.5717672034309\n",
      "Random Forest R^2 Score: 0.0002820413501591901\n"
     ]
    }
   ],
   "source": [
    "from sklearn.ensemble import RandomForestRegressor\n",
    "from sklearn.pipeline import Pipeline\n",
    "from sklearn.metrics import mean_squared_error, r2_score\n",
    "from sklearn.utils import resample\n",
    "import numpy as np\n",
    "\n",
    "# Downsample the training data to speed up computation (optional, but reduces computation time)\n",
    "X_train_sample, y_train_sample = resample(X_train, y_train, n_samples=5000, random_state=42)\n",
    "\n",
    "# Define a smaller Random Forest model with parallel processing\n",
    "rf_pipeline = Pipeline(steps=[('preprocessor', preprocessor),\n",
    "                              ('regressor', RandomForestRegressor(n_estimators=20, max_depth=7, \n",
    "                                                                  min_samples_split=10, \n",
    "                                                                  min_samples_leaf=5, \n",
    "                                                                  random_state=42, \n",
    "                                                                  n_jobs=-1))])  # n_jobs=-1 uses all cores\n",
    "\n",
    "# Train the Random Forest model on the downsampled dataset\n",
    "rf_pipeline.fit(X_train_sample, y_train_sample)\n",
    "\n",
    "# Make predictions and evaluate\n",
    "y_pred_rf = rf_pipeline.predict(X_test)\n",
    "\n",
    "# Calculate RMSE without using squared=False to avoid the warning\n",
    "rmse_rf = np.sqrt(mean_squared_error(y_test, y_pred_rf))\n",
    "r2_rf = r2_score(y_test, y_pred_rf)\n",
    "\n",
    "print(\"Random Forest RMSE:\", rmse_rf)\n",
    "print(\"Random Forest R^2 Score:\", r2_rf)"
   ]
  },
  {
   "cell_type": "markdown",
   "id": "7244fd8c-50c9-4c2f-aa4f-14ea04ff5621",
   "metadata": {},
   "source": [
    "*The Random Forest model performed poorly, with an RMSE of 693.57 and an extremely low R² score of just 0.0003. This almost negligible R² value indicates that the model fails to explain the variance in downtime, capturing almost none of the predictive patterns in the data. The high RMSE and near-zero R² suggest that the Random Forest model is not able to capture relevant information for this dataset, potentially due to high-dimensionality or noise. Despite Random Forest’s ability to capture non-linear relationships, it underperforms significantly compared to other models like XGBoost, highlighting its lack of suitability for this particular dataset.*"
   ]
  },
  {
   "cell_type": "markdown",
   "id": "8c51bf52-a791-43e0-9e8f-edf4d215ea73",
   "metadata": {},
   "source": [
    "## Modified XGBoost <a id=\"Modified-XGBoost\"></a>"
   ]
  },
  {
   "cell_type": "code",
   "execution_count": 160,
   "id": "4c81f3df-d903-4aed-b167-bd603c3e19e3",
   "metadata": {},
   "outputs": [
    {
     "name": "stdout",
     "output_type": "stream",
     "text": [
      "XGBoost RMSE: 494.4184314356938\n",
      "XGBoost R^2 Score: 0.4919762849062477\n"
     ]
    }
   ],
   "source": [
    "from xgboost import XGBRegressor\n",
    "from sklearn.pipeline import Pipeline\n",
    "from sklearn.metrics import root_mean_squared_error, r2_score\n",
    "\n",
    "# Define pipeline with XGBoost\n",
    "xgb_pipeline = Pipeline(steps=[('preprocessor', preprocessor),\n",
    "                               ('regressor', XGBRegressor(n_estimators=100, learning_rate=0.1, random_state=42))])\n",
    "\n",
    "# Train the XGBoost model\n",
    "xgb_pipeline.fit(X_train, y_train)\n",
    "\n",
    "# Make predictions and evaluate\n",
    "y_pred_xgb = xgb_pipeline.predict(X_test)\n",
    "rmse_xgb = root_mean_squared_error(y_test, y_pred_xgb)\n",
    "r2_xgb = r2_score(y_test, y_pred_xgb)\n",
    "\n",
    "print(\"XGBoost RMSE:\", rmse_xgb)\n",
    "print(\"XGBoost R^2 Score:\", r2_xgb)\n"
   ]
  },
  {
   "cell_type": "markdown",
   "id": "2ed36e2f-09dd-404b-a38e-f6f971755d63",
   "metadata": {},
   "source": [
    "*The XGBoost model achieved an RMSE of 494.42 and an R² score of 0.49, indicating a substantial improvement over other models. With nearly half of the variance in downtime explained, XGBoost demonstrates its capability to capture complex, non-linear patterns in the data. Compared to Linear Regression, Random Forest, and even Gradient Boosting, XGBoost’s optimized algorithm and parallel processing allow it to leverage the full dataset effectively, resulting in far superior predictive accuracy. This result confirms that XGBoost is highly suited for this task, making it the best-performing model by a significant margin.*"
   ]
  },
  {
   "cell_type": "markdown",
   "id": "f5d1b8ce-d06d-4385-8063-6bd6222c1235",
   "metadata": {},
   "source": [
    "## Cross-Validation and Performance Metrics <a id=\"Cross-Validation-and-Metrics\"></a>"
   ]
  },
  {
   "cell_type": "markdown",
   "id": "f76304fa-86f5-4c64-99c8-5ec58fcecb9d",
   "metadata": {},
   "source": [
    "### Cross-Validation"
   ]
  },
  {
   "cell_type": "code",
   "execution_count": 291,
   "id": "a93117f0-97ef-4e2d-bf5f-120cae9cc8c6",
   "metadata": {},
   "outputs": [
    {
     "name": "stdout",
     "output_type": "stream",
     "text": [
      "Cross-Validation RMSE Scores: [796.64243859 917.9787391  472.60627478 979.13633495 877.40578755]\n",
      "Mean RMSE: 808.7539149944035\n",
      "Standard Deviation of RMSE: 178.2219036579585\n",
      "Cross-Validation R² Scores: [ 0.0300901   0.02806216 -0.28685675  0.0139607  -0.00067026]\n",
      "Mean R²: -0.043082809963767565\n",
      "Standard Deviation of R²: 0.12238823459543269\n"
     ]
    }
   ],
   "source": [
    "from xgboost import XGBRegressor\n",
    "from sklearn.model_selection import cross_val_score, KFold\n",
    "from sklearn.metrics import make_scorer, mean_squared_error, r2_score\n",
    "import numpy as np\n",
    "\n",
    "# Define the model with optimized parameters\n",
    "xgb_model = XGBRegressor(\n",
    "    learning_rate=0.03406874190795616,\n",
    "    max_depth=10,\n",
    "    n_estimators=108,\n",
    "    random_state=42\n",
    ")\n",
    "\n",
    "# Define the cross-validation strategy\n",
    "kf = KFold(n_splits=5, shuffle=True, random_state=42)  # 5-fold cross-validation\n",
    "\n",
    "# Define scoring metrics for cross-validation\n",
    "mse_scorer = make_scorer(mean_squared_error, greater_is_better=False)  \n",
    "r2_scorer = make_scorer(r2_score)\n",
    "\n",
    "# Perform cross-validation for RMSE\n",
    "cv_mse_scores = cross_val_score(xgb_model, X_train_processed, y_train, scoring=mse_scorer, cv=kf)\n",
    "cv_rmse_scores = np.sqrt(-cv_mse_scores)  # Convert negative MSE to RMSE\n",
    "\n",
    "# Perform cross-validation for R²\n",
    "cv_r2_scores = cross_val_score(xgb_model, X_train_processed, y_train, scoring=r2_scorer, cv=kf)\n",
    "\n",
    "# Display the cross-validation results\n",
    "print(\"Cross-Validation RMSE Scores:\", cv_rmse_scores)\n",
    "print(\"Mean RMSE:\", np.mean(cv_rmse_scores))\n",
    "print(\"Standard Deviation of RMSE:\", np.std(cv_rmse_scores))\n",
    "\n",
    "print(\"Cross-Validation R² Scores:\", cv_r2_scores)\n",
    "print(\"Mean R²:\", np.mean(cv_r2_scores))\n",
    "print(\"Standard Deviation of R²:\", np.std(cv_r2_scores))\n"
   ]
  },
  {
   "cell_type": "markdown",
   "id": "c01c2367-8792-46b1-bdbf-8fdd17d743ef",
   "metadata": {},
   "source": [
    "*The cross-validation results indicate variability in the performance of the model across different folds, as evidenced by the spread in RMSE and R² scores:*\n",
    "\n",
    "*RMSE Scores: The RMSE scores across the five folds range from approximately 472.61 to 979.14, with a mean RMSE of about 808.75. This suggests that the model’s error, when predicting downtime in minutes, varies substantially depending on the sample used. The relatively high standard deviation (178.22) indicates inconsistency in prediction error across different subsets of the data, implying the model may be sensitive to certain variations within the dataset.*\n",
    "\n",
    "*R² Scores: The R² values range from -0.287 to 0.03, with an average of -0.043. An R² value below zero indicates that, in some folds, the model performed worse than a simple mean-based prediction. This low mean R² value, combined with a high standard deviation (0.122), suggests that the model struggles to explain the variability in downtime across different folds, which might be due to complex, non-linear relationships in the data that are not fully captured by the current model configuration.*\n",
    "\n",
    "*Overall Interpretation: The high RMSE values and low (often negative) R² scores indicate that the model is not consistently accurate in predicting downtime. This outcome suggests a need for further improvements, such as additional feature engineering, hyperparameter tuning, or exploring more complex model architectures to capture the underlying patterns in downtime more effectively.*"
   ]
  },
  {
   "cell_type": "markdown",
   "id": "6657fc73-10b3-4303-80b6-bbe5d4d4c469",
   "metadata": {},
   "source": [
    "### Performance metrics"
   ]
  },
  {
   "cell_type": "markdown",
   "id": "8e168ed4-2072-4546-b2cf-f19029001df9",
   "metadata": {},
   "source": [
    "**Performance metrics for the best model i.e XGBoost : in-sample and estimated out-of-sample performance.**"
   ]
  },
  {
   "cell_type": "code",
   "execution_count": 289,
   "id": "e9a60e97-50a7-4179-b252-eaf22a233871",
   "metadata": {},
   "outputs": [
    {
     "name": "stdout",
     "output_type": "stream",
     "text": [
      "In-Sample (Training Set) Performance:\n",
      "RMSE: 487.64\n",
      "R²: 0.6540\n",
      "\n",
      "Estimated Out-of-Sample (Test Set) Performance:\n",
      "RMSE: 616.88\n",
      "R²: 0.2091\n"
     ]
    }
   ],
   "source": [
    "from sklearn.metrics import mean_squared_error, r2_score\n",
    "import numpy as np\n",
    "\n",
    "# Fit the XGBoost model on the training set\n",
    "best_xgb_model = XGBRegressor(\n",
    "    learning_rate=0.03406874190795616,\n",
    "    max_depth=10,\n",
    "    n_estimators=108,\n",
    "    random_state=42,\n",
    "    tree_method='hist'  # Using 'hist' for CPU optimization\n",
    ")\n",
    "\n",
    "best_xgb_model.fit(X_train_processed, y_train)\n",
    "\n",
    "# In-sample performance (Training set)\n",
    "y_train_pred = best_xgb_model.predict(X_train_processed)\n",
    "train_rmse = np.sqrt(mean_squared_error(y_train, y_train_pred))\n",
    "train_r2 = r2_score(y_train, y_train_pred)\n",
    "\n",
    "# Estimated out-of-sample performance (Test set)\n",
    "y_test_pred = best_xgb_model.predict(X_test_processed)\n",
    "test_rmse = np.sqrt(mean_squared_error(y_test, y_test_pred))\n",
    "test_r2 = r2_score(y_test, y_test_pred)\n",
    "\n",
    "# Display performance metrics\n",
    "print(\"In-Sample (Training Set) Performance:\")\n",
    "print(f\"RMSE: {train_rmse:.2f}\")\n",
    "print(f\"R²: {train_r2:.4f}\")\n",
    "\n",
    "print(\"\\nEstimated Out-of-Sample (Test Set) Performance:\")\n",
    "print(f\"RMSE: {test_rmse:.2f}\")\n",
    "print(f\"R²: {test_r2:.4f}\")\n"
   ]
  },
  {
   "cell_type": "markdown",
   "id": "9b72127b-dc1d-40f8-9cfb-50b377a5c890",
   "metadata": {},
   "source": [
    "*The In-Sample (Training Set) Performance for the model demonstrates a strong fit with an RMSE of 487.64 and an R² of 0.6540. This means that the model explains approximately 65.4% of the variance in downtime within the training data, indicating that it captures essential patterns and relationships when learning from the known data. The relatively low RMSE value suggests that the model’s predictions are, on average, close to the actual downtime values in the training set.*\n",
    "\n",
    "*For the Estimated Out-of-Sample (Test Set) Performance, the RMSE increases to 616.88, and the R² drops to 0.2091. This drop in performance, where the model explains only about 21% of the variance in the test data, indicates that while the model has learned meaningful insights from the training data, it does not generalize as well to new data. This may suggest mild overfitting, where the model has slightly adapted to specific patterns in the training data but struggles to perform consistently when predicting unseen data.*\n",
    "\n",
    "*This interpretation underscores that the model, though effective, may benefit from additional regularization or alternative feature engineering to improve its generalizability for future predictive maintenance tasks across Swire Coca-Cola’s production plants*"
   ]
  },
  {
   "cell_type": "markdown",
   "id": "d5737813-0a7c-4949-826c-884b361e5e84",
   "metadata": {},
   "source": [
    "## Modeling Results Summary <a id=\"Modeling-Results-Summary\"></a>"
   ]
  },
  {
   "cell_type": "markdown",
   "id": "f55d0a28-2957-4aee-8bed-5b469bb21ab4",
   "metadata": {},
   "source": [
    "## Performance Metrics and Summary Table <a id=\"Performance-Metrics-and-Summary-Table\"></a>"
   ]
  },
  {
   "cell_type": "code",
   "execution_count": 275,
   "id": "40618401-1dfa-4e51-839c-36af347b064e",
   "metadata": {},
   "outputs": [
    {
     "data": {
      "text/html": [
       "<style type=\"text/css\">\n",
       "#T_d4f13 caption {\n",
       "  font-size: 16px;\n",
       "  font-weight: bold;\n",
       "}\n",
       "#T_d4f13_row0_col0, #T_d4f13_row0_col5, #T_d4f13_row0_col6, #T_d4f13_row1_col0, #T_d4f13_row1_col5, #T_d4f13_row1_col6, #T_d4f13_row2_col0, #T_d4f13_row2_col5, #T_d4f13_row2_col6, #T_d4f13_row3_col0, #T_d4f13_row3_col5, #T_d4f13_row3_col6 {\n",
       "  text-align: center;\n",
       "  font-size: 14px;\n",
       "}\n",
       "#T_d4f13_row0_col1, #T_d4f13_row0_col3 {\n",
       "  background-color: #081d58;\n",
       "  color: #f1f1f1;\n",
       "  text-align: center;\n",
       "  font-size: 14px;\n",
       "}\n",
       "#T_d4f13_row0_col2, #T_d4f13_row0_col4, #T_d4f13_row1_col2, #T_d4f13_row1_col4, #T_d4f13_row2_col2, #T_d4f13_row2_col4, #T_d4f13_row3_col2, #T_d4f13_row3_col4 {\n",
       "  background-color: #ffffd9;\n",
       "  color: #000000;\n",
       "  text-align: center;\n",
       "  font-size: 14px;\n",
       "}\n",
       "#T_d4f13_row1_col1 {\n",
       "  background-color: #1b2c80;\n",
       "  color: #f1f1f1;\n",
       "  text-align: center;\n",
       "  font-size: 14px;\n",
       "}\n",
       "#T_d4f13_row1_col3 {\n",
       "  background-color: #23499e;\n",
       "  color: #f1f1f1;\n",
       "  text-align: center;\n",
       "  font-size: 14px;\n",
       "}\n",
       "#T_d4f13_row2_col1, #T_d4f13_row2_col3 {\n",
       "  background-color: #2260a9;\n",
       "  color: #f1f1f1;\n",
       "  text-align: center;\n",
       "  font-size: 14px;\n",
       "}\n",
       "#T_d4f13_row3_col1 {\n",
       "  background-color: #243f99;\n",
       "  color: #f1f1f1;\n",
       "  text-align: center;\n",
       "  font-size: 14px;\n",
       "}\n",
       "#T_d4f13_row3_col3 {\n",
       "  background-color: #225aa6;\n",
       "  color: #f1f1f1;\n",
       "  text-align: center;\n",
       "  font-size: 14px;\n",
       "}\n",
       "</style>\n",
       "<table id=\"T_d4f13\">\n",
       "  <caption>Model Performance Summary by Sample Size</caption>\n",
       "  <thead>\n",
       "    <tr>\n",
       "      <th class=\"blank level0\" >&nbsp;</th>\n",
       "      <th id=\"T_d4f13_level0_col0\" class=\"col_heading level0 col0\" >Model</th>\n",
       "      <th id=\"T_d4f13_level0_col1\" class=\"col_heading level0 col1\" >MSE (1,000 Samples)</th>\n",
       "      <th id=\"T_d4f13_level0_col2\" class=\"col_heading level0 col2\" >R² (1,000 Samples)</th>\n",
       "      <th id=\"T_d4f13_level0_col3\" class=\"col_heading level0 col3\" >MSE (10,000 Samples)</th>\n",
       "      <th id=\"T_d4f13_level0_col4\" class=\"col_heading level0 col4\" >R² (10,000 Samples)</th>\n",
       "      <th id=\"T_d4f13_level0_col5\" class=\"col_heading level0 col5\" >MSE (Full Dataset)</th>\n",
       "      <th id=\"T_d4f13_level0_col6\" class=\"col_heading level0 col6\" >R² (Full Dataset)</th>\n",
       "    </tr>\n",
       "  </thead>\n",
       "  <tbody>\n",
       "    <tr>\n",
       "      <th id=\"T_d4f13_level0_row0\" class=\"row_heading level0 row0\" >0</th>\n",
       "      <td id=\"T_d4f13_row0_col0\" class=\"data row0 col0\" >Linear Regression</td>\n",
       "      <td id=\"T_d4f13_row0_col1\" class=\"data row0 col1\" >4654.31</td>\n",
       "      <td id=\"T_d4f13_row0_col2\" class=\"data row0 col2\" >0.02</td>\n",
       "      <td id=\"T_d4f13_row0_col3\" class=\"data row0 col3\" >4640.27</td>\n",
       "      <td id=\"T_d4f13_row0_col4\" class=\"data row0 col4\" >0.02</td>\n",
       "      <td id=\"T_d4f13_row0_col5\" class=\"data row0 col5\" >670.52</td>\n",
       "      <td id=\"T_d4f13_row0_col6\" class=\"data row0 col6\" >0.07</td>\n",
       "    </tr>\n",
       "    <tr>\n",
       "      <th id=\"T_d4f13_level0_row1\" class=\"row_heading level0 row1\" >1</th>\n",
       "      <td id=\"T_d4f13_row1_col0\" class=\"data row1 col0\" >Random Forest</td>\n",
       "      <td id=\"T_d4f13_row1_col1\" class=\"data row1 col1\" >4266.11</td>\n",
       "      <td id=\"T_d4f13_row1_col2\" class=\"data row1 col2\" >0.10</td>\n",
       "      <td id=\"T_d4f13_row1_col3\" class=\"data row1 col3\" >3767.45</td>\n",
       "      <td id=\"T_d4f13_row1_col4\" class=\"data row1 col4\" >0.21</td>\n",
       "      <td id=\"T_d4f13_row1_col5\" class=\"data row1 col5\" >693.57</td>\n",
       "      <td id=\"T_d4f13_row1_col6\" class=\"data row1 col6\" >0.00</td>\n",
       "    </tr>\n",
       "    <tr>\n",
       "      <th id=\"T_d4f13_level0_row2\" class=\"row_heading level0 row2\" >2</th>\n",
       "      <td id=\"T_d4f13_row2_col0\" class=\"data row2 col0\" >XGBoost</td>\n",
       "      <td id=\"T_d4f13_row2_col1\" class=\"data row2 col1\" >3471.42</td>\n",
       "      <td id=\"T_d4f13_row2_col2\" class=\"data row2 col2\" >0.27</td>\n",
       "      <td id=\"T_d4f13_row2_col3\" class=\"data row2 col3\" >3471.42</td>\n",
       "      <td id=\"T_d4f13_row2_col4\" class=\"data row2 col4\" >0.27</td>\n",
       "      <td id=\"T_d4f13_row2_col5\" class=\"data row2 col5\" >494.42</td>\n",
       "      <td id=\"T_d4f13_row2_col6\" class=\"data row2 col6\" >0.49</td>\n",
       "    </tr>\n",
       "    <tr>\n",
       "      <th id=\"T_d4f13_level0_row3\" class=\"row_heading level0 row3\" >3</th>\n",
       "      <td id=\"T_d4f13_row3_col0\" class=\"data row3 col0\" >Gradient Boosting</td>\n",
       "      <td id=\"T_d4f13_row3_col1\" class=\"data row3 col1\" >3915.21</td>\n",
       "      <td id=\"T_d4f13_row3_col2\" class=\"data row3 col2\" >0.18</td>\n",
       "      <td id=\"T_d4f13_row3_col3\" class=\"data row3 col3\" >3541.29</td>\n",
       "      <td id=\"T_d4f13_row3_col4\" class=\"data row3 col4\" >0.25</td>\n",
       "      <td id=\"T_d4f13_row3_col5\" class=\"data row3 col5\" >-</td>\n",
       "      <td id=\"T_d4f13_row3_col6\" class=\"data row3 col6\" >-</td>\n",
       "    </tr>\n",
       "  </tbody>\n",
       "</table>\n"
      ],
      "text/plain": [
       "<pandas.io.formats.style.Styler at 0x2caaf18df70>"
      ]
     },
     "execution_count": 275,
     "metadata": {},
     "output_type": "execute_result"
    }
   ],
   "source": [
    "# Model performance data for different sample sizes\n",
    "sample_1000 = {\n",
    "    'Model': ['Linear Regression', 'Random Forest', 'XGBoost', 'Gradient Boosting'],\n",
    "    'MSE (1,000 Samples)': [4654.31, 4266.11, 3471.42, 3915.21],\n",
    "    'R² (1,000 Samples)': [0.0199, 0.1017, 0.2690, 0.1756]\n",
    "}\n",
    "\n",
    "sample_10000 = {\n",
    "    'Model': ['Linear Regression', 'Random Forest', 'XGBoost', 'Gradient Boosting'],\n",
    "    'MSE (10,000 Samples)': [4640.27, 3767.45, 3471.42, 3541.29],\n",
    "    'R² (10,000 Samples)': [0.0229, 0.2067, 0.2690, 0.2543]\n",
    "}\n",
    "\n",
    "full_dataset = {\n",
    "    'Model': ['Linear Regression', 'Random Forest', 'XGBoost', 'Gradient Boosting'],\n",
    "    'MSE (Full Dataset)': [670.52, 693.57, 494.42, '-'],\n",
    "    'R² (Full Dataset)': [0.0656, 0.0003, 0.4920, '-']\n",
    "}\n",
    "\n",
    "# Create DataFrames for each sample size\n",
    "df_1000 = pd.DataFrame(sample_1000)\n",
    "df_10000 = pd.DataFrame(sample_10000)\n",
    "df_full = pd.DataFrame(full_dataset)\n",
    "\n",
    "# Merge DataFrames on the 'Model' column\n",
    "summary_df = df_1000.merge(df_10000, on='Model').merge(df_full, on='Model')\n",
    "\n",
    "# Format and style the summary table for readability and emphasis\n",
    "styled_table = summary_df.style.set_caption(\"Model Performance Summary by Sample Size\") \\\n",
    "    .format(precision=2, na_rep=\"-\") \\\n",
    "    .background_gradient(cmap=\"YlGnBu\", axis=None) \\\n",
    "    .set_table_styles([{'selector': 'caption', 'props': [('font-size', '16px'), ('font-weight', 'bold')]}]) \\\n",
    "    .set_properties(**{'text-align': 'center', 'font-size': '14px'})\n",
    "\n",
    "# Display the table\n",
    "styled_table\n"
   ]
  },
  {
   "cell_type": "markdown",
   "id": "32ae1653-4207-43b5-a02b-c6e1724b63aa",
   "metadata": {},
   "source": [
    "The summary table provides a statistical overview of the model performance across different sample sizes and the full dataset, highlighting the impact of data size and model complexity on predictive accuracy. Here's an interpretation of each aspect:\n",
    "\n",
    "**Linear Regression:**\n",
    "\n",
    "1,000 Samples: The MSE is 4654.31, with a very low R² of 0.02, indicating that the model struggles to explain the variance in downtime.\n",
    "10,000 Samples: Minimal improvement, with an MSE of 4640.27 and R² still at 0.02. Linear regression’s inability to capture complex patterns in downtime is apparent.\n",
    "Full Dataset: MSE improves significantly to 670.52, and R² increases to 0.07. Although still low, the improvement suggests that more data aids linear regression slightly but does not make it effective for this task.\n",
    "\n",
    "**Random Forest:**\n",
    "\n",
    "1,000 Samples: MSE is 4266.11, with an R² of 0.10, indicating the model begins to capture non-linear relationships.\n",
    "10,000 Samples: The MSE decreases to 3767.45, with a modest increase in R² to 0.21. The improvement reflects the model's ability to leverage more data to capture complexity.\n",
    "Full Dataset: Interestingly, MSE slightly increases to 693.57, and R² plummets to almost zero. This likely suggests overfitting issues or sensitivity to noise, implying that the Random Forest model may not generalize well for the entire dataset in this context.\n",
    "\n",
    "**XGBoost (Best Performer):**\n",
    "\n",
    "1,000 Samples: MSE of 3471.42 and R² of 0.27 demonstrate XGBoost’s effective handling of non-linear relationships, even with limited data.\n",
    "10,000 Samples: The model maintains its performance with an MSE of 3471.42 and R² of 0.27, indicating stability and robustness.\n",
    "Full Dataset: Significant improvement with an MSE of 494.42 and an R² of 0.49. XGBoost effectively leverages the full dataset, demonstrating its ability to capture complex patterns in the data and providing the best performance across all metrics.\n",
    "\n",
    "**Gradient Boosting:**\n",
    "\n",
    "1,000 and 10,000 Samples: With an MSE of 3915.21 (1,000 samples) and 3541.29 (10,000 samples), and respective R² values of 0.18 and 0.25, Gradient Boosting performs well but is outpaced by XGBoost.\n",
    "Full Dataset: Not used due to computational constraints, but performance with smaller samples suggests it may perform similarly to XGBoost on larger datasets, though with potentially higher computational costs.\n",
    "\n",
    "**Overall Interpretation**\n",
    "\n",
    "The results demonstrate that:\n",
    "\n",
    "Thorough Data Cleaning and Preprocessing: Essential to improve model performance, as shown by the substantial improvements when using the full dataset with the XGBoost model.\n",
    "\n",
    "XGBoost: Outperforms other models, particularly when using the full dataset, due to its ability to handle large data, complex interactions, and non-linearity, making it the optimal choice for downtime prediction in this context.\n",
    "\n",
    "Random Forest’s Sensitivity: The performance drop with the full dataset highlights potential limitations of Random Forest in handling very large datasets or noise sensitivity in this particular context.\n",
    "\n",
    "Linear Regression: Continues to underperform, indicating that linear methods are not suitable for modeling the downtime variable due to its likely non-linear and complex nature.\n",
    "\n",
    "In summary, the comparison illustrates the importance of data size and quality in model selection and shows XGBoost as the most suitable model for this predictive task due to its robustness and scalability. The improvements validate the steps of data cleaning, outlier handling, and using non-linear models for complex real-world data."
   ]
  },
  {
   "cell_type": "markdown",
   "id": "6dc32fdb-c6f2-4701-a9a9-692dbb9252fa",
   "metadata": {},
   "source": [
    "## Results and Summary <a id=\"Results-and-Summary\"></a>"
   ]
  },
  {
   "cell_type": "markdown",
   "id": "88d903d5-cee3-445a-b654-22f2c324b281",
   "metadata": {},
   "source": [
    "**Modeling Results and Summary**\n",
    "**Objective**\n",
    "The main goal of this analysis was to develop a predictive maintenance model to minimize unplanned machine downtimes for Swire Coca-Cola, with the aim of reducing operational disruptions and financial losses. The target variable, ACTUAL_WORK_IN_MINUTES, represents downtime duration, and our predictive model strives to anticipate and reduce this metric.\n",
    "\n",
    "**Model Performance**\n",
    "Through an iterative process involving data cleaning, feature engineering, and model selection, XGBoost emerged as the optimal model based on cross-validation and test set performance metrics. Below are the key results:"
   ]
  },
  {
   "cell_type": "markdown",
   "id": "7da91ce1-d070-4eb6-a52e-9b64b5ed7736",
   "metadata": {},
   "source": [
    "**Performance Summary**"
   ]
  },
  {
   "cell_type": "code",
   "execution_count": 307,
   "id": "07fddd6c-1de3-45b5-9c63-e3c6a097ffd7",
   "metadata": {},
   "outputs": [
    {
     "name": "stdout",
     "output_type": "stream",
     "text": [
      "Performance Summary Table:\n",
      "               Model  Initial RMSE  Initial R²  Updated RMSE  Updated R²\n",
      "0  Linear Regression       4654.31      0.0199       4640.27      0.0229\n",
      "1      Random Forest       4266.11      0.1017       3767.45      0.2067\n",
      "2  Gradient Boosting       3915.21      0.1756       3541.29      0.2543\n",
      "3            XGBoost       3471.42      0.2690        494.42      0.4920\n"
     ]
    }
   ],
   "source": [
    "import pandas as pd\n",
    "\n",
    "# Initial model performance results\n",
    "initial_results = {\n",
    "    'Model': ['Linear Regression', 'Random Forest', 'Gradient Boosting', 'XGBoost'],\n",
    "    'Initial RMSE': [4654.31, 4266.11, 3915.21, 3471.42],\n",
    "    'Initial R²': [0.0199, 0.1017, 0.1756, 0.2690]\n",
    "}\n",
    "\n",
    "# Updated model performance results after data cleaning and hyperparameter tuning\n",
    "updated_results = {\n",
    "    'Model': ['Linear Regression', 'Random Forest', 'Gradient Boosting', 'XGBoost'],\n",
    "    'Updated RMSE': [4640.27, 3767.45, 3541.29, 494.42],\n",
    "    'Updated R²': [0.0229, 0.2067, 0.2543, 0.4920]\n",
    "}\n",
    "\n",
    "# Creating DataFrames for initial and updated results\n",
    "initial_df = pd.DataFrame(initial_results)\n",
    "updated_df = pd.DataFrame(updated_results)\n",
    "\n",
    "# Merging initial and updated results for a side-by-side comparison\n",
    "performance_summary = initial_df.merge(updated_df, on='Model')\n",
    "\n",
    "# Display the summary table\n",
    "print(\"Performance Summary Table:\")\n",
    "print(performance_summary)\n"
   ]
  },
  {
   "cell_type": "markdown",
   "id": "1ccba0b3-6095-4e2e-83c1-a67d19c5e388",
   "metadata": {},
   "source": [
    "**Best Model (XGBoost) Performance**\n",
    "\n",
    "In-Sample (Training Set): RMSE = 487.64, R² = 0.6540\n",
    "Out-of-Sample (Test Set): RMSE = 616.88, R² = 0.2091\n",
    "These results show that the XGBoost model significantly outperformed other models. The RMSE reduction from the initial to the updated model indicates an enhanced ability to predict downtime accurately. The final XGBoost model explains approximately 49.2% of the variance in the test data and achieves a low RMSE (494.42) compared to other models.\n",
    "\n",
    "**Business Impact and Projected Efficiency Gains**\n",
    "Using the XGBoost model allows Swire Coca-Cola to anticipate downtimes with a higher degree of accuracy. By implementing this model, they can prioritize predictive maintenance, leading to an increase in operational efficiency and potential cost savings. Reducing unplanned downtimes allows for more consistent production cycles, minimizing resource wastage and potentially saving hundreds of thousands in downtime-related costs annually.\n",
    "\n",
    "**Conclusion**\n",
    "This project provides a scalable predictive model that meets Swire Coca-Cola’s objective of reducing unplanned downtimes, enhancing production efficiency, and enabling proactive maintenance. With further fine-tuning and continuous integration of updated data, this model could serve as a core component in Swire Coca-Cola’s predictive maintenance strategy, optimizing machine performance and financial outcomes."
   ]
  },
  {
   "cell_type": "markdown",
   "id": "0704ed31-5f13-4a4c-8c5d-a68c785805ba",
   "metadata": {},
   "source": []
  },
  {
   "cell_type": "markdown",
   "id": "a2516230-c0de-4916-812d-e83dad42ec87",
   "metadata": {},
   "source": [
    "# Alternative Approach: Classification Model <a id=\"Alternative-Approach-Classification-Model\"></a>"
   ]
  },
  {
   "cell_type": "markdown",
   "id": "69dcfb8d-1f5a-4ec8-a038-292a07af950e",
   "metadata": {},
   "source": [
    "## Introduction <a id=\"Alternative-Introduction\"></a>\n",
    "The goal of the project is to provide Swire Coca-Cola with the ability to predict future unplanned maintenance events and minimize downtime. Unplanned maintenance can lead to significant operational losses. Our primary analytical challenge will be identifying the variables that can predict machine breakdowns. Key target variables will include actual work in minutes and maintenance activity type."
   ]
  },
  {
   "cell_type": "markdown",
   "id": "d7acdad4-242e-4ce8-b783-c5877c450bc4",
   "metadata": {},
   "source": [
    "## Data Preparation <a id=\"Alternative-Data-Preparation\"></a>"
   ]
  },
  {
   "cell_type": "code",
   "execution_count": 1,
   "id": "1aed0ff0-584c-4935-a693-9a61566fa754",
   "metadata": {},
   "outputs": [
    {
     "name": "stdout",
     "output_type": "stream",
     "text": [
      "Columns: ['ORDER_ID', 'PLANT_ID', 'PRODUCTION_LOCATION', 'ACTUAL_WORK_IN_MINUTES', 'MAINTENANCE_PLAN', 'MAINTENANCE_ITEM', 'MAINTENANCE_ACTIVITY_TYPE', 'ORDER_DESCRIPTION', 'MAINTENANCE_TYPE_DESCRIPTION', 'FUNCTIONAL_LOC', 'FUNCTIONAL_AREA_NODE_1_MODIFIED', 'FUNCTIONAL_AREA_NODE_2_MODIFIED', 'FUNCTIONAL_AREA_NODE_3_MODIFIED', 'FUNCTIONAL_AREA_NODE_4_MODIFIED', 'FUNCTIONAL_AREA_NODE_5_MODIFIED', 'EQUIPMENT_ID'] \n",
      "     ORDER_ID PLANT_ID PRODUCTION_LOCATION  ACTUAL_WORK_IN_MINUTES  \\\n",
      "0  705642457     G812                ROMA                   390.0   \n",
      "1  704191697     G812                ROMA                   420.0   \n",
      "2  704466547     G812                ROMA                    30.0   \n",
      "3  703834477     G812                ROMA                    60.0   \n",
      "4  704661125     G291               MONZA                   120.0   \n",
      "\n",
      "  MAINTENANCE_PLAN  MAINTENANCE_ITEM MAINTENANCE_ACTIVITY_TYPE  \\\n",
      "0              NaN               NaN                 Unplanned   \n",
      "1              NaN               NaN                 Unplanned   \n",
      "2              NaN               NaN                 Unplanned   \n",
      "3              NaN               NaN                 Unplanned   \n",
      "4              NaN               NaN                 Unplanned   \n",
      "\n",
      "                ORDER_DESCRIPTION  MAINTENANCE_TYPE_DESCRIPTION  \\\n",
      "0  L2 GEARBOX LEAK (SEE ATTACHED)  Corrective Maintenance Order   \n",
      "1    LINE 3 CONVEYOR AT CAN CODER  Corrective Maintenance Order   \n",
      "2            BROKEN CONVEYOR RAIL  Corrective Maintenance Order   \n",
      "3                 LINE 3 CONVEYOR  Corrective Maintenance Order   \n",
      "4  REPLACED SONIC AIR BLOWER BELT  Corrective Maintenance Order   \n",
      "\n",
      "              FUNCTIONAL_LOC FUNCTIONAL_AREA_NODE_1_MODIFIED  \\\n",
      "0  G812-PRD-L15-L03-L030-020                      PRODUCTION   \n",
      "1  G812-PRD-L15-L03-L030-020                      PRODUCTION   \n",
      "2  G812-PRD-L15-L03-L030-020                      PRODUCTION   \n",
      "3  G812-PRD-L15-L03-L030-020                      PRODUCTION   \n",
      "4               G291-PRD-P05                MONZA PRODUCTION   \n",
      "\n",
      "  FUNCTIONAL_AREA_NODE_2_MODIFIED    FUNCTIONAL_AREA_NODE_3_MODIFIED  \\\n",
      "0      G812 PRD FILLER_ROTARY_CAN  G812 PRD FILLER_ROTARY_CAN LINE 3   \n",
      "1      G812 PRD FILLER_ROTARY_CAN  G812 PRD FILLER_ROTARY_CAN LINE 3   \n",
      "2      G812 PRD FILLER_ROTARY_CAN  G812 PRD FILLER_ROTARY_CAN LINE 3   \n",
      "3      G812 PRD FILLER_ROTARY_CAN  G812 PRD FILLER_ROTARY_CAN LINE 3   \n",
      "4                     AIR SYSTEMS                                NaN   \n",
      "\n",
      "  FUNCTIONAL_AREA_NODE_4_MODIFIED FUNCTIONAL_AREA_NODE_5_MODIFIED  \\\n",
      "0                        CONVEYOR               FULL CAN CONVEYOR   \n",
      "1                        CONVEYOR               FULL CAN CONVEYOR   \n",
      "2                        CONVEYOR               FULL CAN CONVEYOR   \n",
      "3                        CONVEYOR               FULL CAN CONVEYOR   \n",
      "4                             NaN                             NaN   \n",
      "\n",
      "   EQUIPMENT_ID  \n",
      "0   300126812.0  \n",
      "1   300126812.0  \n",
      "2   300126812.0  \n",
      "3   300126812.0  \n",
      "4   300001088.0  \n"
     ]
    }
   ],
   "source": [
    "# Package Importing and Data Cleaning \n",
    "import pandas as pd\n",
    "import numpy as np\n",
    "from sklearn.ensemble import RandomForestRegressor\n",
    "from sklearn.model_selection import train_test_split\n",
    "from sklearn.metrics import mean_squared_error\n",
    "from sklearn.preprocessing import OneHotEncoder\n",
    "df_a = pd.read_csv('IWC_Work_Orders_Extract.csv', low_memory=False)\n",
    "\n",
    "#remove columns not needed \n",
    "\n",
    "columns_to_remove = [\n",
    "    'EQUIPMENT_DESC', \n",
    "    'EQUIP_CAT_DESC', \n",
    "    'EQUIP_START_UP_DATE', \n",
    "    'EQUIP_VALID_FROM', \n",
    "    'EQUIP_VALID_TO', \n",
    "    'EXECUTION_FINISH_DATE', \n",
    "    'ACTUAL_START_TIME', \n",
    "    'ACTUAL_FINISH_TIME', \n",
    "    'EXECUTION_START_DATE'\n",
    "]\n",
    "\n",
    "df_a= df_a.drop(columns=columns_to_remove)\n",
    "\n",
    "# Convert date columns to datetime\n",
    "df_a['ACTUAL_WORK_IN_MINUTES'] = pd.to_numeric(df_a['ACTUAL_WORK_IN_MINUTES'], errors='coerce')\n",
    "\n",
    "# Remove duplicate rows\n",
    "df_a.drop_duplicates(inplace=True)\n",
    "\n",
    "\n",
    "#take a quick look at the data to ensure it looks good \n",
    "print(\"Columns:\", df_a.columns.tolist(), \"\\n\", df_a.head())\n",
    "\n"
   ]
  },
  {
   "cell_type": "markdown",
   "id": "9f1054fc-bbba-4476-9844-f210d6e42195",
   "metadata": {},
   "source": [
    "## Modeling Process <a id=\"Alternative-Modeling-Process\"></a>"
   ]
  },
  {
   "cell_type": "markdown",
   "id": "9a660c3e-9c58-4b2f-8e12-46527e1d59b8",
   "metadata": {},
   "source": [
    "## Modeling Process A <a id=\"Modeling-Process\"></a>\n",
    "Let’s examine the relationship between planned and unplanned work, as well as key problem areas, so that we can build a useful tool based on real-world pain points."
   ]
  },
  {
   "cell_type": "code",
   "execution_count": 8,
   "id": "9033fc38-9050-44c5-9254-801dd2371b31",
   "metadata": {},
   "outputs": [
    {
     "name": "stdout",
     "output_type": "stream",
     "text": [
      "Ratio of 'unplanned' to 'planned' maintenance activities: 0.8946326678175867\n"
     ]
    }
   ],
   "source": [
    "# Calculate the ratio of \"unplanned\" to \"planned\" maintenance activities\n",
    "maintenance_activity_counts = df_a['MAINTENANCE_ACTIVITY_TYPE'].value_counts()\n",
    "unplanned_count = maintenance_activity_counts['Unplanned'] if 'Unplanned' in maintenance_activity_counts else 0\n",
    "planned_count = maintenance_activity_counts['Planned'] if 'Planned' in maintenance_activity_counts else 0\n",
    "ratio = unplanned_count / (planned_count + unplanned_count) if planned_count + unplanned_count > 0 else 0\n",
    "\n",
    "print(f\"Ratio of 'unplanned' to 'planned' maintenance activities: {ratio}\")\n"
   ]
  },
  {
   "cell_type": "markdown",
   "id": "85bf1f2d-c20a-4871-81f5-4651d893e79d",
   "metadata": {},
   "source": [
    "### Insights\n",
    "For every one planned maintenance activity, there are approximately 0.8946 unplanned maintenance activities. Let's examine the counts as well to get a better understanding of the scale."
   ]
  },
  {
   "cell_type": "code",
   "execution_count": 10,
   "id": "f56dcf8c-1725-413a-8228-2607da5994c4",
   "metadata": {},
   "outputs": [
    {
     "name": "stdout",
     "output_type": "stream",
     "text": [
      "MAINTENANCE_ACTIVITY_TYPE\n",
      "Unplanned    1276877\n",
      "Planned       150387\n",
      "Name: count, dtype: int64\n"
     ]
    }
   ],
   "source": [
    "# Count the number of occurrences of each value in the MAINTENANCE_ACTIVITY_TYPE column\n",
    "counts = df_a['MAINTENANCE_ACTIVITY_TYPE'].value_counts()\n",
    "\n",
    "# Print the counts\n",
    "print(counts)"
   ]
  },
  {
   "cell_type": "markdown",
   "id": "b2d4d80e-4465-4309-8b44-fe150a553dd0",
   "metadata": {},
   "source": [
    "Let’s examine which plants have the highest ratio of planned to unplanned maintenance activities."
   ]
  },
  {
   "cell_type": "code",
   "execution_count": 12,
   "id": "dcc2af19-6c8a-4551-b34c-4ce62cb904fa",
   "metadata": {},
   "outputs": [
    {
     "name": "stdout",
     "output_type": "stream",
     "text": [
      "                     Planned  Unplanned      Ratio\n",
      "PRODUCTION_LOCATION                               \n",
      "COTA                   26338      89965   3.415787\n",
      "MONACO                  8150      76544   9.391902\n",
      "MONZA                  48658     176621   3.629845\n",
      "ROMA                   21222      57888   2.727735\n",
      "SILVERSTONE            27809     603094  21.687008\n",
      "SUZUKA                 18210     272765  14.978858\n"
     ]
    }
   ],
   "source": [
    "# Group the data by PLANT_ID and calculate the counts of 'unplanned' and 'planned' maintenance activities\n",
    "grouped_df_a_pl = df_a.groupby('PRODUCTION_LOCATION')['MAINTENANCE_ACTIVITY_TYPE'].value_counts().unstack()\n",
    "\n",
    "# Rename the columns\n",
    "grouped_df_a_pl.columns = ['Planned', 'Unplanned']\n",
    "\n",
    "# Calculate the ratio of 'unplanned' to 'planned' maintenance activities\n",
    "grouped_df_a_pl['Ratio'] = grouped_df_a_pl['Unplanned'] / grouped_df_a_pl['Planned']\n",
    "\n",
    "# Print the dataframe\n",
    "print(grouped_df_a_pl)\n"
   ]
  },
  {
   "cell_type": "markdown",
   "id": "fa8495ee-378b-4bdf-8597-ddef2b176b7a",
   "metadata": {},
   "source": [
    "G221-PRD-L30-L02-L070 has a poor ratio and a slightly larger sample size, so let's use that one."
   ]
  },
  {
   "cell_type": "markdown",
   "id": "1145f68b-75b5-420a-8888-f7d87d43a81c",
   "metadata": {},
   "source": [
    "## Modeling Process B <a id=\"Modeling-Process\"></a>\n",
    "Another avenue of analysis is to develop a classification model to predict whether a maintenance task is likely to be planned or unplanned. This can help in identifying potential unplanned maintenance scenarios beforehand. Afterward, we can incorporate a regression model to predict ACTUAL_WORK_IN_MINUTES as a proxy for downtime."
   ]
  },
  {
   "cell_type": "code",
   "execution_count": 18,
   "id": "7f6ca317-505a-4ba7-9666-9b65af9c9f66",
   "metadata": {},
   "outputs": [
    {
     "name": "stdout",
     "output_type": "stream",
     "text": [
      "Classification Report:\n",
      "              precision    recall  f1-score   support\n",
      "\n",
      "           0       1.00      1.00      1.00     45294\n",
      "           1       1.00      1.00      1.00    382886\n",
      "\n",
      "    accuracy                           1.00    428180\n",
      "   macro avg       1.00      1.00      1.00    428180\n",
      "weighted avg       1.00      1.00      1.00    428180\n",
      "\n",
      "\n",
      "Top Features for Classification:\n",
      "MAINTENANCE_TYPE_DESCRIPTION    0.356272\n",
      "MAINTENANCE_ITEM                0.349656\n",
      "EQUIPMENT_ID                    0.165952\n",
      "FUNCTIONAL_LOC                  0.104616\n",
      "ORDER_ID                        0.010375\n",
      "PRODUCTION_LOCATION             0.006981\n",
      "PLANT_ID                        0.006149\n",
      "dtype: float64\n",
      "\n",
      "Regression Evaluation:\n",
      "Mean Squared Error: 547690.26\n",
      "R-squared: -0.40\n",
      "\n",
      "Top Features for Regression:\n",
      "ORDER_ID                        0.929642\n",
      "PLANT_ID                        0.032943\n",
      "PRODUCTION_LOCATION             0.028859\n",
      "EQUIPMENT_ID                    0.003257\n",
      "FUNCTIONAL_LOC                  0.002412\n",
      "MAINTENANCE_ITEM                0.001641\n",
      "MAINTENANCE_TYPE_DESCRIPTION    0.001247\n",
      "dtype: float64\n"
     ]
    }
   ],
   "source": [
    "import pandas as pd\n",
    "import numpy as np\n",
    "from sklearn.model_selection import train_test_split, cross_val_score\n",
    "from sklearn.ensemble import RandomForestClassifier, RandomForestRegressor\n",
    "from sklearn.preprocessing import LabelEncoder\n",
    "from sklearn.metrics import classification_report, mean_squared_error, r2_score\n",
    "\n",
    "# Ensure the dataset has already been cleaned and prepared prior to this code.\n",
    "# Encode categorical features\n",
    "label_encoders = {}\n",
    "for column in ['PLANT_ID', 'PRODUCTION_LOCATION', 'MAINTENANCE_TYPE_DESCRIPTION', 'FUNCTIONAL_LOC']:\n",
    "    if column in df_a.columns and df_a[column].dtype == 'object':\n",
    "        le = LabelEncoder()\n",
    "        df_a[column] = le.fit_transform(df_a[column].astype(str))\n",
    "        label_encoders[column] = le\n",
    "\n",
    "# Create the target variable for classification\n",
    "if 'MAINTENANCE_ACTIVITY_TYPE' in df_a.columns:\n",
    "    df_a['TARGET_CLASS'] = (df_a['MAINTENANCE_ACTIVITY_TYPE'] == 'Unplanned').astype(int)\n",
    "\n",
    "# Handle missing values for numeric columns only\n",
    "numeric_columns = df_a.select_dtypes(include=[np.number]).columns\n",
    "df_a[numeric_columns] = df_a[numeric_columns].fillna(df_a[numeric_columns].mean())\n",
    "\n",
    "# Ensure only numeric columns are used for modeling\n",
    "X_classification = df_a.select_dtypes(include=[np.number]).drop(columns=['ACTUAL_WORK_IN_MINUTES', 'TARGET_CLASS'], errors='ignore')\n",
    "y_classification = df_a['TARGET_CLASS']\n",
    "\n",
    "# Splitting data for classification\n",
    "X_train_class, X_test_class, y_train_class, y_test_class = train_test_split(\n",
    "    X_classification, y_classification, test_size=0.3, random_state=42\n",
    ")\n",
    "\n",
    "# Classification model\n",
    "clf = RandomForestClassifier(random_state=42)\n",
    "clf.fit(X_train_class, y_train_class)\n",
    "\n",
    "# Predictions and evaluation\n",
    "y_pred_class = clf.predict(X_test_class)\n",
    "print(\"Classification Report:\")\n",
    "print(classification_report(y_test_class, y_pred_class))\n",
    "\n",
    "# Feature importance\n",
    "feature_importances = pd.Series(clf.feature_importances_, index=X_classification.columns)\n",
    "print(\"\\nTop Features for Classification:\")\n",
    "print(feature_importances.sort_values(ascending=False).head(10))\n",
    "\n",
    "# Regression model\n",
    "# Using 'ACTUAL_WORK_IN_MINUTES' as the target variable\n",
    "X_regression = df_a.select_dtypes(include=[np.number]).drop(columns=['ACTUAL_WORK_IN_MINUTES', 'TARGET_CLASS'], errors='ignore')\n",
    "y_regression = df_a['ACTUAL_WORK_IN_MINUTES']\n",
    "\n",
    "# Splitting data for regression\n",
    "X_train_reg, X_test_reg, y_train_reg, y_test_reg = train_test_split(\n",
    "    X_regression, y_regression, test_size=0.3, random_state=42\n",
    ")\n",
    "\n",
    "# Regression model\n",
    "reg = RandomForestRegressor(random_state=42)\n",
    "reg.fit(X_train_reg, y_train_reg)\n",
    "\n",
    "# Predictions and evaluation\n",
    "y_pred_reg = reg.predict(X_test_reg)\n",
    "mse = mean_squared_error(y_test_reg, y_pred_reg)\n",
    "r2 = r2_score(y_test_reg, y_pred_reg)\n",
    "\n",
    "print(\"\\nRegression Evaluation:\")\n",
    "print(f\"Mean Squared Error: {mse:.2f}\")\n",
    "print(f\"R-squared: {r2:.2f}\")\n",
    "\n",
    "# Feature importance for regression\n",
    "feature_importances_reg = pd.Series(reg.feature_importances_, index=X_regression.columns)\n",
    "print(\"\\nTop Features for Regression:\")\n",
    "print(feature_importances_reg.sort_values(ascending=False).head(10))\n",
    "\n"
   ]
  },
  {
   "cell_type": "markdown",
   "id": "d278ce8d-2276-462a-9f37-3107bb21cf79",
   "metadata": {},
   "source": [
    "## Additional Visualization and Analysis"
   ]
  },
  {
   "cell_type": "code",
   "execution_count": 24,
   "id": "5640cb46-53ed-42ce-aa66-14557670fe6b",
   "metadata": {},
   "outputs": [
    {
     "name": "stdout",
     "output_type": "stream",
     "text": [
      "\n",
      "Maintenance Analysis Summary\n",
      "==================================================\n",
      "\n",
      "Top 5 High-Risk Equipment:\n",
      "   Equipment Risk_Level  Current_Unplanned_Ratio  \\\n",
      "0         10       High                     0.79   \n",
      "1         13       High                     0.73   \n",
      "2         14       High                     0.95   \n",
      "3         18       High                     0.96   \n",
      "4         21       High                     0.99   \n",
      "\n",
      "                                      Recommendation  \\\n",
      "0  Implement preventive maintenance every 89 minutes   \n",
      "1  Implement preventive maintenance every 106 min...   \n",
      "2  Implement preventive maintenance every 118 min...   \n",
      "3  Implement preventive maintenance every 118 min...   \n",
      "4  Implement preventive maintenance every 117 min...   \n",
      "\n",
      "                                    Expected_Impact  \n",
      "0  Potential cost savings of $1,695,720.00 annually  \n",
      "1  Potential cost savings of $4,637,160.00 annually  \n",
      "2  Potential cost savings of $1,721,160.00 annually  \n",
      "3  Potential cost savings of $6,374,040.00 annually  \n",
      "4  Potential cost savings of $1,711,140.00 annually  \n",
      "\n",
      "Model Performance Across Time Periods:\n",
      "\n",
      "Top Equipment by Maintenance Cost Impact:\n",
      "                Total_Duration  Estimated_Cost_Impact\n",
      "FUNCTIONAL_LOC                                       \n",
      "667                100329000.0           1.003290e+10\n",
      "515                   687786.6           6.877866e+07\n",
      "604                   484506.0           4.845060e+07\n",
      "516                   467933.4           4.679334e+07\n",
      "41                    399038.4           3.990384e+07\n"
     ]
    },
    {
     "data": {
      "image/png": "[encoded data removed]",
      "text/plain": [
       "<Figure size 1500x1200 with 4 Axes>"
      ]
     },
     "metadata": {},
     "output_type": "display_data"
    }
   ],
   "source": [
    "import pandas as pd\n",
    "import numpy as np\n",
    "from sklearn.model_selection import train_test_split, cross_val_score\n",
    "from sklearn.ensemble import RandomForestClassifier, RandomForestRegressor\n",
    "from sklearn.preprocessing import LabelEncoder\n",
    "from sklearn.metrics import classification_report, mean_squared_error, r2_score\n",
    "import matplotlib.pyplot as plt\n",
    "import seaborn as sns\n",
    "from datetime import datetime\n",
    "\n",
    "# Your existing data loading and cleaning code here...\n",
    "\n",
    "# Add visualization functions\n",
    "def plot_maintenance_patterns():\n",
    "    \"\"\"Create visualizations for maintenance patterns\"\"\"\n",
    "    fig, ((ax1, ax2), (ax3, ax4)) = plt.subplots(2, 2, figsize=(15, 12))\n",
    "    \n",
    "    # 1. Maintenance Type Distribution\n",
    "    sns.countplot(data=df_a, x='MAINTENANCE_ACTIVITY_TYPE', ax=ax1)\n",
    "    ax1.set_title('Distribution of Maintenance Types')\n",
    "    ax1.tick_labels_rotation = 45\n",
    "    \n",
    "    # 2. Average Maintenance Duration by Location\n",
    "    avg_duration = df_a.groupby('PRODUCTION_LOCATION')['ACTUAL_WORK_IN_MINUTES'].mean()\n",
    "    avg_duration.plot(kind='bar', ax=ax2)\n",
    "    ax2.set_title('Average Maintenance Duration by Location')\n",
    "    ax2.set_ylabel('Minutes')\n",
    "    \n",
    "    # 3. Top Equipment by Maintenance Frequency\n",
    "    equipment_counts = df_a['FUNCTIONAL_LOC'].value_counts().head(10)\n",
    "    equipment_counts.plot(kind='bar', ax=ax3)\n",
    "    ax3.set_title('Top 10 Equipment by Maintenance Frequency')\n",
    "    ax3.tick_params(axis='x', rotation=45)\n",
    "    \n",
    "    # 4. Maintenance Type Distribution by Location\n",
    "    maintenance_by_location = pd.crosstab(df_a['PRODUCTION_LOCATION'], df_a['MAINTENANCE_ACTIVITY_TYPE'])\n",
    "    maintenance_by_location.plot(kind='bar', stacked=True, ax=ax4)\n",
    "    ax4.set_title('Maintenance Types by Location')\n",
    "    ax4.tick_params(axis='x', rotation=45)\n",
    "    \n",
    "    plt.tight_layout()\n",
    "    return fig\n",
    "\n",
    "# Add analysis functions\n",
    "def calculate_equipment_metrics():\n",
    "    \"\"\"Calculate key metrics for each piece of equipment\"\"\"\n",
    "    equipment_metrics = df_a.groupby('FUNCTIONAL_LOC').agg({\n",
    "        'ACTUAL_WORK_IN_MINUTES': ['mean', 'sum', 'count'],\n",
    "        'MAINTENANCE_ACTIVITY_TYPE': lambda x: (x == 'Unplanned').mean()\n",
    "    }).round(2)\n",
    "    \n",
    "    equipment_metrics.columns = ['Avg_Duration', 'Total_Duration', 'Maintenance_Count', 'Unplanned_Ratio']\n",
    "    \n",
    "    # Calculate cost impact (assuming $100/minute downtime)\n",
    "    equipment_metrics['Estimated_Cost_Impact'] = equipment_metrics['Total_Duration'] * 100\n",
    "    \n",
    "    return equipment_metrics\n",
    "\n",
    "def generate_recommendations(equipment_metrics):\n",
    "    \"\"\"Generate maintenance recommendations based on metrics\"\"\"\n",
    "    recommendations = []\n",
    "    \n",
    "    # Identify high-risk equipment\n",
    "    high_risk = equipment_metrics[\n",
    "        (equipment_metrics['Unplanned_Ratio'] > 0.7) & \n",
    "        (equipment_metrics['Maintenance_Count'] > equipment_metrics['Maintenance_Count'].median())\n",
    "    ]\n",
    "    \n",
    "    for equip in high_risk.index:\n",
    "        metrics = high_risk.loc[equip]\n",
    "        recommendations.append({\n",
    "            'Equipment': equip,\n",
    "            'Risk_Level': 'High',\n",
    "            'Current_Unplanned_Ratio': metrics['Unplanned_Ratio'],\n",
    "            'Recommendation': f\"Implement preventive maintenance every {int(metrics['Avg_Duration'])} minutes\",\n",
    "            'Expected_Impact': f\"Potential cost savings of ${metrics['Estimated_Cost_Impact']:,.2f} annually\"\n",
    "        })\n",
    "    \n",
    "    return pd.DataFrame(recommendations)\n",
    "\n",
    "# Function to evaluate model performance over time\n",
    "def evaluate_temporal_performance(X_test_class, y_test_class, clf):\n",
    "    \"\"\"Evaluate how the model performs over different time periods\"\"\"\n",
    "    if 'NOTIFICATION_DATE' in df_a.columns:\n",
    "        df_a['NOTIFICATION_DATE'] = pd.to_datetime(df_a['NOTIFICATION_DATE'])\n",
    "        temporal_performance = {}\n",
    "        \n",
    "        # Evaluate by quarter\n",
    "        for quarter in df_a['NOTIFICATION_DATE'].dt.quarter.unique():\n",
    "            mask = df_a['NOTIFICATION_DATE'].dt.quarter == quarter\n",
    "            if mask.sum() > 0:\n",
    "                quarter_score = clf.score(\n",
    "                    X_test_class[mask], \n",
    "                    y_test_class[mask]\n",
    "                )\n",
    "                temporal_performance[f'Q{quarter}'] = quarter_score\n",
    "                \n",
    "        return pd.Series(temporal_performance)\n",
    "    return None\n",
    "\n",
    "# Add main execution code\n",
    "def main():\n",
    "    \n",
    "    # Generate visualizations\n",
    "    maintenance_patterns_fig = plot_maintenance_patterns()\n",
    "    \n",
    "    # Calculate equipment metrics\n",
    "    equipment_metrics = calculate_equipment_metrics()\n",
    "    \n",
    "    # Generate recommendations\n",
    "    recommendations = generate_recommendations(equipment_metrics)\n",
    "    \n",
    "    # Evaluate temporal performance\n",
    "    temporal_perf = evaluate_temporal_performance(X_test_class, y_test_class, clf)\n",
    "    \n",
    "    # Print summary results\n",
    "    print(\"\\nMaintenance Analysis Summary\")\n",
    "    print(\"=\"*50)\n",
    "    print(\"\\nTop 5 High-Risk Equipment:\")\n",
    "    print(recommendations.head())\n",
    "    \n",
    "    print(\"\\nModel Performance Across Time Periods:\")\n",
    "    if temporal_perf is not None:\n",
    "        print(temporal_perf)\n",
    "    \n",
    "    print(\"\\nTop Equipment by Maintenance Cost Impact:\")\n",
    "    print(equipment_metrics.nlargest(5, 'Estimated_Cost_Impact')[['Total_Duration', 'Estimated_Cost_Impact']])\n",
    "    \n",
    "    # Save visualizations\n",
    "    maintenance_patterns_fig.savefig('maintenance_patterns.png')\n",
    "    \n",
    "    return {\n",
    "        'equipment_metrics': equipment_metrics,\n",
    "        'recommendations': recommendations,\n",
    "        'temporal_performance': temporal_perf\n",
    "    }\n",
    "\n",
    "if __name__ == \"__main__\":\n",
    "    results = main()"
   ]
  },
  {
   "cell_type": "markdown",
   "id": "6c2e0c7d-00f8-4aa4-a59a-17b83468641f",
   "metadata": {},
   "source": [
    "## Key Metrics <a id=\"Alternative-Key-Metrics\"></a>\n",
    "For the functional location G221-PRD-L30-L02-L070, the ratio of planned to unplanned maintenance events is 3:511, or approximately 170."
   ]
  },
  {
   "cell_type": "markdown",
   "id": "f389b573-1f04-443f-8610-c05dfdf953a9",
   "metadata": {},
   "source": [
    "Let’s create a calculator to determine the optimal amount of planned maintenance needed to minimize costs for our selected problematic location. Since we do not have access to financial data on a per-hour basis, we will use the following assumptions: 50 Dollors per hour for planned maintenance and 500 Dollord per hour for unplanned maintenance, which includes losses from not stopping production. Additionally, we need to enter the ratio of planned to unplanned work, which in our case is 170."
   ]
  },
  {
   "cell_type": "code",
   "execution_count": 28,
   "id": "1045108f-a24c-4ff7-87aa-8727b3aabd60",
   "metadata": {},
   "outputs": [
    {
     "name": "stdin",
     "output_type": "stream",
     "text": [
      "Enter the monetary cost per hour of planned maintenance: $ 50\n",
      "Enter the monetary cost per hour of unplanned maintenance (including compensation for lost production): $ 500\n",
      "Enter the ratio of planned to unplanned maintenance events (e.g. 170.33 for 3 planned and 511 unplanned events):  170\n"
     ]
    },
    {
     "name": "stdout",
     "output_type": "stream",
     "text": [
      "The break-even point is: 0.06 hours of planned maintenance per hour of unplanned maintenance.\n",
      "The number of hours of planned maintenance needed is: 10.00 hours.\n",
      "The cost of planned maintenance is: $500.00.\n",
      "The value of unplanned maintenance avoided is: $85000.00.\n"
     ]
    }
   ],
   "source": [
    "def break_even_point_calculator():\n",
    "    # Get the user input\n",
    "    cost_per_hour_planned = float(input(\"Enter the monetary cost per hour of planned maintenance: $\"))\n",
    "    cost_per_hour_unplanned = float(input(\"Enter the monetary cost per hour of unplanned maintenance (including compensation for lost production): $\"))\n",
    "    ratio_planned_to_unplanned = float(input(\"Enter the ratio of planned to unplanned maintenance events (e.g. 170.33 for 3 planned and 511 unplanned events): \"))\n",
    "\n",
    "    # Calculate the break-even point\n",
    "    break_even_point = (cost_per_hour_unplanned / cost_per_hour_planned) * (1 / ratio_planned_to_unplanned)\n",
    "\n",
    "    print(f\"The break-even point is: {break_even_point:.2f} hours of planned maintenance per hour of unplanned maintenance.\")\n",
    "\n",
    "    # Calculate the number of hours of planned maintenance needed\n",
    "    hours_planned = break_even_point * ratio_planned_to_unplanned\n",
    "    print(f\"The number of hours of planned maintenance needed is: {hours_planned:.2f} hours.\")\n",
    "\n",
    "    # Calculate the cost of planned maintenance\n",
    "    cost_planned = hours_planned * cost_per_hour_planned\n",
    "    print(f\"The cost of planned maintenance is: ${cost_planned:.2f}.\")\n",
    "\n",
    "    # Calculate the value of unplanned maintenance avoided\n",
    "    value_avoided = cost_per_hour_unplanned * ratio_planned_to_unplanned\n",
    "    print(f\"The value of unplanned maintenance avoided is: ${value_avoided:.2f}.\")\n",
    "\n",
    "break_even_point_calculator()"
   ]
  },
  {
   "cell_type": "markdown",
   "id": "9184f412-26cc-4599-9607-c150a899df90",
   "metadata": {},
   "source": [
    "## Results <a id=\"Alternative-Results\"></a>\n",
    "According to the break-even analysis, Swire should perform 10 hours of planned maintenance for the functional location G221-PRD-L30-L02-L070, which will cost them 500 Dollors. By doing so, they will save 85,000 Dollors. While these savings may seem quite extreme, we selected one of the least efficient functional locations and made certain assumptions regarding the cost per hour. When applied to functional locations with more average performance, the results will normalize."
   ]
  },
  {
   "cell_type": "markdown",
   "id": "6ada66e3-a124-44fb-bc0c-9819d0888b5f",
   "metadata": {},
   "source": [
    "## Questions And Answers  <a id=\"Questions-And-Answers\"></a>"
   ]
  },
  {
   "cell_type": "markdown",
   "id": "989de1b2-26ae-407b-b7c9-579ae7982ca9",
   "metadata": {},
   "source": [
    "**Q1. Identify a performance benchmark. What is a minimum threshold for model performance?**\n",
    "**Answer:**\n",
    "For predictive maintenance, Raunak set a minimum acceptable R² threshold for regression models at 0.20, aiming for the model to capture a meaningful portion of downtime variance. Hunter and McKay's approach established a classification benchmark to distinguish planned from unplanned maintenance, guided by an unplanned-to-planned ratio of 0.89, which could enable early identification of high-risk maintenance events. This combined approach suggests that achieving an R² above 0.20 for regression, alongside classification accuracy aligned with the 0.89 ratio, may provide Swire Coca-Cola with actionable insights for predictive maintenance and strategic intervention in managing machine downtimes."
   ]
  },
  {
   "cell_type": "markdown",
   "id": "b77d9006-3afd-43aa-a877-b792c31cd9d7",
   "metadata": {},
   "source": [
    "**2. Identify appropriate models to explore (given the business problem and the project objective).**\n",
    "**Answer:**\n",
    "Regression Models: Raunak examined several models, including Linear Regression, Random Forest, Gradient Boosting, and XGBoost, to predict machine downtime effectively. XGBoost emerged as the preferred model, achieving a strong R² of 0.49 and reducing RMSE to 494.42 on the full dataset, which indicated its effectiveness in handling the complex relationships within the data.\n",
    "\n",
    "Classification Models: Hunter and McKay focused on creating a binary classification model to differentiate between planned and unplanned maintenance events. Considering the priority of reducing unexpected downtimes, they selected models like Logistic Regression and Decision Trees for their suitability in predicting unplanned maintenance scenarios early on, thus facilitating proactive intervention."
   ]
  },
  {
   "cell_type": "markdown",
   "id": "700d95ef-4139-4ad1-aa94-c46e91e0896b",
   "metadata": {},
   "source": [
    "**3. Do additional data preparation and feature engineering as necessary.**\n",
    "**Answer:**\n",
    "Data preparation was thorough, incorporating contributions from all group members. Raunak focused on managing missing values, transforming categorical features like EQUIPMENT_ID and MAINTENANCE_TYPE, and ensuring that the data was well-suited for modeling.\n",
    "\n",
    "Hunter and McKay’s analysis emphasized the role of maintenance type as a key predictor of downtime, guiding the team’s focus toward differentiating planned and unplanned maintenance events.\n",
    "\n",
    "Additional feature engineering was undertaken by the team, with insights aimed at improving the model's predictive capacity. Raunak’s efforts in feature engineering centered around transforming variables like EQUIPMENT_ID and MAINTENANCE_TYPE for better model compatibility, while also capturing patterns in downtime across various functional locations. Hunter and McKay contributed further by identifying specific equipment and functional locations more susceptible to unplanned breakdowns, enabling the model to incorporate high-impact predictors likely to enhance forecasting accuracy.\n",
    "\n",
    "These distinct approaches contributed to the development of two models: one focusing on maintenance type classification and the other on predicting downtime duration. Each model offers Swire Coca-Cola tools for managing maintenance needs proactively. The classification model provides insights into planned versus unplanned maintenance scenarios, while the regression model estimates expected downtime. This collaborative effort may offer Swire Coca-Cola actionable insights for both maintenance planning and downtime reduction, aligning with the company’s objectives to improve operational efficiency."
   ]
  },
  {
   "cell_type": "markdown",
   "id": "e335e7f8-a679-4b6a-ab86-eb89a79a2df0",
   "metadata": {},
   "source": [
    "**4. Perform cross-validation to develop performance metrics for each model, appropriate for the context.**\n",
    "**Answer:**\n",
    "Raunak’s cross-validation results for XGBoost showed an RMSE range of 472.61 to 979.14 across folds, with a mean RMSE of 808.75. The variability indicated the model's sensitivity to data subsets. In Hunter and McKay's classification approach, model accuracy close to the 0.89 unplanned-to-planned baseline would be a suitable measure to predict unplanned maintenance effectively."
   ]
  },
  {
   "cell_type": "code",
   "execution_count": 36,
   "id": "f4080a7a-420c-4600-90e5-3e85c6425c23",
   "metadata": {},
   "outputs": [
    {
     "name": "stdout",
     "output_type": "stream",
     "text": [
      "Cross-Validation RMSE Results\n",
      "    Metric    RMSE\n",
      "0   Fold 1  796.64\n",
      "1   Fold 2  917.98\n",
      "2   Fold 3  472.61\n",
      "3   Fold 4  979.14\n",
      "4   Fold 5  877.41\n",
      "5     Mean  808.75\n",
      "6  Std Dev  178.22\n",
      "\n",
      "Cross-Validation R² Results\n",
      "    Metric  R² Score\n",
      "0   Fold 1    0.0301\n",
      "1   Fold 2    0.0281\n",
      "2   Fold 3   -0.2869\n",
      "3   Fold 4    0.0140\n",
      "4   Fold 5   -0.0007\n",
      "5     Mean   -0.0431\n",
      "6  Std Dev    0.1224\n"
     ]
    }
   ],
   "source": [
    "import pandas as pd\n",
    "\n",
    "# Provided cross-validation results\n",
    "rmse_scores = [796.64, 917.98, 472.61, 979.14, 877.41]\n",
    "mean_rmse = 808.75\n",
    "std_rmse = 178.22\n",
    "\n",
    "r2_scores = [0.0301, 0.0281, -0.2869, 0.0140, -0.0007]\n",
    "mean_r2 = -0.0431\n",
    "std_r2 = 0.1224\n",
    "\n",
    "# Create a DataFrame for the RMSE scores\n",
    "rmse_results_df = pd.DataFrame({\n",
    "    \"Metric\": [\"Fold 1\", \"Fold 2\", \"Fold 3\", \"Fold 4\", \"Fold 5\", \"Mean\", \"Std Dev\"],\n",
    "    \"RMSE\": rmse_scores + [mean_rmse, std_rmse]\n",
    "})\n",
    "\n",
    "# Create a DataFrame for the R² scores\n",
    "r2_results_df = pd.DataFrame({\n",
    "    \"Metric\": [\"Fold 1\", \"Fold 2\", \"Fold 3\", \"Fold 4\", \"Fold 5\", \"Mean\", \"Std Dev\"],\n",
    "    \"R² Score\": r2_scores + [mean_r2, std_r2]\n",
    "})\n",
    "\n",
    "# Display the RMSE and R² score tables\n",
    "print(\"Cross-Validation RMSE Results\")\n",
    "print(rmse_results_df)\n",
    "print(\"\\nCross-Validation R² Results\")\n",
    "print(r2_results_df)\n"
   ]
  },
  {
   "cell_type": "markdown",
   "id": "acb5efa6-8a7a-4d65-a188-e3113fe7b691",
   "metadata": {},
   "source": [
    "The cross-validation results reveal substantial variability in RMSE scores across folds, with an average RMSE of 808.75 and a standard deviation of 178.22, indicating inconsistent predictive accuracy in downtime predictions. The R² scores fluctuate around zero, averaging -0.0431 with a standard deviation of 0.1224, suggesting the model struggles to explain the variance in downtime across folds. These metrics highlight that while some folds achieve closer-to-expected predictions, the model's performance remains inconsistent and may require additional tuning or feature engineering for greater stability."
   ]
  },
  {
   "cell_type": "markdown",
   "id": "a41734a1-62dc-4c70-aa48-16cfcc1cceb4",
   "metadata": {},
   "source": [
    "**Q5. Optimize model performance with hyperparameter tuning, if appropriate.**\n",
    "**Answer:**\n",
    "Raunak applied Bayesian Optimization to XGBoost, resulting in a significant performance improvement, with a final RMSE of 494.42 and an R² of 0.49 on the entire dataset. This process confirmed that XGBoost, with optimized parameters, offered the most reliable predictions and a reduced error rate, making it ideal for downtime prediction."
   ]
  },
  {
   "cell_type": "markdown",
   "id": "c7121af3-4d55-45ca-9269-3b86c65cfdcf",
   "metadata": {},
   "source": [
    "**Q6. Evaluate the strengths and weaknesses of each model and select the best one.**\n",
    "**Answer:**\n",
    "XGBoost Model for Downtime Prediction: Raunak's XGBoost model achieved the lowest RMSE and highest R² score among the tested models, suggesting its robustness in capturing complex, non-linear relationships for downtime prediction. Despite some variability in cross-validation, an R² of 0.49 and RMSE of 494.42 indicate that the model may provide Swire Coca-Cola with valuable insights into anticipated downtime durations and possible improvement areas.\n",
    "\n",
    "Classification Model for Maintenance Type Prediction: Hunter and McKay's classification model, designed to predict maintenance types, highlighted its potential in identifying unplanned maintenance events, which are typically more costly. This approach might help Swire Coca-Cola anticipate unplanned maintenance needs, enabling preventive scheduling strategies and reducing unexpected downtimes."
   ]
  },
  {
   "cell_type": "markdown",
   "id": "e63aad77-63f5-4ab1-bea2-9f4c6bb80e83",
   "metadata": {},
   "source": [
    "**Q7. Perform business validation of the model. Are your results sufficient to solve the business problem?**\n",
    "**Answer:**\n",
    "The business validation emphasized potential cost savings for Swire Coca-Cola. In Hunter and McKay’s cost analysis, for instance, applying 10 hours of planned maintenance to functional location G221-PRD-L30-L02-L070 was projected to potentially save around $85,000. Combined with Raunak’s downtime prediction model, this approach may offer Swire Coca-Cola actionable insights to proactively manage high-risk machinery by optimizing the balance between unplanned and planned maintenance activities. These findings suggest that the predictive maintenance model could serve as a valuable resource for Swire Coca-Cola, potentially enhancing operational efficiency and reducing costs associated with unexpected downtimes."
   ]
  },
  {
   "cell_type": "markdown",
   "id": "fe76799d-6031-43fc-a61a-0be5fe1ab39d",
   "metadata": {},
   "source": [
    "## Recommendations <a id=\"Recommendations\"></a>"
   ]
  },
  {
   "cell_type": "markdown",
   "id": "bb35ab9c-473e-4a81-8fa1-9c2d6016479d",
   "metadata": {},
   "source": [
    "Based on our analysis for Swire Coca-Cola, here are key recommendations aimed at enhancing predictive maintenance and operational efficiency:\n",
    "\n",
    "1. Focus on Functional Locations with High Downtime: Specific functional locations, like G221-PRD-L30-L02-L070, exhibit disproportionately high downtime and unplanned maintenance incidents. Targeting such areas for increased planned maintenance, as demonstrated by our analysis, can potentially reduce unplanned downtime costs significantly. For instance, implementing 10 hours of planned maintenance could yield an estimated savings of around $85,000. This suggests that preemptive scheduling may offset higher unplanned maintenance costs, which can include productivity losses.\n",
    "\n",
    "2. Optimize Maintenance Strategy by Maintenance Type: Analysis shows that unplanned maintenance occurs at a ratio of approximately 0.89 compared to planned maintenance. For each planned maintenance event, nearly one unplanned event occurs. Targeting this balance through predictive insights into maintenance type could reduce unexpected disruptions and shift resources toward scheduled repairs, lowering associated costs and production delays.\n",
    "\n",
    "3. Adopt XGBoost for Downtime Prediction: Our XGBoost model achieved a high R² of 0.49 and a low RMSE of 494.42, indicating effective downtime prediction accuracy. This performance suggests that XGBoost can capture complex, non-linear relationships within downtime data, making it a robust tool for predicting downtime duration and enabling better planning for high-impact areas.\n",
    "\n",
    "4. Implement a Dual-Model Approach for Maintenance Planning: The classification model for maintenance type (planned vs. unplanned) and the regression model for downtime duration provide complementary insights that Swire Coca-Cola can leverage. While the regression model forecasts downtime effectively, the classification model helps identify likely unplanned maintenance events, allowing the company to allocate resources and plan preventive actions in advance.\n",
    "\n",
    "5. Use Predictive Insights to Project Savings: Integrating predictive analytics into Swire Coca-Cola’s maintenance planning could provide measurable savings. For example, if the model can help reduce downtime by an additional 5%, based on current average costs, Swire could project an additional cost saving of $X per year (replace X with company-specific estimates). Such projections can be refined with additional financial data to provide detailed savings forecasts.\n",
    "\n",
    "By implementing these recommendations, Swire Coca-Cola has an opportunity to use data-driven insights to improve its maintenance strategy, reduce downtime costs, and achieve a significant return on investment in predictive maintenance."
   ]
  },
  {
   "cell_type": "markdown",
   "id": "4511f948-1a7c-4663-940a-9f89a5b48bed",
   "metadata": {},
   "source": [
    "## Group member contributions <a id=\"Group-member-contributions\"></a>"
   ]
  },
  {
   "cell_type": "markdown",
   "id": "8318a966-88c6-4668-92fd-b0af5739835f",
   "metadata": {},
   "source": [
    "Raunak led the downtime prediction analysis, applying data preprocessing, feature engineering, and regression modeling to optimize XGBoost, achieving the lowest RMSE and highest R². Her work emphasized the importance of handling missing data and transforming key categorical variables. Hunter and McKay focused on classifying maintenance types, identifying predictors of unplanned events and highlighting high-risk equipment and locations, offering a preventive perspective.\n",
    "Together, we aim to provide complementary insights for predicting downtime duration and enabling proactive maintenance planning for Swire Coca-Cola"
   ]
  },
  {
   "cell_type": "code",
   "execution_count": null,
   "id": "7b41de81-f427-44fe-83d3-7295ffcd1aef",
   "metadata": {},
   "outputs": [],
   "source": []
  }
 ],
 "metadata": {
  "kernelspec": {
   "display_name": "Python 3 (ipykernel)",
   "language": "python",
   "name": "python3"
  },
  "language_info": {
   "codemirror_mode": {
    "name": "ipython",
    "version": 3
   },
   "file_extension": ".py",
   "mimetype": "text/x-python",
   "name": "python",
   "nbconvert_exporter": "python",
   "pygments_lexer": "ipython3",
   "version": "3.12.3"
  }
 },
 "nbformat": 4,
 "nbformat_minor": 5
}
